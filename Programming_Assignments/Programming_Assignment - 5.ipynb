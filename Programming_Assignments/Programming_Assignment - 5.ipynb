{
 "cells": [
  {
   "cell_type": "markdown",
   "id": "ce27a1cf",
   "metadata": {},
   "source": [
    "### 1. Write a Python Program to Find LCM?"
   ]
  },
  {
   "cell_type": "code",
   "execution_count": 1,
   "id": "004217ea",
   "metadata": {},
   "outputs": [],
   "source": [
    "def LCM(num1,num2):\n",
    "    if num1>num2:\n",
    "        greater = num1\n",
    "    else:\n",
    "        greater = num2\n",
    "    \n",
    "    while (True):\n",
    "        if ((greater % num1 == 0) and (greater % num2 == 0)):\n",
    "            lcm = greater\n",
    "            break\n",
    "        greater +=1 \n",
    "    return lcm"
   ]
  },
  {
   "cell_type": "code",
   "execution_count": 2,
   "id": "dad035b5",
   "metadata": {},
   "outputs": [
    {
     "data": {
      "text/plain": [
       "36"
      ]
     },
     "execution_count": 2,
     "metadata": {},
     "output_type": "execute_result"
    }
   ],
   "source": [
    "LCM(12,18)"
   ]
  },
  {
   "cell_type": "markdown",
   "id": "93f4196a",
   "metadata": {},
   "source": [
    "### 2. Write a Python Program to Find HCF?"
   ]
  },
  {
   "cell_type": "code",
   "execution_count": 3,
   "id": "5e80c8fe",
   "metadata": {},
   "outputs": [],
   "source": [
    "def HCF(num1,num2):\n",
    "    if num1<num2:\n",
    "        smaller = num1\n",
    "    else:\n",
    "        smaller = num2\n",
    "    \n",
    "    for i in range(1,smaller+1):\n",
    "        if (num1 % i == 0) and (num2 % i == 0):\n",
    "            hcf = i\n",
    "    return hcf"
   ]
  },
  {
   "cell_type": "code",
   "execution_count": 6,
   "id": "493ee578",
   "metadata": {},
   "outputs": [
    {
     "data": {
      "text/plain": [
       "6"
      ]
     },
     "execution_count": 6,
     "metadata": {},
     "output_type": "execute_result"
    }
   ],
   "source": [
    "HCF(54,24)"
   ]
  },
  {
   "cell_type": "markdown",
   "id": "171e6161",
   "metadata": {},
   "source": [
    "### 3. Write a Python Program to Convert Decimal to Binary, Octal and Hexadecimal?"
   ]
  },
  {
   "cell_type": "code",
   "execution_count": 7,
   "id": "8c098c59",
   "metadata": {},
   "outputs": [],
   "source": [
    "dec = 123"
   ]
  },
  {
   "cell_type": "code",
   "execution_count": 8,
   "id": "4a080423",
   "metadata": {},
   "outputs": [
    {
     "data": {
      "text/plain": [
       "'0o173'"
      ]
     },
     "execution_count": 8,
     "metadata": {},
     "output_type": "execute_result"
    }
   ],
   "source": [
    "oct(dec)"
   ]
  },
  {
   "cell_type": "code",
   "execution_count": 9,
   "id": "a35f2623",
   "metadata": {},
   "outputs": [
    {
     "data": {
      "text/plain": [
       "'0x7b'"
      ]
     },
     "execution_count": 9,
     "metadata": {},
     "output_type": "execute_result"
    }
   ],
   "source": [
    "hex(dec)"
   ]
  },
  {
   "cell_type": "code",
   "execution_count": 10,
   "id": "fddaf8b3",
   "metadata": {},
   "outputs": [
    {
     "data": {
      "text/plain": [
       "'0b1111011'"
      ]
     },
     "execution_count": 10,
     "metadata": {},
     "output_type": "execute_result"
    }
   ],
   "source": [
    "bin(dec)"
   ]
  },
  {
   "cell_type": "markdown",
   "id": "88ab6f66",
   "metadata": {},
   "source": [
    "### 4. Write a Python Program To Find ASCII value of a character?"
   ]
  },
  {
   "cell_type": "code",
   "execution_count": 11,
   "id": "ca40a5f4",
   "metadata": {},
   "outputs": [],
   "source": [
    "n = \"a\""
   ]
  },
  {
   "cell_type": "code",
   "execution_count": 12,
   "id": "49adfe98",
   "metadata": {},
   "outputs": [
    {
     "data": {
      "text/plain": [
       "97"
      ]
     },
     "execution_count": 12,
     "metadata": {},
     "output_type": "execute_result"
    }
   ],
   "source": [
    "ord(n)"
   ]
  },
  {
   "cell_type": "markdown",
   "id": "d965970e",
   "metadata": {},
   "source": [
    "### 5. Write a Python Program to Make a Simple Calculator with 4 basic mathematical operations?"
   ]
  },
  {
   "cell_type": "code",
   "execution_count": 2,
   "id": "72d6bc5f",
   "metadata": {},
   "outputs": [],
   "source": [
    "def Add(n1,n2):\n",
    "    return n1+n2\n",
    "\n",
    "def Sub(n1,n2):\n",
    "    return n1-n2\n",
    "\n",
    "def Mul(n1,n2):\n",
    "    return n1*n2\n",
    "\n",
    "def Div(n1,n2):\n",
    "    return n1/n2"
   ]
  },
  {
   "cell_type": "code",
   "execution_count": 5,
   "id": "58580d10",
   "metadata": {},
   "outputs": [
    {
     "name": "stdout",
     "output_type": "stream",
     "text": [
      "Select any operations \n",
      "1.Addition \n",
      "2.Subration \n",
      "3.Multiplication \n",
      "4.Division\n",
      "select any one (1/2/3/4):2\n",
      "Enter the first number:32\n",
      "Enter the second number:12\n",
      "20\n"
     ]
    }
   ],
   "source": [
    "print(\"Select any operations\",\"\\n1.Addition \\n2.Subration \\n3.Multiplication \\n4.Division\")\n",
    "userinput = int(input(\"select any one (1/2/3/4):\"))\n",
    "\n",
    "\n",
    "if userinput in [1,2,3,4]:\n",
    "    number1 = int(input(\"Enter the first number:\"))\n",
    "    number2 = int(input(\"Enter the second number:\"))\n",
    "        \n",
    "if userinput == 1:\n",
    "    print(Add(number1,number2))\n",
    "        \n",
    "elif userinput ==2:\n",
    "    print(Sub(number1,number2))\n",
    "        \n",
    "elif userinput == 3:\n",
    "    print(Mul(number1,number2))\n",
    "    \n",
    "elif userinput == 4:\n",
    "    print(Div(number1,number2))\n",
    "    \n",
    "else:\n",
    "    print(\"Invalid input\")\n",
    "    "
   ]
  },
  {
   "cell_type": "code",
   "execution_count": null,
   "id": "5f3443ba",
   "metadata": {},
   "outputs": [],
   "source": []
  }
 ],
 "metadata": {
  "kernelspec": {
   "display_name": "Python 3 (ipykernel)",
   "language": "python",
   "name": "python3"
  },
  "language_info": {
   "codemirror_mode": {
    "name": "ipython",
    "version": 3
   },
   "file_extension": ".py",
   "mimetype": "text/x-python",
   "name": "python",
   "nbconvert_exporter": "python",
   "pygments_lexer": "ipython3",
   "version": "3.9.7"
  }
 },
 "nbformat": 4,
 "nbformat_minor": 5
}
