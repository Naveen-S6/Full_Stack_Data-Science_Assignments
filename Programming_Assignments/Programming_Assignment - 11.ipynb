{
 "cells": [
  {
   "cell_type": "markdown",
   "id": "4ecd8498",
   "metadata": {},
   "source": [
    "### 1. Write a Python program to find words which are greater than given length k?"
   ]
  },
  {
   "cell_type": "code",
   "execution_count": 1,
   "id": "7727c9c0",
   "metadata": {},
   "outputs": [],
   "source": [
    "def GreaterLengthWord(word_list, k):\n",
    "    Greater_words = []\n",
    "    for i in word_list:\n",
    "        if len(i) > k:\n",
    "            Greater_words.append(i)\n",
    "    return Greater_words"
   ]
  },
  {
   "cell_type": "code",
   "execution_count": 2,
   "id": "333cdfb7",
   "metadata": {},
   "outputs": [],
   "source": [
    "words = [\"Naveen\",\"Loves\",\"To\",\"Code\",\"in\",\"Python\"]"
   ]
  },
  {
   "cell_type": "code",
   "execution_count": 3,
   "id": "050d7d96",
   "metadata": {},
   "outputs": [
    {
     "data": {
      "text/plain": [
       "['Naveen', 'Loves', 'Python']"
      ]
     },
     "execution_count": 3,
     "metadata": {},
     "output_type": "execute_result"
    }
   ],
   "source": [
    "GreaterLengthWord(words,4)"
   ]
  },
  {
   "cell_type": "markdown",
   "id": "95cbec88",
   "metadata": {},
   "source": [
    "### 2. Write a Python program for removing i-th character from a string?"
   ]
  },
  {
   "cell_type": "code",
   "execution_count": 9,
   "id": "25d5d171",
   "metadata": {},
   "outputs": [],
   "source": [
    "n =\"Naveen is writing this code\""
   ]
  },
  {
   "cell_type": "code",
   "execution_count": 10,
   "id": "036d5b11",
   "metadata": {},
   "outputs": [
    {
     "data": {
      "text/plain": [
       "'Naven is writing this code'"
      ]
     },
     "execution_count": 10,
     "metadata": {},
     "output_type": "execute_result"
    }
   ],
   "source": [
    "n.replace(n[4],\"\",1)"
   ]
  },
  {
   "cell_type": "code",
   "execution_count": 13,
   "id": "cc6bb643",
   "metadata": {},
   "outputs": [],
   "source": [
    "def RemoveCharacter(sentence,index_value):\n",
    "    new_string = sentence.replace(sentence[index_value],\"\",1)\n",
    "    return new_string"
   ]
  },
  {
   "cell_type": "code",
   "execution_count": 14,
   "id": "5b022004",
   "metadata": {},
   "outputs": [
    {
     "data": {
      "text/plain": [
       "'Naeen is writing this code'"
      ]
     },
     "execution_count": 14,
     "metadata": {},
     "output_type": "execute_result"
    }
   ],
   "source": [
    "RemoveCharacter(n,2)"
   ]
  },
  {
   "cell_type": "markdown",
   "id": "f5884ffb",
   "metadata": {},
   "source": [
    "### 3. Write a Python program to split and join a string?"
   ]
  },
  {
   "cell_type": "code",
   "execution_count": 15,
   "id": "d16c3c4c",
   "metadata": {},
   "outputs": [
    {
     "data": {
      "text/plain": [
       "'Naveen is writing this code'"
      ]
     },
     "execution_count": 15,
     "metadata": {},
     "output_type": "execute_result"
    }
   ],
   "source": [
    "n"
   ]
  },
  {
   "cell_type": "code",
   "execution_count": 19,
   "id": "2743b953",
   "metadata": {},
   "outputs": [],
   "source": [
    "new_=n.split(\" \")"
   ]
  },
  {
   "cell_type": "code",
   "execution_count": 20,
   "id": "91e7e5a7",
   "metadata": {},
   "outputs": [
    {
     "data": {
      "text/plain": [
       "['Naveen', 'is', 'writing', 'this', 'code']"
      ]
     },
     "execution_count": 20,
     "metadata": {},
     "output_type": "execute_result"
    }
   ],
   "source": [
    "new_"
   ]
  },
  {
   "cell_type": "code",
   "execution_count": 21,
   "id": "2779cd24",
   "metadata": {},
   "outputs": [
    {
     "data": {
      "text/plain": [
       "'Naveen-is-writing-this-code'"
      ]
     },
     "execution_count": 21,
     "metadata": {},
     "output_type": "execute_result"
    }
   ],
   "source": [
    "'-'.join(new_)"
   ]
  },
  {
   "cell_type": "markdown",
   "id": "89af523c",
   "metadata": {},
   "source": [
    "### 4. Write a Python to check if a given string is binary string or not?"
   ]
  },
  {
   "cell_type": "code",
   "execution_count": 25,
   "id": "ee7f10bd",
   "metadata": {},
   "outputs": [],
   "source": [
    "def CheckBinaryString(ll):\n",
    "    binary_values = {'0','1'}\n",
    "    dv = set(ll)\n",
    "    \n",
    "    if dv == binary_values or dv == {'0'} or dv == {'1'}:\n",
    "        print(\"It is a binary string\")\n",
    "    else:\n",
    "        print(\"It is not a binary string\")"
   ]
  },
  {
   "cell_type": "code",
   "execution_count": 27,
   "id": "5938e28f",
   "metadata": {},
   "outputs": [
    {
     "name": "stdout",
     "output_type": "stream",
     "text": [
      "It is not a binary string\n"
     ]
    }
   ],
   "source": [
    "CheckBinaryString(\"0001110101011011011000012\")"
   ]
  },
  {
   "cell_type": "markdown",
   "id": "a123bb23",
   "metadata": {},
   "source": [
    "### 5. Write a Python program to find uncommon words from two Strings?"
   ]
  },
  {
   "cell_type": "code",
   "execution_count": 56,
   "id": "ac5be9c9",
   "metadata": {},
   "outputs": [],
   "source": [
    "def FindUncommonWords(a,b):\n",
    "    a = a.split()\n",
    "    b = b.split()\n",
    "    \n",
    "    return (set(a)-set(b))|(set(b)-set(a))"
   ]
  },
  {
   "cell_type": "code",
   "execution_count": 51,
   "id": "5da37c95",
   "metadata": {},
   "outputs": [],
   "source": [
    "a = \"Naveen is a Testing Engineer\""
   ]
  },
  {
   "cell_type": "code",
   "execution_count": 52,
   "id": "bd668424",
   "metadata": {},
   "outputs": [],
   "source": [
    "b = \"Naveen is a Student\""
   ]
  },
  {
   "cell_type": "code",
   "execution_count": 57,
   "id": "7a518e9a",
   "metadata": {},
   "outputs": [
    {
     "data": {
      "text/plain": [
       "{'Engineer', 'Student', 'Testing'}"
      ]
     },
     "execution_count": 57,
     "metadata": {},
     "output_type": "execute_result"
    }
   ],
   "source": [
    "FindUncommonWords(a,b)"
   ]
  },
  {
   "cell_type": "markdown",
   "id": "29ce8406",
   "metadata": {},
   "source": [
    "### 6. Write a Python to find all duplicate characters in string?"
   ]
  },
  {
   "cell_type": "code",
   "execution_count": 65,
   "id": "69d75652",
   "metadata": {},
   "outputs": [],
   "source": [
    "def FindDuplicates(new_string):\n",
    "    duplicate_list = []\n",
    "    for i in new_string:\n",
    "        if new_string.count(i) >=2:\n",
    "            if i not in duplicate_list:\n",
    "                if i != \" \":\n",
    "                    duplicate_list.append(i)\n",
    "    return duplicate_list"
   ]
  },
  {
   "cell_type": "code",
   "execution_count": 66,
   "id": "462cbac7",
   "metadata": {},
   "outputs": [
    {
     "data": {
      "text/plain": [
       "['a', 'e', 'n', 'i', 's', 'g']"
      ]
     },
     "execution_count": 66,
     "metadata": {},
     "output_type": "execute_result"
    }
   ],
   "source": [
    "FindDuplicates(a)"
   ]
  },
  {
   "cell_type": "markdown",
   "id": "6096d41e",
   "metadata": {},
   "source": [
    "### 7. Write a Python Program to check if a string contains any special character?"
   ]
  },
  {
   "cell_type": "code",
   "execution_count": 71,
   "id": "580d8161",
   "metadata": {},
   "outputs": [],
   "source": [
    "def CheckSpecialCharacter(new_string):\n",
    "    special_Char =\"[@_!#$%^&*()<>?/\\|}{~:]\"\n",
    "    special_char_list =[]\n",
    "    for i in new_string:\n",
    "        if i in special_Char :\n",
    "            special_char_list.append(i)\n",
    "    \n",
    "    if len(special_char_list)>0:\n",
    "        print(\"Yes!, it has special characters\")\n",
    "    else:\n",
    "        print(\"No!, It doesn't have any special characters\")\n",
    "    return special_char_list\n",
    "        "
   ]
  },
  {
   "cell_type": "code",
   "execution_count": 72,
   "id": "9d7a01aa",
   "metadata": {},
   "outputs": [],
   "source": [
    "new_string = \"Naveen used to make mistakes while using special characters like !,? in his writings\""
   ]
  },
  {
   "cell_type": "code",
   "execution_count": 73,
   "id": "56762d13",
   "metadata": {},
   "outputs": [
    {
     "name": "stdout",
     "output_type": "stream",
     "text": [
      "Yes!, it has special characters\n"
     ]
    },
    {
     "data": {
      "text/plain": [
       "['!', '?']"
      ]
     },
     "execution_count": 73,
     "metadata": {},
     "output_type": "execute_result"
    }
   ],
   "source": [
    "CheckSpecialCharacter(new_string)"
   ]
  },
  {
   "cell_type": "code",
   "execution_count": null,
   "id": "673c1115",
   "metadata": {},
   "outputs": [],
   "source": []
  }
 ],
 "metadata": {
  "kernelspec": {
   "display_name": "Python 3 (ipykernel)",
   "language": "python",
   "name": "python3"
  },
  "language_info": {
   "codemirror_mode": {
    "name": "ipython",
    "version": 3
   },
   "file_extension": ".py",
   "mimetype": "text/x-python",
   "name": "python",
   "nbconvert_exporter": "python",
   "pygments_lexer": "ipython3",
   "version": "3.9.7"
  }
 },
 "nbformat": 4,
 "nbformat_minor": 5
}
