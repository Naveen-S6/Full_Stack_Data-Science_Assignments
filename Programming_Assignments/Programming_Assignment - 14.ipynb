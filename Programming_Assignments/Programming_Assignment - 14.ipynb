{
 "cells": [
  {
   "cell_type": "markdown",
   "id": "0d212d90",
   "metadata": {},
   "source": [
    "### 1. Define a class with a generator which can iterate the numbers, which are divisible by 7, between a given range 0 and n."
   ]
  },
  {
   "cell_type": "code",
   "execution_count": 40,
   "id": "b5e6b9f0",
   "metadata": {},
   "outputs": [],
   "source": [
    "class Numbers:\n",
    "    def __init__(self,n):\n",
    "        self.end = n\n",
    "        \n",
    "    def Generator(self):\n",
    "        for i in range(0, self.end):\n",
    "            if i % 7 == 0:\n",
    "                if i != 0:\n",
    "                    yield i\n",
    "                \n",
    "    def Iterator(self):\n",
    "        for j in self.Generator():\n",
    "            print(j)"
   ]
  },
  {
   "cell_type": "code",
   "execution_count": 41,
   "id": "e6977b83",
   "metadata": {},
   "outputs": [],
   "source": [
    "num = Numbers(100)"
   ]
  },
  {
   "cell_type": "code",
   "execution_count": 42,
   "id": "b6b91347",
   "metadata": {},
   "outputs": [
    {
     "name": "stdout",
     "output_type": "stream",
     "text": [
      "7\n",
      "14\n",
      "21\n",
      "28\n",
      "35\n",
      "42\n",
      "49\n",
      "56\n",
      "63\n",
      "70\n",
      "77\n",
      "84\n",
      "91\n",
      "98\n"
     ]
    }
   ],
   "source": [
    "num.Iterator()"
   ]
  },
  {
   "cell_type": "code",
   "execution_count": 24,
   "id": "f963771f",
   "metadata": {},
   "outputs": [
    {
     "name": "stdout",
     "output_type": "stream",
     "text": [
      "0\n",
      "7\n",
      "14\n",
      "21\n",
      "28\n",
      "35\n",
      "42\n",
      "49\n"
     ]
    }
   ],
   "source": [
    "num.Iterator(num.Generator())"
   ]
  },
  {
   "cell_type": "markdown",
   "id": "f7e78cee",
   "metadata": {},
   "source": [
    "### 2. Write a program to compute the frequency of the words from the input. The output should output after sorting the key alphanumerically.\n",
    "\n",
    "Suppose the following input is supplied to the program:\n",
    "\n",
    "New to Python or choosing between Python 2 and Python 3? Read Python 2 or Python 3.\n",
    "\n",
    "Then, the output should be:\n",
    "\n",
    "2:2\n",
    "\n",
    "3.:1\n",
    "\n",
    "3?:1\n",
    "\n",
    "New:1\n",
    "\n",
    "Python:5\n",
    "\n",
    "Read:1\n",
    "\n",
    "and:1\n",
    "\n",
    "between:1\n",
    "\n",
    "choosing:1\n",
    "\n",
    "or:2\n",
    "\n",
    "to:1"
   ]
  },
  {
   "cell_type": "code",
   "execution_count": 34,
   "id": "bf1dc989",
   "metadata": {},
   "outputs": [],
   "source": [
    "class sentense:\n",
    "    def __init__(self,sentenses):\n",
    "        self.sentenses = sentenses\n",
    "        \n",
    "    def split(self):\n",
    "        words_list = self.sentenses.split(\" \")\n",
    "        words_list.sort()\n",
    "        return words_list\n",
    "    \n",
    "    def frequency(self):\n",
    "        words_list = self.split()\n",
    "        frequency ={}\n",
    "        for i in words_list:\n",
    "            if i in frequency:\n",
    "                frequency[i] +=1\n",
    "            else:\n",
    "                frequency[i]=1\n",
    "        return frequency"
   ]
  },
  {
   "cell_type": "code",
   "execution_count": 35,
   "id": "48a6e921",
   "metadata": {},
   "outputs": [],
   "source": [
    "sen = \"New to Python or choosing between Python 2 and Python 3? Read Python 2 or Python 3.\""
   ]
  },
  {
   "cell_type": "code",
   "execution_count": 37,
   "id": "5df501cd",
   "metadata": {},
   "outputs": [],
   "source": [
    "test = sentense(sen)"
   ]
  },
  {
   "cell_type": "code",
   "execution_count": 39,
   "id": "e0c3f2e3",
   "metadata": {},
   "outputs": [
    {
     "data": {
      "text/plain": [
       "{'2': 2,\n",
       " '3.': 1,\n",
       " '3?': 1,\n",
       " 'New': 1,\n",
       " 'Python': 5,\n",
       " 'Read': 1,\n",
       " 'and': 1,\n",
       " 'between': 1,\n",
       " 'choosing': 1,\n",
       " 'or': 2,\n",
       " 'to': 1}"
      ]
     },
     "execution_count": 39,
     "metadata": {},
     "output_type": "execute_result"
    }
   ],
   "source": [
    "test.frequency()"
   ]
  },
  {
   "cell_type": "markdown",
   "id": "f5f4cfda",
   "metadata": {},
   "source": [
    "### 3. Define a class Person and its two child classes: Male and Female. All classes have a method &quot;getGender&quot; which can print &quot;Male&quot; for Male class and &quot;Female&quot; for Female class."
   ]
  },
  {
   "cell_type": "code",
   "execution_count": 64,
   "id": "476ee38c",
   "metadata": {},
   "outputs": [],
   "source": [
    "class person:\n",
    "    def __init__(self,name):\n",
    "        self.name = name\n",
    "    \n",
    "    def Printname(self):\n",
    "        return \"Name of the person is:\",self.name\n",
    "    \n",
    "    def getGender(self):\n",
    "        return \"Gender not specified\"\n",
    "        "
   ]
  },
  {
   "cell_type": "code",
   "execution_count": 83,
   "id": "857944d2",
   "metadata": {},
   "outputs": [],
   "source": [
    "class male(person):\n",
    "    def __init__(self, name,gender):\n",
    "        self.name = name\n",
    "        self.gender = gender\n",
    "        \n",
    "    def getGender(self):\n",
    "        return 'Male'"
   ]
  },
  {
   "cell_type": "code",
   "execution_count": 84,
   "id": "bc7b3ddd",
   "metadata": {},
   "outputs": [],
   "source": [
    "class female(person):\n",
    "    def __init__(self, name, gender):\n",
    "        self.name = name\n",
    "        self.gender = gender\n",
    "        \n",
    "    def getGender(self):\n",
    "        return 'Female'"
   ]
  },
  {
   "cell_type": "code",
   "execution_count": 85,
   "id": "d664d9e2",
   "metadata": {},
   "outputs": [],
   "source": [
    "anonymous = person(\"Shilpa\")"
   ]
  },
  {
   "cell_type": "code",
   "execution_count": 86,
   "id": "4fb0a069",
   "metadata": {},
   "outputs": [
    {
     "data": {
      "text/plain": [
       "'Gender not specified'"
      ]
     },
     "execution_count": 86,
     "metadata": {},
     "output_type": "execute_result"
    }
   ],
   "source": [
    "anonymous.getGender()"
   ]
  },
  {
   "cell_type": "code",
   "execution_count": 87,
   "id": "a30cf6d9",
   "metadata": {},
   "outputs": [],
   "source": [
    "nav = male('Naveen','Male')"
   ]
  },
  {
   "cell_type": "code",
   "execution_count": 88,
   "id": "6c6fd1a6",
   "metadata": {},
   "outputs": [
    {
     "data": {
      "text/plain": [
       "('Name of the person is:', 'Naveen')"
      ]
     },
     "execution_count": 88,
     "metadata": {},
     "output_type": "execute_result"
    }
   ],
   "source": [
    "nav.Printname()"
   ]
  },
  {
   "cell_type": "code",
   "execution_count": 89,
   "id": "c841b256",
   "metadata": {},
   "outputs": [
    {
     "data": {
      "text/plain": [
       "'Male'"
      ]
     },
     "execution_count": 89,
     "metadata": {},
     "output_type": "execute_result"
    }
   ],
   "source": [
    "nav.getGender()"
   ]
  },
  {
   "cell_type": "code",
   "execution_count": 90,
   "id": "ac7ac119",
   "metadata": {},
   "outputs": [],
   "source": [
    "nan = female('Nandhini','Female')"
   ]
  },
  {
   "cell_type": "code",
   "execution_count": 91,
   "id": "94ca6224",
   "metadata": {},
   "outputs": [
    {
     "data": {
      "text/plain": [
       "('Name of the person is:', 'Nandhini')"
      ]
     },
     "execution_count": 91,
     "metadata": {},
     "output_type": "execute_result"
    }
   ],
   "source": [
    "nan.Printname()"
   ]
  },
  {
   "cell_type": "code",
   "execution_count": 92,
   "id": "38fca133",
   "metadata": {},
   "outputs": [
    {
     "data": {
      "text/plain": [
       "'Female'"
      ]
     },
     "execution_count": 92,
     "metadata": {},
     "output_type": "execute_result"
    }
   ],
   "source": [
    "nan.getGender()"
   ]
  },
  {
   "cell_type": "markdown",
   "id": "80dd4f6b",
   "metadata": {},
   "source": [
    "### 4. Please write a program to generate all sentences where subject is in [&quot;I&quot;, &quot;You&quot;] and verb is in [&quot;Play&quot;, &quot;Love&quot;] and the object is in [&quot;Hockey&quot;,&quot;Football&quot;]."
   ]
  },
  {
   "cell_type": "code",
   "execution_count": 93,
   "id": "bb09dcb8",
   "metadata": {},
   "outputs": [],
   "source": [
    "class generate:\n",
    "    def __init__(self, subject,verb,obj):\n",
    "        self.subject = subject\n",
    "        self.verb = verb\n",
    "        self.obj = obj\n",
    "        \n",
    "    def Gen_sentense(self):\n",
    "        for sub in self.subject:\n",
    "            for vr in self.verb:\n",
    "                for ob in self.obj:\n",
    "                    print(sub + \" \" + vr + \" \"+ ob)"
   ]
  },
  {
   "cell_type": "code",
   "execution_count": 94,
   "id": "33152297",
   "metadata": {},
   "outputs": [],
   "source": [
    "sub = ['I','You']\n",
    "ve = ['play','love']\n",
    "ob = ['Hockey','Football']"
   ]
  },
  {
   "cell_type": "code",
   "execution_count": 95,
   "id": "bda17a04",
   "metadata": {},
   "outputs": [],
   "source": [
    "ss = generate(sub,ve,ob)"
   ]
  },
  {
   "cell_type": "code",
   "execution_count": 96,
   "id": "b043617a",
   "metadata": {},
   "outputs": [
    {
     "name": "stdout",
     "output_type": "stream",
     "text": [
      "I play Hockey\n",
      "I play Football\n",
      "I love Hockey\n",
      "I love Football\n",
      "You play Hockey\n",
      "You play Football\n",
      "You love Hockey\n",
      "You love Football\n"
     ]
    }
   ],
   "source": [
    "ss.Gen_sentense()"
   ]
  },
  {
   "cell_type": "markdown",
   "id": "285d04f5",
   "metadata": {},
   "source": [
    "### 5. Please write a program to compress and decompress the string &quot;hello world!hello world!hello world!hello world!&quot;."
   ]
  },
  {
   "cell_type": "code",
   "execution_count": 97,
   "id": "a7bddf10",
   "metadata": {},
   "outputs": [],
   "source": [
    "ss= \"Naveen can do whatever he wants in his life\""
   ]
  },
  {
   "cell_type": "code",
   "execution_count": 98,
   "id": "9f20a979",
   "metadata": {},
   "outputs": [],
   "source": [
    "import zlib"
   ]
  },
  {
   "cell_type": "code",
   "execution_count": 103,
   "id": "90d9b302",
   "metadata": {},
   "outputs": [],
   "source": [
    "b = bytes(ss,\"ascii\")"
   ]
  },
  {
   "cell_type": "code",
   "execution_count": 105,
   "id": "9a8b1f63",
   "metadata": {},
   "outputs": [],
   "source": [
    "comp = zlib.compress(b)"
   ]
  },
  {
   "cell_type": "code",
   "execution_count": 106,
   "id": "433c21cd",
   "metadata": {},
   "outputs": [
    {
     "data": {
      "text/plain": [
       "b'x\\x9c\\x05\\xc1\\x81\\t\\x00 \\x08\\x04\\xc0U~\\xa2v\\x90\\xfaP\\x08\\x83\\x14]\\xbf\\xbb!E:\\xa68\\xd6E\\xab$\\x8b\\x0fJ\\xb4x\\x06\\xcc\\xa1\\x168\\xb6\\xf9\\x01T\\x9c\\x0f~'"
      ]
     },
     "execution_count": 106,
     "metadata": {},
     "output_type": "execute_result"
    }
   ],
   "source": [
    "comp"
   ]
  },
  {
   "cell_type": "code",
   "execution_count": 107,
   "id": "5770ce5b",
   "metadata": {},
   "outputs": [],
   "source": [
    "decom = zlib.decompress(comp)"
   ]
  },
  {
   "cell_type": "code",
   "execution_count": 108,
   "id": "8ce83377",
   "metadata": {},
   "outputs": [
    {
     "data": {
      "text/plain": [
       "b'Naveen can do whatever he wants in his life'"
      ]
     },
     "execution_count": 108,
     "metadata": {},
     "output_type": "execute_result"
    }
   ],
   "source": [
    "decom"
   ]
  },
  {
   "cell_type": "code",
   "execution_count": 109,
   "id": "5aadd1ac",
   "metadata": {},
   "outputs": [],
   "source": [
    "ss2 = \"hello world!hello world!hello world!hello world!\""
   ]
  },
  {
   "cell_type": "code",
   "execution_count": 110,
   "id": "cf172ab3",
   "metadata": {},
   "outputs": [],
   "source": [
    "comp1 = zlib.compress(bytes(ss2,'ascii'))"
   ]
  },
  {
   "cell_type": "code",
   "execution_count": 111,
   "id": "ae3b159b",
   "metadata": {},
   "outputs": [
    {
     "data": {
      "text/plain": [
       "b'x\\x9c\\xcbH\\xcd\\xc9\\xc9W(\\xcf/\\xcaIQ\\xcc \\x82\\r\\x00\\xbd[\\x11\\xf5'"
      ]
     },
     "execution_count": 111,
     "metadata": {},
     "output_type": "execute_result"
    }
   ],
   "source": [
    "comp1"
   ]
  },
  {
   "cell_type": "code",
   "execution_count": 112,
   "id": "60c9afbc",
   "metadata": {},
   "outputs": [],
   "source": [
    "decomp = zlib.decompress(comp1)"
   ]
  },
  {
   "cell_type": "code",
   "execution_count": 113,
   "id": "a10fb048",
   "metadata": {},
   "outputs": [
    {
     "data": {
      "text/plain": [
       "b'hello world!hello world!hello world!hello world!'"
      ]
     },
     "execution_count": 113,
     "metadata": {},
     "output_type": "execute_result"
    }
   ],
   "source": [
    "decomp"
   ]
  },
  {
   "cell_type": "markdown",
   "id": "0db57c93",
   "metadata": {},
   "source": [
    "### Please write a binary search function which searches an item in a sorted list. The function should return the index of element to be searched in the list."
   ]
  },
  {
   "cell_type": "code",
   "execution_count": 130,
   "id": "1d3de323",
   "metadata": {},
   "outputs": [],
   "source": [
    "def binary_search(lst, item):\n",
    "    low = 0\n",
    "    high = len(lst) - 1\n",
    "    \n",
    "    while low <= high:\n",
    "        center = round((low + high) / 2)\n",
    "        \n",
    "        if lst[center] == item:\n",
    "            return center\n",
    "        elif lst[center] > item:\n",
    "            high = center - 1\n",
    "        else:\n",
    "            low = center + 1\n",
    "    return None\n",
    " "
   ]
  },
  {
   "cell_type": "code",
   "execution_count": 131,
   "id": "d1170bef",
   "metadata": {},
   "outputs": [
    {
     "name": "stdout",
     "output_type": "stream",
     "text": [
      "2\n"
     ]
    }
   ],
   "source": [
    "lst = [1,3,5,7,6]\n",
    "print(binary_search(lst, 5))  "
   ]
  },
  {
   "cell_type": "code",
   "execution_count": null,
   "id": "11cad3b4",
   "metadata": {},
   "outputs": [],
   "source": []
  }
 ],
 "metadata": {
  "kernelspec": {
   "display_name": "Python 3 (ipykernel)",
   "language": "python",
   "name": "python3"
  },
  "language_info": {
   "codemirror_mode": {
    "name": "ipython",
    "version": 3
   },
   "file_extension": ".py",
   "mimetype": "text/x-python",
   "name": "python",
   "nbconvert_exporter": "python",
   "pygments_lexer": "ipython3",
   "version": "3.9.7"
  }
 },
 "nbformat": 4,
 "nbformat_minor": 5
}
