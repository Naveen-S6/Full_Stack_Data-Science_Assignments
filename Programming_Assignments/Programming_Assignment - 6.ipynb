{
 "cells": [
  {
   "cell_type": "markdown",
   "id": "bea29b9a",
   "metadata": {},
   "source": [
    "### Write a Python Program to Display Fibonacci Sequence Using Recursion?"
   ]
  },
  {
   "cell_type": "code",
   "execution_count": 1,
   "id": "cd88b36b",
   "metadata": {},
   "outputs": [],
   "source": [
    "def Fibno_Re(n):\n",
    "    if n==1:\n",
    "        return 1\n",
    "    elif n == 0:\n",
    "        return 0\n",
    "    else:\n",
    "        return (Fibno_Re(n-1)+Fibno_Re(n-2))"
   ]
  },
  {
   "cell_type": "code",
   "execution_count": 2,
   "id": "8847d687",
   "metadata": {},
   "outputs": [
    {
     "name": "stdout",
     "output_type": "stream",
     "text": [
      "How many terms?6\n",
      "0\n",
      "1\n",
      "1\n",
      "2\n",
      "3\n",
      "5\n"
     ]
    }
   ],
   "source": [
    "nterms = int(input(\"How many terms?\"))\n",
    "\n",
    "if nterms<0:\n",
    "    print(\"Enter a valid number\")\n",
    "    \n",
    "else:\n",
    "    for i in range(nterms):\n",
    "        print(Fibno_Re(i))\n"
   ]
  },
  {
   "cell_type": "markdown",
   "id": "4dca21ae",
   "metadata": {},
   "source": [
    "### 2. Write a Python Program to Find Factorial of Number Using Recursion?"
   ]
  },
  {
   "cell_type": "code",
   "execution_count": 7,
   "id": "1106f3dc",
   "metadata": {},
   "outputs": [],
   "source": [
    "def Recur_Fact(num):\n",
    "    if num == 1:\n",
    "        return 1\n",
    "    else:\n",
    "        return num*Recur_Fact(num-1)"
   ]
  },
  {
   "cell_type": "code",
   "execution_count": 9,
   "id": "ee85e782",
   "metadata": {},
   "outputs": [
    {
     "data": {
      "text/plain": [
       "5040"
      ]
     },
     "execution_count": 9,
     "metadata": {},
     "output_type": "execute_result"
    }
   ],
   "source": [
    "Recur_Fact(7)"
   ]
  },
  {
   "cell_type": "markdown",
   "id": "8a9ff158",
   "metadata": {},
   "source": [
    "### 3. Write a Python Program to calculate your Body Mass Index?"
   ]
  },
  {
   "cell_type": "markdown",
   "id": "929f4920",
   "metadata": {},
   "source": [
    "Body Mass Index is a simple calculation using a person's height and weight. The formula is BMI = kg/m2 where kg is a person's weight in kilograms and m2 is their height in metres squared. A BMI of 25.0 or more is overweight, while the healthy range is 18.5 to 24.9."
   ]
  },
  {
   "cell_type": "code",
   "execution_count": 10,
   "id": "43c499ac",
   "metadata": {},
   "outputs": [],
   "source": [
    "def BMI(weight,height):\n",
    "    BMI = weight / (height ** 2)\n",
    "    if BMI > 25:\n",
    "        print(\"You are overwight and your BMI is:\",BMI)\n",
    "    elif BMI >= 18 and BMI<=25 :\n",
    "        print(\"You are in healthy BMI:\", BMI)\n",
    "    else:\n",
    "        print(\"You are BMI is:\", BMI)"
   ]
  },
  {
   "cell_type": "code",
   "execution_count": 12,
   "id": "7b7ea0a3",
   "metadata": {},
   "outputs": [
    {
     "name": "stdout",
     "output_type": "stream",
     "text": [
      "You are in healthy BMI: 24.489795918367346\n"
     ]
    }
   ],
   "source": [
    "BMI(75,1.75)"
   ]
  },
  {
   "cell_type": "markdown",
   "id": "7a99e765",
   "metadata": {},
   "source": [
    "### 4. Write a Python Program to calculate the natural logarithm of any number?"
   ]
  },
  {
   "cell_type": "code",
   "execution_count": 13,
   "id": "d0ce7ce6",
   "metadata": {},
   "outputs": [],
   "source": [
    "import math"
   ]
  },
  {
   "cell_type": "code",
   "execution_count": 14,
   "id": "bb064ef3",
   "metadata": {},
   "outputs": [],
   "source": [
    "def Log(num):\n",
    "    print(math.log(num))"
   ]
  },
  {
   "cell_type": "code",
   "execution_count": 17,
   "id": "0cf94a59",
   "metadata": {},
   "outputs": [
    {
     "name": "stdout",
     "output_type": "stream",
     "text": [
      "0.6931471805599453\n"
     ]
    }
   ],
   "source": [
    "Log(2)"
   ]
  },
  {
   "cell_type": "markdown",
   "id": "800d3642",
   "metadata": {},
   "source": [
    "### 5. Write a Python Program for cube sum of first n natural numbers?"
   ]
  },
  {
   "cell_type": "code",
   "execution_count": 20,
   "id": "67df9e8f",
   "metadata": {},
   "outputs": [],
   "source": [
    "def CubeSum(n):\n",
    "    sum1 =0\n",
    "    for i in range(1,n+1):\n",
    "        sum1 += i ** 3\n",
    "        \n",
    "    return sum1"
   ]
  },
  {
   "cell_type": "code",
   "execution_count": 22,
   "id": "a1a94afe",
   "metadata": {},
   "outputs": [
    {
     "data": {
      "text/plain": [
       "225"
      ]
     },
     "execution_count": 22,
     "metadata": {},
     "output_type": "execute_result"
    }
   ],
   "source": [
    "CubeSum(5)"
   ]
  },
  {
   "cell_type": "code",
   "execution_count": null,
   "id": "127f4de5",
   "metadata": {},
   "outputs": [],
   "source": []
  }
 ],
 "metadata": {
  "kernelspec": {
   "display_name": "Python 3 (ipykernel)",
   "language": "python",
   "name": "python3"
  },
  "language_info": {
   "codemirror_mode": {
    "name": "ipython",
    "version": 3
   },
   "file_extension": ".py",
   "mimetype": "text/x-python",
   "name": "python",
   "nbconvert_exporter": "python",
   "pygments_lexer": "ipython3",
   "version": "3.9.7"
  }
 },
 "nbformat": 4,
 "nbformat_minor": 5
}
