{
 "cells": [
  {
   "cell_type": "markdown",
   "id": "b5fe99f9",
   "metadata": {},
   "source": [
    "### 1. Write a Python program to convert kilometers to miles?"
   ]
  },
  {
   "cell_type": "markdown",
   "id": "81baebb1",
   "metadata": {},
   "source": [
    "to convert 'x' kilometers to miles, we multiply 'x' with the conversion factor. This means 'x' kilometers = (0.62137x) miles"
   ]
  },
  {
   "cell_type": "code",
   "execution_count": 1,
   "id": "cfd903f8",
   "metadata": {},
   "outputs": [],
   "source": [
    "def convert_mile(kilometer):\n",
    "    mile = kilometer * 0.62137\n",
    "    return mile"
   ]
  },
  {
   "cell_type": "code",
   "execution_count": 2,
   "id": "dd6d3091",
   "metadata": {},
   "outputs": [
    {
     "data": {
      "text/plain": [
       "14.291509999999999"
      ]
     },
     "execution_count": 2,
     "metadata": {},
     "output_type": "execute_result"
    }
   ],
   "source": [
    "convert_mile(23)"
   ]
  },
  {
   "cell_type": "markdown",
   "id": "6c88e613",
   "metadata": {},
   "source": [
    "### 2. Write a Python program to convert Celsius to Fahrenheit?"
   ]
  },
  {
   "cell_type": "markdown",
   "id": "5a2661eb",
   "metadata": {},
   "source": [
    "Formula = (0°C × 9/5) + 32"
   ]
  },
  {
   "cell_type": "code",
   "execution_count": 3,
   "id": "735b70e3",
   "metadata": {},
   "outputs": [],
   "source": [
    "def ConvertToFahrenheit(celsius):\n",
    "    fahrenheit = (celsius * (9/5)) + 32\n",
    "    return fahrenheit"
   ]
  },
  {
   "cell_type": "code",
   "execution_count": 5,
   "id": "caeceb68",
   "metadata": {},
   "outputs": [
    {
     "data": {
      "text/plain": [
       "89.6"
      ]
     },
     "execution_count": 5,
     "metadata": {},
     "output_type": "execute_result"
    }
   ],
   "source": [
    "ConvertToFahrenheit(32)"
   ]
  },
  {
   "cell_type": "markdown",
   "id": "a80a9d52",
   "metadata": {},
   "source": [
    "### 3. Write a Python program to display calendar?"
   ]
  },
  {
   "cell_type": "code",
   "execution_count": 10,
   "id": "b0e30493",
   "metadata": {},
   "outputs": [
    {
     "name": "stdout",
     "output_type": "stream",
     "text": [
      "      May 2022\n",
      "Mo Tu We Th Fr Sa Su\n",
      "                   1\n",
      " 2  3  4  5  6  7  8\n",
      " 9 10 11 12 13 14 15\n",
      "16 17 18 19 20 21 22\n",
      "23 24 25 26 27 28 29\n",
      "30 31\n",
      "\n"
     ]
    }
   ],
   "source": [
    "import calendar\n",
    "year = 2022\n",
    "month = 5\n",
    "print(calendar.month(year,month))"
   ]
  },
  {
   "cell_type": "markdown",
   "id": "e87cad02",
   "metadata": {},
   "source": [
    "### 4. Write a Python program to solve quadratic equation?"
   ]
  },
  {
   "cell_type": "markdown",
   "id": "d5941d08",
   "metadata": {},
   "source": [
    "(-b±√(b²-4ac))/(2a)"
   ]
  },
  {
   "cell_type": "code",
   "execution_count": 8,
   "id": "505403b9",
   "metadata": {},
   "outputs": [],
   "source": [
    "def QuadraticSolution(a,b,c):\n",
    "    nu1 = (-b + ((b**2)-(4*a*c))**0.5)\n",
    "    nu2 = (-b - ((b**2)-(4*a*c))**0.5)\n",
    "    out1 = nu1/(2*a)\n",
    "    out2 = nu2/(2*a)\n",
    "    print('The solution are {0} and {1}'.format(out1,out2))\n",
    "    "
   ]
  },
  {
   "cell_type": "code",
   "execution_count": 9,
   "id": "b9c0fa56",
   "metadata": {},
   "outputs": [
    {
     "name": "stdout",
     "output_type": "stream",
     "text": [
      "The solution are -2.0 and -3.0\n"
     ]
    }
   ],
   "source": [
    "QuadraticSolution(1,5,6)"
   ]
  },
  {
   "cell_type": "markdown",
   "id": "748d9d3e",
   "metadata": {},
   "source": [
    "### 5. Write a Python program to swap two variables without temp variable?"
   ]
  },
  {
   "cell_type": "code",
   "execution_count": 10,
   "id": "9192e6cb",
   "metadata": {},
   "outputs": [],
   "source": [
    "a = 10\n",
    "b = 30"
   ]
  },
  {
   "cell_type": "code",
   "execution_count": 11,
   "id": "aeff98f2",
   "metadata": {},
   "outputs": [
    {
     "data": {
      "text/plain": [
       "10"
      ]
     },
     "execution_count": 11,
     "metadata": {},
     "output_type": "execute_result"
    }
   ],
   "source": [
    "a"
   ]
  },
  {
   "cell_type": "code",
   "execution_count": 12,
   "id": "378104c4",
   "metadata": {},
   "outputs": [
    {
     "data": {
      "text/plain": [
       "30"
      ]
     },
     "execution_count": 12,
     "metadata": {},
     "output_type": "execute_result"
    }
   ],
   "source": [
    "b"
   ]
  },
  {
   "cell_type": "code",
   "execution_count": 13,
   "id": "9c5032f1",
   "metadata": {},
   "outputs": [],
   "source": [
    "a,b = b,a"
   ]
  },
  {
   "cell_type": "code",
   "execution_count": 14,
   "id": "8517b0fd",
   "metadata": {},
   "outputs": [
    {
     "data": {
      "text/plain": [
       "30"
      ]
     },
     "execution_count": 14,
     "metadata": {},
     "output_type": "execute_result"
    }
   ],
   "source": [
    "a"
   ]
  },
  {
   "cell_type": "code",
   "execution_count": 15,
   "id": "c487298e",
   "metadata": {},
   "outputs": [
    {
     "data": {
      "text/plain": [
       "10"
      ]
     },
     "execution_count": 15,
     "metadata": {},
     "output_type": "execute_result"
    }
   ],
   "source": [
    "b"
   ]
  }
 ],
 "metadata": {
  "kernelspec": {
   "display_name": "Python 3 (ipykernel)",
   "language": "python",
   "name": "python3"
  },
  "language_info": {
   "codemirror_mode": {
    "name": "ipython",
    "version": 3
   },
   "file_extension": ".py",
   "mimetype": "text/x-python",
   "name": "python",
   "nbconvert_exporter": "python",
   "pygments_lexer": "ipython3",
   "version": "3.9.7"
  }
 },
 "nbformat": 4,
 "nbformat_minor": 5
}
