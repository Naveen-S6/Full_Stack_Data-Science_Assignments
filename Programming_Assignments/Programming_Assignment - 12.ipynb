{
 "cells": [
  {
   "cell_type": "markdown",
   "id": "e6c51be4",
   "metadata": {},
   "source": [
    "### 1. Write a Python program to Extract Unique values dictionary values?"
   ]
  },
  {
   "cell_type": "code",
   "execution_count": 1,
   "id": "14b8624d",
   "metadata": {},
   "outputs": [],
   "source": [
    "my_dict = {'hi' : [5,3,8, 0],\n",
    "   'there' : [22, 51, 63, 77],\n",
    "   'how' : [7, 0, 22],\n",
    "   'are' : [12, 11, 45],\n",
    "   'you' : [56, 31, 89, 90]}"
   ]
  },
  {
   "cell_type": "code",
   "execution_count": 2,
   "id": "12b2b0e5",
   "metadata": {},
   "outputs": [
    {
     "data": {
      "text/plain": [
       "{'hi': [5, 3, 8, 0],\n",
       " 'there': [22, 51, 63, 77],\n",
       " 'how': [7, 0, 22],\n",
       " 'are': [12, 11, 45],\n",
       " 'you': [56, 31, 89, 90]}"
      ]
     },
     "execution_count": 2,
     "metadata": {},
     "output_type": "execute_result"
    }
   ],
   "source": [
    "my_dict"
   ]
  },
  {
   "cell_type": "code",
   "execution_count": 3,
   "id": "9e7affd7",
   "metadata": {},
   "outputs": [],
   "source": [
    "val =[]\n",
    "for values in my_dict.values():\n",
    "    for i in values:\n",
    "        val.append(i)"
   ]
  },
  {
   "cell_type": "code",
   "execution_count": 6,
   "id": "57fdf528",
   "metadata": {},
   "outputs": [
    {
     "data": {
      "text/plain": [
       "[0, 3, 5, 7, 8, 11, 12, 22, 31, 45, 51, 56, 63, 77, 89, 90]"
      ]
     },
     "execution_count": 6,
     "metadata": {},
     "output_type": "execute_result"
    }
   ],
   "source": [
    "sorted(set(val))"
   ]
  },
  {
   "cell_type": "markdown",
   "id": "53cad6c8",
   "metadata": {},
   "source": [
    "### 2. Write a Python program to find the sum of all items in a dictionary?"
   ]
  },
  {
   "cell_type": "code",
   "execution_count": 7,
   "id": "578a7297",
   "metadata": {},
   "outputs": [],
   "source": [
    "price = {\"Apple\": 150, \"Orange\": 60,\"Sugar\":45,\"Rice bag\": 1450,\"Milk\":55,\"chocolate\":500}"
   ]
  },
  {
   "cell_type": "code",
   "execution_count": 8,
   "id": "07142528",
   "metadata": {},
   "outputs": [
    {
     "data": {
      "text/plain": [
       "{'Apple': 150,\n",
       " 'Orange': 60,\n",
       " 'Sugar': 45,\n",
       " 'Rice bag': 1450,\n",
       " 'Milk': 55,\n",
       " 'chocolate': 500}"
      ]
     },
     "execution_count": 8,
     "metadata": {},
     "output_type": "execute_result"
    }
   ],
   "source": [
    "price"
   ]
  },
  {
   "cell_type": "code",
   "execution_count": 9,
   "id": "b479ef29",
   "metadata": {},
   "outputs": [
    {
     "data": {
      "text/plain": [
       "2260"
      ]
     },
     "execution_count": 9,
     "metadata": {},
     "output_type": "execute_result"
    }
   ],
   "source": [
    "sum(price.values())"
   ]
  },
  {
   "cell_type": "markdown",
   "id": "c368e65a",
   "metadata": {},
   "source": [
    "### 3. Write a Python program to Merging two Dictionaries?"
   ]
  },
  {
   "cell_type": "code",
   "execution_count": 11,
   "id": "b4baa6b4",
   "metadata": {},
   "outputs": [],
   "source": [
    "merge = price|my_dict"
   ]
  },
  {
   "cell_type": "code",
   "execution_count": 12,
   "id": "33993f36",
   "metadata": {},
   "outputs": [
    {
     "data": {
      "text/plain": [
       "{'Apple': 150,\n",
       " 'Orange': 60,\n",
       " 'Sugar': 45,\n",
       " 'Rice bag': 1450,\n",
       " 'Milk': 55,\n",
       " 'chocolate': 500,\n",
       " 'hi': [5, 3, 8, 0],\n",
       " 'there': [22, 51, 63, 77],\n",
       " 'how': [7, 0, 22],\n",
       " 'are': [12, 11, 45],\n",
       " 'you': [56, 31, 89, 90]}"
      ]
     },
     "execution_count": 12,
     "metadata": {},
     "output_type": "execute_result"
    }
   ],
   "source": [
    "merge"
   ]
  },
  {
   "cell_type": "code",
   "execution_count": 14,
   "id": "a25eda83",
   "metadata": {},
   "outputs": [],
   "source": [
    "merge2 = {**price,**my_dict}"
   ]
  },
  {
   "cell_type": "code",
   "execution_count": 15,
   "id": "08414f3a",
   "metadata": {},
   "outputs": [
    {
     "data": {
      "text/plain": [
       "{'Apple': 150,\n",
       " 'Orange': 60,\n",
       " 'Sugar': 45,\n",
       " 'Rice bag': 1450,\n",
       " 'Milk': 55,\n",
       " 'chocolate': 500,\n",
       " 'hi': [5, 3, 8, 0],\n",
       " 'there': [22, 51, 63, 77],\n",
       " 'how': [7, 0, 22],\n",
       " 'are': [12, 11, 45],\n",
       " 'you': [56, 31, 89, 90]}"
      ]
     },
     "execution_count": 15,
     "metadata": {},
     "output_type": "execute_result"
    }
   ],
   "source": [
    "merge2"
   ]
  },
  {
   "cell_type": "markdown",
   "id": "50b6ffc8",
   "metadata": {},
   "source": [
    "### 4. Write a Python program to convert key-values list to flat dictionary?"
   ]
  },
  {
   "cell_type": "code",
   "execution_count": 22,
   "id": "56c1fd0e",
   "metadata": {},
   "outputs": [],
   "source": [
    "Month_dict = {'month' : [1, 2, 3,4],\n",
    "             'name' : ['Jan', 'Feb', 'March','April']}"
   ]
  },
  {
   "cell_type": "code",
   "execution_count": 24,
   "id": "8d7a5b3c",
   "metadata": {},
   "outputs": [
    {
     "data": {
      "text/plain": [
       "{'month': [1, 2, 3, 4], 'name': ['Jan', 'Feb', 'March', 'April']}"
      ]
     },
     "execution_count": 24,
     "metadata": {},
     "output_type": "execute_result"
    }
   ],
   "source": [
    "Month_dict"
   ]
  },
  {
   "cell_type": "code",
   "execution_count": 26,
   "id": "f2cc43ac",
   "metadata": {},
   "outputs": [
    {
     "data": {
      "text/plain": [
       "{1: 'Jan', 2: 'Feb', 3: 'March', 4: 'April'}"
      ]
     },
     "execution_count": 26,
     "metadata": {},
     "output_type": "execute_result"
    }
   ],
   "source": [
    "dict(zip(Month_dict['month'],Month_dict['name']))"
   ]
  },
  {
   "cell_type": "markdown",
   "id": "6c5ae827",
   "metadata": {},
   "source": [
    "### 5. Write a Python program to insertion at the beginning in OrderedDict?"
   ]
  },
  {
   "cell_type": "code",
   "execution_count": 32,
   "id": "45c1a228",
   "metadata": {},
   "outputs": [],
   "source": [
    "from collections import OrderedDict"
   ]
  },
  {
   "cell_type": "code",
   "execution_count": 36,
   "id": "c0571b85",
   "metadata": {},
   "outputs": [],
   "source": [
    "Ordered_Dic = OrderedDict([('Naveen',1),(\"Abbas\",2),(\"Vignesh\",3)])"
   ]
  },
  {
   "cell_type": "code",
   "execution_count": 37,
   "id": "cf814140",
   "metadata": {},
   "outputs": [
    {
     "data": {
      "text/plain": [
       "OrderedDict([('Naveen', 1), ('Abbas', 2), ('Vignesh', 3)])"
      ]
     },
     "execution_count": 37,
     "metadata": {},
     "output_type": "execute_result"
    }
   ],
   "source": [
    "Ordered_Dic"
   ]
  },
  {
   "cell_type": "code",
   "execution_count": 39,
   "id": "1205a99a",
   "metadata": {},
   "outputs": [],
   "source": [
    "Ordered_Dic.update({\"Sandhya\":4})"
   ]
  },
  {
   "cell_type": "code",
   "execution_count": 40,
   "id": "a3ef1243",
   "metadata": {},
   "outputs": [
    {
     "data": {
      "text/plain": [
       "OrderedDict([('Naveen', 1), ('Abbas', 2), ('Vignesh', 3), ('Sandhya', 4)])"
      ]
     },
     "execution_count": 40,
     "metadata": {},
     "output_type": "execute_result"
    }
   ],
   "source": [
    "Ordered_Dic"
   ]
  },
  {
   "cell_type": "code",
   "execution_count": 41,
   "id": "1eb0dd4d",
   "metadata": {},
   "outputs": [],
   "source": [
    "Ordered_Dic.move_to_end(\"Sandhya\",last = False)"
   ]
  },
  {
   "cell_type": "code",
   "execution_count": 42,
   "id": "7936aec0",
   "metadata": {},
   "outputs": [
    {
     "data": {
      "text/plain": [
       "OrderedDict([('Sandhya', 4), ('Naveen', 1), ('Abbas', 2), ('Vignesh', 3)])"
      ]
     },
     "execution_count": 42,
     "metadata": {},
     "output_type": "execute_result"
    }
   ],
   "source": [
    "Ordered_Dic"
   ]
  },
  {
   "cell_type": "markdown",
   "id": "c03ed163",
   "metadata": {},
   "source": [
    "### 6. Write a Python program to check order of character in string using OrderedDict()?"
   ]
  },
  {
   "cell_type": "code",
   "execution_count": 44,
   "id": "7041e1e5",
   "metadata": {},
   "outputs": [],
   "source": [
    "def check_order(my_input, my_pattern):\n",
    "    from collections import OrderedDict\n",
    "    _dict = OrderedDict.fromkeys(my_input)\n",
    "    pattern_length = 0\n",
    "    for key,value in _dict.items():\n",
    "        if (key == my_pattern[pattern_length]):\n",
    "            pattern_length += 1\n",
    "        if (pattern_length == (len(my_pattern))):\n",
    "            return 'The pattern is correct'\n",
    "    return 'The pattern is incorrect'"
   ]
  },
  {
   "cell_type": "code",
   "execution_count": 45,
   "id": "a0a64786",
   "metadata": {},
   "outputs": [],
   "source": [
    "my_input = \"I'm Naveen\""
   ]
  },
  {
   "cell_type": "code",
   "execution_count": 46,
   "id": "beb23c4c",
   "metadata": {},
   "outputs": [],
   "source": [
    "my_pattern = \"Na\""
   ]
  },
  {
   "cell_type": "code",
   "execution_count": 47,
   "id": "e1a5e048",
   "metadata": {},
   "outputs": [
    {
     "data": {
      "text/plain": [
       "'The pattern is correct'"
      ]
     },
     "execution_count": 47,
     "metadata": {},
     "output_type": "execute_result"
    }
   ],
   "source": [
    "check_order(my_input, my_pattern)"
   ]
  },
  {
   "cell_type": "markdown",
   "id": "ea0cdddf",
   "metadata": {},
   "source": [
    "### 7. Write a Python program to sort Python Dictionaries by Key or Value?"
   ]
  },
  {
   "cell_type": "code",
   "execution_count": 48,
   "id": "31a82ff1",
   "metadata": {},
   "outputs": [],
   "source": [
    "new = {1:20,5:34,9:2,8:23,2:55,4:10}"
   ]
  },
  {
   "cell_type": "code",
   "execution_count": 49,
   "id": "1d489610",
   "metadata": {},
   "outputs": [
    {
     "data": {
      "text/plain": [
       "{1: 20, 5: 34, 9: 2, 8: 23, 2: 55, 4: 10}"
      ]
     },
     "execution_count": 49,
     "metadata": {},
     "output_type": "execute_result"
    }
   ],
   "source": [
    "new"
   ]
  },
  {
   "cell_type": "code",
   "execution_count": 50,
   "id": "a0ef6f6e",
   "metadata": {},
   "outputs": [
    {
     "data": {
      "text/plain": [
       "dict"
      ]
     },
     "execution_count": 50,
     "metadata": {},
     "output_type": "execute_result"
    }
   ],
   "source": [
    "type(new)"
   ]
  },
  {
   "cell_type": "markdown",
   "id": "3d424ce9",
   "metadata": {},
   "source": [
    "### Sorting based on Key vlaue "
   ]
  },
  {
   "cell_type": "code",
   "execution_count": 58,
   "id": "de280fe7",
   "metadata": {
    "scrolled": true
   },
   "outputs": [
    {
     "name": "stdout",
     "output_type": "stream",
     "text": [
      "(1, 20) (2, 55) (4, 10) (5, 34) (8, 23) (9, 2) "
     ]
    }
   ],
   "source": [
    "for i in sorted(new):\n",
    "    print((i,new[i]),end=\" \")"
   ]
  },
  {
   "cell_type": "markdown",
   "id": "418fcf3a",
   "metadata": {},
   "source": [
    "### Sorting based on values"
   ]
  },
  {
   "cell_type": "code",
   "execution_count": 64,
   "id": "303af987",
   "metadata": {},
   "outputs": [
    {
     "data": {
      "text/plain": [
       "[2, 10, 20, 23, 34, 55]"
      ]
     },
     "execution_count": 64,
     "metadata": {},
     "output_type": "execute_result"
    }
   ],
   "source": [
    "sorted(new.values())"
   ]
  },
  {
   "cell_type": "code",
   "execution_count": 72,
   "id": "7eceb0c4",
   "metadata": {},
   "outputs": [],
   "source": [
    "keys = list(new.keys())"
   ]
  },
  {
   "cell_type": "code",
   "execution_count": 73,
   "id": "e430b30c",
   "metadata": {},
   "outputs": [
    {
     "data": {
      "text/plain": [
       "[1, 5, 9, 8, 2, 4]"
      ]
     },
     "execution_count": 73,
     "metadata": {},
     "output_type": "execute_result"
    }
   ],
   "source": [
    "keys"
   ]
  },
  {
   "cell_type": "code",
   "execution_count": 74,
   "id": "3ad9ebb6",
   "metadata": {},
   "outputs": [],
   "source": [
    "values = list(new.values())"
   ]
  },
  {
   "cell_type": "code",
   "execution_count": 75,
   "id": "798ea1a0",
   "metadata": {},
   "outputs": [
    {
     "data": {
      "text/plain": [
       "[20, 34, 2, 23, 55, 10]"
      ]
     },
     "execution_count": 75,
     "metadata": {},
     "output_type": "execute_result"
    }
   ],
   "source": [
    "values"
   ]
  },
  {
   "cell_type": "code",
   "execution_count": 76,
   "id": "1a1104bd",
   "metadata": {},
   "outputs": [
    {
     "name": "stdout",
     "output_type": "stream",
     "text": [
      "(9, 2) (4, 10) (1, 20) (8, 23) (5, 34) (2, 55) "
     ]
    }
   ],
   "source": [
    "for i in sorted(new.values()):\n",
    "    key_index = values.index(i)\n",
    "    key = keys[key_index]\n",
    "    print((key,i),end=\" \")"
   ]
  },
  {
   "cell_type": "code",
   "execution_count": null,
   "id": "393b88fd",
   "metadata": {},
   "outputs": [],
   "source": []
  }
 ],
 "metadata": {
  "kernelspec": {
   "display_name": "Python 3 (ipykernel)",
   "language": "python",
   "name": "python3"
  },
  "language_info": {
   "codemirror_mode": {
    "name": "ipython",
    "version": 3
   },
   "file_extension": ".py",
   "mimetype": "text/x-python",
   "name": "python",
   "nbconvert_exporter": "python",
   "pygments_lexer": "ipython3",
   "version": "3.9.7"
  }
 },
 "nbformat": 4,
 "nbformat_minor": 5
}
