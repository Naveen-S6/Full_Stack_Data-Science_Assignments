{
 "cells": [
  {
   "cell_type": "markdown",
   "id": "710c9672",
   "metadata": {},
   "source": [
    "### 1. Write a Python program to print &quot;Hello Python&quot;?"
   ]
  },
  {
   "cell_type": "code",
   "execution_count": 1,
   "id": "ac4ce764",
   "metadata": {},
   "outputs": [
    {
     "name": "stdout",
     "output_type": "stream",
     "text": [
      "Hello Python\n"
     ]
    }
   ],
   "source": [
    "print(\"Hello Python\")"
   ]
  },
  {
   "cell_type": "markdown",
   "id": "ece484be",
   "metadata": {},
   "source": [
    "### 2. Write a Python program to do arithmetical operations addition and division.?"
   ]
  },
  {
   "cell_type": "code",
   "execution_count": 2,
   "id": "09de15dd",
   "metadata": {},
   "outputs": [],
   "source": [
    "a = 10\n",
    "b = 50\n",
    "c = 40"
   ]
  },
  {
   "cell_type": "code",
   "execution_count": 3,
   "id": "4bd9c4e7",
   "metadata": {},
   "outputs": [],
   "source": [
    "total = a + b + c"
   ]
  },
  {
   "cell_type": "code",
   "execution_count": 4,
   "id": "511963fa",
   "metadata": {},
   "outputs": [
    {
     "data": {
      "text/plain": [
       "100"
      ]
     },
     "execution_count": 4,
     "metadata": {},
     "output_type": "execute_result"
    }
   ],
   "source": [
    "total"
   ]
  },
  {
   "cell_type": "code",
   "execution_count": 5,
   "id": "db896dee",
   "metadata": {},
   "outputs": [],
   "source": [
    "d = 10"
   ]
  },
  {
   "cell_type": "code",
   "execution_count": 6,
   "id": "0dce46b6",
   "metadata": {},
   "outputs": [
    {
     "data": {
      "text/plain": [
       "10.0"
      ]
     },
     "execution_count": 6,
     "metadata": {},
     "output_type": "execute_result"
    }
   ],
   "source": [
    "total / d"
   ]
  },
  {
   "cell_type": "markdown",
   "id": "a6c26f20",
   "metadata": {},
   "source": [
    "### 3. Write a Python program to find the area of a triangle?"
   ]
  },
  {
   "cell_type": "markdown",
   "id": "f56042d3",
   "metadata": {},
   "source": [
    "Formula = 1/2 (b*h)"
   ]
  },
  {
   "cell_type": "code",
   "execution_count": 7,
   "id": "36fe6b86",
   "metadata": {},
   "outputs": [],
   "source": [
    "base = 10\n",
    "height = 23"
   ]
  },
  {
   "cell_type": "code",
   "execution_count": 10,
   "id": "c4023e08",
   "metadata": {},
   "outputs": [],
   "source": [
    "area_of_triangle = (1/2)*(base *height)"
   ]
  },
  {
   "cell_type": "code",
   "execution_count": 11,
   "id": "084bec59",
   "metadata": {},
   "outputs": [
    {
     "data": {
      "text/plain": [
       "115.0"
      ]
     },
     "execution_count": 11,
     "metadata": {},
     "output_type": "execute_result"
    }
   ],
   "source": [
    "area_of_triangle"
   ]
  },
  {
   "cell_type": "markdown",
   "id": "25aaa90d",
   "metadata": {},
   "source": [
    "### 4. Write a Python program to swap two variables?"
   ]
  },
  {
   "cell_type": "code",
   "execution_count": 12,
   "id": "aabc2829",
   "metadata": {},
   "outputs": [],
   "source": [
    "n1 = 20\n",
    "n2 = 50"
   ]
  },
  {
   "cell_type": "code",
   "execution_count": 13,
   "id": "1d84199f",
   "metadata": {},
   "outputs": [],
   "source": [
    "n1 , n2 = n2 , n1"
   ]
  },
  {
   "cell_type": "code",
   "execution_count": 14,
   "id": "5d434d3a",
   "metadata": {},
   "outputs": [
    {
     "data": {
      "text/plain": [
       "50"
      ]
     },
     "execution_count": 14,
     "metadata": {},
     "output_type": "execute_result"
    }
   ],
   "source": [
    "n1"
   ]
  },
  {
   "cell_type": "code",
   "execution_count": 15,
   "id": "62d01be6",
   "metadata": {},
   "outputs": [
    {
     "data": {
      "text/plain": [
       "20"
      ]
     },
     "execution_count": 15,
     "metadata": {},
     "output_type": "execute_result"
    }
   ],
   "source": [
    "n2"
   ]
  },
  {
   "cell_type": "markdown",
   "id": "98a2a9ef",
   "metadata": {},
   "source": [
    "### 5. Write a Python program to generate a random number?"
   ]
  },
  {
   "cell_type": "code",
   "execution_count": 16,
   "id": "213af732",
   "metadata": {},
   "outputs": [],
   "source": [
    "import random"
   ]
  },
  {
   "cell_type": "code",
   "execution_count": 24,
   "id": "b3606a49",
   "metadata": {},
   "outputs": [
    {
     "data": {
      "text/plain": [
       "66"
      ]
     },
     "execution_count": 24,
     "metadata": {},
     "output_type": "execute_result"
    }
   ],
   "source": [
    "random.randint(1,100)"
   ]
  }
 ],
 "metadata": {
  "kernelspec": {
   "display_name": "Python 3 (ipykernel)",
   "language": "python",
   "name": "python3"
  },
  "language_info": {
   "codemirror_mode": {
    "name": "ipython",
    "version": 3
   },
   "file_extension": ".py",
   "mimetype": "text/x-python",
   "name": "python",
   "nbconvert_exporter": "python",
   "pygments_lexer": "ipython3",
   "version": "3.9.7"
  }
 },
 "nbformat": 4,
 "nbformat_minor": 5
}
