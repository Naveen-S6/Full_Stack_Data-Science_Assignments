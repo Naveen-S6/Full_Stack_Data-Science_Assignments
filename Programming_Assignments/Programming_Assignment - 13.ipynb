{
 "cells": [
  {
   "cell_type": "markdown",
   "id": "9dbbe6bb",
   "metadata": {},
   "source": [
    "### Question 1: Write a program that calculates and prints the value according to the given formula:\n",
    "Q = Square root of [(2 * C * D)/H]\n",
    "\n",
    "Following are the fixed values of C and H:\n",
    "C is 50. H is 30.\n",
    "\n",
    "D is the variable whose values should be input to your program in a comma-separated\n",
    "sequence.\n",
    "\n",
    "Example\n",
    "Let us assume the following comma separated input sequence is given to the program:\n",
    "100,150,180\n",
    "\n",
    "The output of the program should be:\n",
    "18,22,24"
   ]
  },
  {
   "cell_type": "code",
   "execution_count": 13,
   "id": "0e919e2a",
   "metadata": {},
   "outputs": [],
   "source": [
    "def Calculate():\n",
    "    import math\n",
    "    d = input(\"Enter your input:\")\n",
    "    d_list = d.split(\",\")\n",
    "    output =[]\n",
    "    for i in d_list:\n",
    "        Q = math.sqrt((2*50*int(i))/30)\n",
    "        output.append(round(Q))\n",
    "    return output"
   ]
  },
  {
   "cell_type": "code",
   "execution_count": 14,
   "id": "50122bfe",
   "metadata": {},
   "outputs": [
    {
     "name": "stdout",
     "output_type": "stream",
     "text": [
      "Enter your input:100,150,180\n"
     ]
    },
    {
     "data": {
      "text/plain": [
       "[18, 22, 24]"
      ]
     },
     "execution_count": 14,
     "metadata": {},
     "output_type": "execute_result"
    }
   ],
   "source": [
    "Calculate()"
   ]
  },
  {
   "cell_type": "markdown",
   "id": "407c34e8",
   "metadata": {},
   "source": [
    "### Question 2: Write a program which takes 2 digits, X,Y as input and generates a 2-dimensional array. The\n",
    "element value in the i-th row and j-th column of the array should be i*j.\n",
    "\n",
    "Note: i=0,1.., X-1; j=0,1,¡Y-1.\n",
    "\n",
    "Example\n",
    "Suppose the following inputs are given to the program:\n",
    "3,5\n",
    "\n",
    "Then, the output of the program should be:\n",
    "[[0, 0, 0, 0, 0], [0, 1, 2, 3, 4], [0, 2, 4, 6, 8]]"
   ]
  },
  {
   "cell_type": "code",
   "execution_count": 18,
   "id": "28ba2cee",
   "metadata": {},
   "outputs": [],
   "source": [
    "def GenerateTwoDimentionalArray(x,y):\n",
    "    import numpy\n",
    "    last_list = numpy.zeros([x,y])\n",
    "    \n",
    "    for i in range(x):\n",
    "        for j in range(y):\n",
    "            last_list [i][j] = i*j\n",
    "    return last_list"
   ]
  },
  {
   "cell_type": "code",
   "execution_count": 20,
   "id": "d700f5a8",
   "metadata": {},
   "outputs": [
    {
     "data": {
      "text/plain": [
       "array([[0., 0., 0., 0., 0.],\n",
       "       [0., 1., 2., 3., 4.],\n",
       "       [0., 2., 4., 6., 8.]])"
      ]
     },
     "execution_count": 20,
     "metadata": {},
     "output_type": "execute_result"
    }
   ],
   "source": [
    "GenerateTwoDimentionalArray(3,5)"
   ]
  },
  {
   "cell_type": "markdown",
   "id": "3a02814e",
   "metadata": {},
   "source": [
    "### Question 3: Write a program that accepts a comma separated sequence of words as input and prints the words in a comma-separated sequence after sorting them alphabetically.\n",
    "\n",
    "Suppose the following input is supplied to the program:\n",
    "\n",
    "without,hello,bag,world\n",
    "\n",
    "Then, the output should be:\n",
    "\n",
    "bag,hello,without,world"
   ]
  },
  {
   "cell_type": "code",
   "execution_count": 21,
   "id": "82c4b942",
   "metadata": {},
   "outputs": [],
   "source": [
    "def SortWordsAlphabetically():\n",
    "    list_of_words = input(\"Enter the words seprated by comma:\")\n",
    "    words = list_of_words.split(\",\")\n",
    "    words.sort()\n",
    "    return words"
   ]
  },
  {
   "cell_type": "code",
   "execution_count": 23,
   "id": "aff39b61",
   "metadata": {},
   "outputs": [
    {
     "name": "stdout",
     "output_type": "stream",
     "text": [
      "Enter the words seprated by comma:Without,Hello,Bag,World,Naveen,Love,Laptop\n"
     ]
    },
    {
     "data": {
      "text/plain": [
       "['Bag', 'Hello', 'Laptop', 'Love', 'Naveen', 'Without', 'World']"
      ]
     },
     "execution_count": 23,
     "metadata": {},
     "output_type": "execute_result"
    }
   ],
   "source": [
    "SortWordsAlphabetically()"
   ]
  },
  {
   "cell_type": "markdown",
   "id": "c6adc1f5",
   "metadata": {},
   "source": [
    "### Question 4: Write a program that accepts a sequence of whitespace separated words as input and prints the words after removing all duplicate words and sorting them alphanumerically.\n",
    "\n",
    "Suppose the following input is supplied to the program:\n",
    "\n",
    "hello world and practice makes perfect and hello world again\n",
    "\n",
    "Then, the output should be:\n",
    "\n",
    "again and hello makes perfect practice world"
   ]
  },
  {
   "cell_type": "code",
   "execution_count": 42,
   "id": "3b77c9fc",
   "metadata": {},
   "outputs": [],
   "source": [
    "def RemoveDuplicates():\n",
    "    words = input(\"Enter the list of words seprated by whitespace:\")\n",
    "    words_list = words.split(\" \")\n",
    "    word_set = set(words_list)\n",
    "    new_list = list(word_set)\n",
    "    new_list.sort()\n",
    "    output =\"\"\n",
    "    for i in new_list:\n",
    "        output += i + \" \"\n",
    "        \n",
    "    return output"
   ]
  },
  {
   "cell_type": "code",
   "execution_count": 43,
   "id": "8bfd45f2",
   "metadata": {},
   "outputs": [
    {
     "name": "stdout",
     "output_type": "stream",
     "text": [
      "Enter the list of words seprated by whitespace:hello world and practice makes perfect and hello world again\n"
     ]
    },
    {
     "data": {
      "text/plain": [
       "'again and hello makes perfect practice world '"
      ]
     },
     "execution_count": 43,
     "metadata": {},
     "output_type": "execute_result"
    }
   ],
   "source": [
    "RemoveDuplicates()"
   ]
  },
  {
   "cell_type": "markdown",
   "id": "7f8d64f1",
   "metadata": {},
   "source": [
    "### Question 5: Write a program that accepts a sentence and calculate the number of letters and digits.\n",
    "\n",
    "Suppose the following input is supplied to the program:\n",
    "hello world! 123\n",
    "\n",
    "Then, the output should be:\n",
    "\n",
    "LETTERS 10\n",
    "\n",
    "DIGITS 3"
   ]
  },
  {
   "cell_type": "code",
   "execution_count": 54,
   "id": "735d3f90",
   "metadata": {},
   "outputs": [],
   "source": [
    "def CalculateDL():\n",
    "    sentence = input(\"Enter the sentence to caluclate digits and letters:\")\n",
    "    digits = 0\n",
    "    letters = 0\n",
    "    for i in sentence:\n",
    "        if i in \"1234567890\":\n",
    "            digits += 1\n",
    "        elif i in \"abcdefghijklmnopqrstuvwxyzABCDEFGHIJKLMNOPQRSTUVWXYZ\":\n",
    "            letters +=1\n",
    "        else:\n",
    "            pass\n",
    "    output = \"Letters\" + \":\" +str(letters) + \"; \" + \"Digits\" +\":\" + str(digits)\n",
    "    \n",
    "    return output"
   ]
  },
  {
   "cell_type": "code",
   "execution_count": 55,
   "id": "8233265e",
   "metadata": {},
   "outputs": [
    {
     "name": "stdout",
     "output_type": "stream",
     "text": [
      "Enter the sentence to caluclate digits and letters:hello world! 123\n"
     ]
    },
    {
     "data": {
      "text/plain": [
       "'Letters:10; Digits:3'"
      ]
     },
     "execution_count": 55,
     "metadata": {},
     "output_type": "execute_result"
    }
   ],
   "source": [
    "CalculateDL()"
   ]
  },
  {
   "cell_type": "markdown",
   "id": "b12f9b73",
   "metadata": {},
   "source": [
    "### Question 6: A website requires the users to input username and password to register. Write a program to check the validity of password input by users.\n",
    "Following are the criteria for checking the password:\n",
    "1. At least 1 letter between [a-z]\n",
    "2. At least 1 number between [0-9]\n",
    "1. At least 1 letter between [A-Z]\n",
    "3. At least 1 character from [$#@]\n",
    "4. Minimum length of transaction password: 6\n",
    "5. Maximum length of transaction password: 12\n",
    "\n",
    "Your program should accept a sequence of comma separated passwords and will check them\n",
    "according to the above criteria. Passwords that match the criteria are to be printed, each\n",
    "separated by a comma.\n",
    "\n",
    "Example\n",
    "\n",
    "If the following passwords are given as input to the program:\n",
    "\n",
    "ABd1234@1,a F1#,2w3E*,2We3345\n",
    "\n",
    "Then, the output of the program should be:\n",
    "\n",
    "ABd1234@1"
   ]
  },
  {
   "cell_type": "code",
   "execution_count": 16,
   "id": "ca0777b5",
   "metadata": {},
   "outputs": [],
   "source": [
    "def CheckPassword(list_of_passwords):\n",
    "    eligible_password_list =[]\n",
    "    for i in list_of_passwords:\n",
    "        lower_aplha = 0\n",
    "        upper_aplha = 0\n",
    "        special_character = 0\n",
    "        for j in i:\n",
    "            if j in \"abcdefghijklmnopqrstuvwxyz\":\n",
    "                lower_aplha += 1\n",
    "            elif j in \"ABCDEFGHIJKLMNOPQRSTUVWXYZ\":\n",
    "                upper_aplha += 1\n",
    "            elif j in '''!()-[]{};:'\"\\,<>./?@#$%^&*_~''':\n",
    "                special_character +=1\n",
    "            elif j == \" \":\n",
    "                pass\n",
    "            else:\n",
    "                pass\n",
    "        \n",
    "        if (lower_aplha >= 1) and (upper_aplha >=1) and (special_character >= 1):\n",
    "            if (len(i)>=6) and (len(i)<12):\n",
    "                eligible_password_list.append(i)\n",
    "    \n",
    "    return eligible_password_list\n",
    "        "
   ]
  },
  {
   "cell_type": "code",
   "execution_count": 14,
   "id": "c473e3d2",
   "metadata": {},
   "outputs": [],
   "source": [
    "passwords =['ABd1234@1','a F1#,2w3E*','2We3345']"
   ]
  },
  {
   "cell_type": "code",
   "execution_count": 17,
   "id": "840e7aac",
   "metadata": {},
   "outputs": [
    {
     "data": {
      "text/plain": [
       "['ABd1234@1', 'a F1#,2w3E*']"
      ]
     },
     "execution_count": 17,
     "metadata": {},
     "output_type": "execute_result"
    }
   ],
   "source": [
    "CheckPassword(passwords)"
   ]
  },
  {
   "cell_type": "markdown",
   "id": "629d4bb0",
   "metadata": {},
   "source": [
    "Both password mathces the criteria"
   ]
  },
  {
   "cell_type": "code",
   "execution_count": null,
   "id": "dde5b4c4",
   "metadata": {},
   "outputs": [],
   "source": []
  }
 ],
 "metadata": {
  "kernelspec": {
   "display_name": "Python 3 (ipykernel)",
   "language": "python",
   "name": "python3"
  },
  "language_info": {
   "codemirror_mode": {
    "name": "ipython",
    "version": 3
   },
   "file_extension": ".py",
   "mimetype": "text/x-python",
   "name": "python",
   "nbconvert_exporter": "python",
   "pygments_lexer": "ipython3",
   "version": "3.9.7"
  }
 },
 "nbformat": 4,
 "nbformat_minor": 5
}
