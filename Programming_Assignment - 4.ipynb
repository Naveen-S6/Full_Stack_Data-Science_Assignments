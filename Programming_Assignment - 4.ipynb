{
 "cells": [
  {
   "cell_type": "markdown",
   "id": "d2f8bce9",
   "metadata": {},
   "source": [
    "### 1. Write a Python Program to Find the Factorial of a Number?"
   ]
  },
  {
   "cell_type": "code",
   "execution_count": 3,
   "id": "55cafc40",
   "metadata": {},
   "outputs": [
    {
     "name": "stdout",
     "output_type": "stream",
     "text": [
      "Facotrial of a nuumber 5 is 120\n"
     ]
    }
   ],
   "source": [
    "import math\n",
    "print(\"Facotrial of a nuumber 5 is\", math.factorial(5))"
   ]
  },
  {
   "cell_type": "code",
   "execution_count": 6,
   "id": "6095ec95",
   "metadata": {},
   "outputs": [],
   "source": [
    "def Factorial(num):\n",
    "    fact = 1\n",
    "    for i in range(1,num+1):\n",
    "        fact *= i\n",
    "    return fact  "
   ]
  },
  {
   "cell_type": "code",
   "execution_count": 7,
   "id": "80d33630",
   "metadata": {},
   "outputs": [
    {
     "data": {
      "text/plain": [
       "120"
      ]
     },
     "execution_count": 7,
     "metadata": {},
     "output_type": "execute_result"
    }
   ],
   "source": [
    "Factorial(5)"
   ]
  },
  {
   "cell_type": "markdown",
   "id": "feb11127",
   "metadata": {},
   "source": [
    "### 2. Write a Python Program to Display the multiplication Table?"
   ]
  },
  {
   "cell_type": "code",
   "execution_count": 8,
   "id": "0f3fb795",
   "metadata": {},
   "outputs": [],
   "source": [
    "def MultiplicationTable(number, rangee):\n",
    "    for i in range(1,rangee+1):\n",
    "        print(number,\"X\",i,\"=\",number*i)"
   ]
  },
  {
   "cell_type": "code",
   "execution_count": 10,
   "id": "b04025cf",
   "metadata": {},
   "outputs": [
    {
     "name": "stdout",
     "output_type": "stream",
     "text": [
      "13 X 1 = 13\n",
      "13 X 2 = 26\n",
      "13 X 3 = 39\n",
      "13 X 4 = 52\n",
      "13 X 5 = 65\n",
      "13 X 6 = 78\n",
      "13 X 7 = 91\n",
      "13 X 8 = 104\n",
      "13 X 9 = 117\n",
      "13 X 10 = 130\n",
      "13 X 11 = 143\n",
      "13 X 12 = 156\n",
      "13 X 13 = 169\n",
      "13 X 14 = 182\n",
      "13 X 15 = 195\n",
      "13 X 16 = 208\n",
      "13 X 17 = 221\n",
      "13 X 18 = 234\n",
      "13 X 19 = 247\n",
      "13 X 20 = 260\n"
     ]
    }
   ],
   "source": [
    "MultiplicationTable(13,20)"
   ]
  },
  {
   "cell_type": "markdown",
   "id": "05878265",
   "metadata": {},
   "source": [
    "### 3. Write a Python Program to Print the Fibonacci sequence?"
   ]
  },
  {
   "cell_type": "code",
   "execution_count": 11,
   "id": "5c7a53ef",
   "metadata": {},
   "outputs": [],
   "source": [
    "def FibonacciSeries(terms):\n",
    "    a = 0\n",
    "    b = 1\n",
    "    series = [a,b]\n",
    "    for i in range(3,terms):\n",
    "        c= a+b\n",
    "        series.append(c)\n",
    "        a=b\n",
    "        b=c\n",
    "    return series"
   ]
  },
  {
   "cell_type": "code",
   "execution_count": 13,
   "id": "81efe980",
   "metadata": {},
   "outputs": [
    {
     "data": {
      "text/plain": [
       "[0, 1, 1, 2, 3, 5, 8, 13, 21, 34, 55, 89, 144, 233, 377, 610, 987, 1597, 2584]"
      ]
     },
     "execution_count": 13,
     "metadata": {},
     "output_type": "execute_result"
    }
   ],
   "source": [
    "FibonacciSeries(20)"
   ]
  },
  {
   "cell_type": "markdown",
   "id": "242d5b16",
   "metadata": {},
   "source": [
    "### 4. Write a Python Program to Check Armstrong Number?"
   ]
  },
  {
   "cell_type": "code",
   "execution_count": 20,
   "id": "d0ebb5e8",
   "metadata": {},
   "outputs": [],
   "source": [
    "def CheckArmstrong(num):\n",
    "    str_num = str(num)\n",
    "    power = len(str_num)\n",
    "    total = 0\n",
    "    for i in str_num:\n",
    "        total += int(i) ** power\n",
    "        \n",
    "    if total == num:\n",
    "        print(num,\"is a Armstrong Number\")\n",
    "        \n",
    "    else:\n",
    "        pass"
   ]
  },
  {
   "cell_type": "code",
   "execution_count": 17,
   "id": "4f01d08d",
   "metadata": {},
   "outputs": [
    {
     "name": "stdout",
     "output_type": "stream",
     "text": [
      "It is a Armstrong Number\n"
     ]
    }
   ],
   "source": [
    "CheckArmstrong(153)"
   ]
  },
  {
   "cell_type": "code",
   "execution_count": 18,
   "id": "d9b4e9aa",
   "metadata": {},
   "outputs": [
    {
     "name": "stdout",
     "output_type": "stream",
     "text": [
      "It is not a Armsstrong Number\n"
     ]
    }
   ],
   "source": [
    "CheckArmstrong(146)"
   ]
  },
  {
   "cell_type": "code",
   "execution_count": 19,
   "id": "ba1efa25",
   "metadata": {},
   "outputs": [
    {
     "name": "stdout",
     "output_type": "stream",
     "text": [
      "It is a Armstrong Number\n"
     ]
    }
   ],
   "source": [
    "CheckArmstrong(1634)"
   ]
  },
  {
   "cell_type": "markdown",
   "id": "d8ab2695",
   "metadata": {},
   "source": [
    "### 5. Write a Python Program to Find Armstrong Number in an Interval?"
   ]
  },
  {
   "cell_type": "code",
   "execution_count": 25,
   "id": "d09bd483",
   "metadata": {},
   "outputs": [
    {
     "name": "stdout",
     "output_type": "stream",
     "text": [
      "153 is a Armstrong Number\n",
      "370 is a Armstrong Number\n",
      "371 is a Armstrong Number\n",
      "407 is a Armstrong Number\n",
      "1634 is a Armstrong Number\n"
     ]
    }
   ],
   "source": [
    "for i in range(100, 2000):\n",
    "    CheckArmstrong(i)"
   ]
  },
  {
   "cell_type": "markdown",
   "id": "f7ca7891",
   "metadata": {},
   "source": [
    "### 6. Write a Python Program to Find the Sum of Natural Numbers?"
   ]
  },
  {
   "cell_type": "markdown",
   "id": "1c99a5ef",
   "metadata": {},
   "source": [
    "Formula : n*(n+1)/2"
   ]
  },
  {
   "cell_type": "code",
   "execution_count": 22,
   "id": "bc3d4a6a",
   "metadata": {},
   "outputs": [],
   "source": [
    "def SumNaturalNumbers(n):\n",
    "    su = n*(n+1)/2\n",
    "    return su"
   ]
  },
  {
   "cell_type": "code",
   "execution_count": 23,
   "id": "830fbfbd",
   "metadata": {},
   "outputs": [
    {
     "data": {
      "text/plain": [
       "136.0"
      ]
     },
     "execution_count": 23,
     "metadata": {},
     "output_type": "execute_result"
    }
   ],
   "source": [
    "SumNaturalNumbers(16)"
   ]
  },
  {
   "cell_type": "code",
   "execution_count": 24,
   "id": "aac09a81",
   "metadata": {},
   "outputs": [
    {
     "data": {
      "text/plain": [
       "9591.0"
      ]
     },
     "execution_count": 24,
     "metadata": {},
     "output_type": "execute_result"
    }
   ],
   "source": [
    "SumNaturalNumbers(138)"
   ]
  },
  {
   "cell_type": "code",
   "execution_count": null,
   "id": "22c757b9",
   "metadata": {},
   "outputs": [],
   "source": []
  }
 ],
 "metadata": {
  "kernelspec": {
   "display_name": "Python 3 (ipykernel)",
   "language": "python",
   "name": "python3"
  },
  "language_info": {
   "codemirror_mode": {
    "name": "ipython",
    "version": 3
   },
   "file_extension": ".py",
   "mimetype": "text/x-python",
   "name": "python",
   "nbconvert_exporter": "python",
   "pygments_lexer": "ipython3",
   "version": "3.9.7"
  }
 },
 "nbformat": 4,
 "nbformat_minor": 5
}
