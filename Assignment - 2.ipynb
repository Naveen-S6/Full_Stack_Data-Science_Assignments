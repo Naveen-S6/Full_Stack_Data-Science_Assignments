{
 "cells": [
  {
   "cell_type": "markdown",
   "id": "bb16f588",
   "metadata": {},
   "source": [
    "### 1.What are the two values of the Boolean data type? How do you write them?\n"
   ]
  },
  {
   "cell_type": "markdown",
   "id": "c86bb145",
   "metadata": {},
   "source": [
    "Two build-in valus of Boolean data type is True and False."
   ]
  },
  {
   "cell_type": "markdown",
   "id": "a667077e",
   "metadata": {},
   "source": [
    "The \"T\" in True and \"F\" in False need to be captial "
   ]
  },
  {
   "cell_type": "markdown",
   "id": "f8ac117f",
   "metadata": {},
   "source": [
    "### 2. What are the three different types of Boolean operators? "
   ]
  },
  {
   "cell_type": "markdown",
   "id": "8530e447",
   "metadata": {},
   "source": [
    "1. AND\n",
    "2. OR\n",
    "3. NOT"
   ]
  },
  {
   "cell_type": "markdown",
   "id": "fd84f49b",
   "metadata": {},
   "source": [
    "### 3. Make a list of each Boolean operator&#39;s truth tables (i.e. every possible combination of Boolean values for the operator and what it evaluate )."
   ]
  },
  {
   "cell_type": "markdown",
   "id": "d1d4fbdf",
   "metadata": {},
   "source": [
    "1. AND\n",
    "\n",
    "a.True + True = True\n",
    "\n",
    "b.False + True = False\n",
    "\n",
    "c.False + False = False\n",
    "\n",
    "d.True + False = False"
   ]
  },
  {
   "cell_type": "markdown",
   "id": "c5de5002",
   "metadata": {},
   "source": [
    "2. OR\n",
    "\n",
    "a. True + True = True\n",
    "\n",
    "b. True + False = True\n",
    "\n",
    "c. False + True = True\n",
    "\n",
    "d. False + False = False"
   ]
  },
  {
   "cell_type": "markdown",
   "id": "04e0b09e",
   "metadata": {},
   "source": [
    "3. NOT\n",
    "\n",
    "a. True = False\n",
    "\n",
    "b. False = True"
   ]
  },
  {
   "cell_type": "markdown",
   "id": "031bb9a2",
   "metadata": {},
   "source": [
    "### 4. What are the values of the following expressions?\n",
    "(5 &gt; 4) and (3 == 5)\n",
    "\n",
    "not (5 &gt; 4)\n",
    "\n",
    "(5 &gt; 4) or (3 == 5)\n",
    "\n",
    "not ((5 &gt; 4) or (3 == 5))\n",
    "\n",
    "(True and True) and (True == False)\n",
    "\n",
    "(not False) or (not True)"
   ]
  },
  {
   "cell_type": "code",
   "execution_count": 1,
   "id": "7182d2c7",
   "metadata": {},
   "outputs": [
    {
     "data": {
      "text/plain": [
       "False"
      ]
     },
     "execution_count": 1,
     "metadata": {},
     "output_type": "execute_result"
    }
   ],
   "source": [
    "(5>4) and (3==5)"
   ]
  },
  {
   "cell_type": "code",
   "execution_count": 2,
   "id": "197464a1",
   "metadata": {},
   "outputs": [
    {
     "data": {
      "text/plain": [
       "False"
      ]
     },
     "execution_count": 2,
     "metadata": {},
     "output_type": "execute_result"
    }
   ],
   "source": [
    "not (5>4)"
   ]
  },
  {
   "cell_type": "code",
   "execution_count": 3,
   "id": "b1d8d7bd",
   "metadata": {},
   "outputs": [
    {
     "data": {
      "text/plain": [
       "True"
      ]
     },
     "execution_count": 3,
     "metadata": {},
     "output_type": "execute_result"
    }
   ],
   "source": [
    "(5>4) or (3==5)"
   ]
  },
  {
   "cell_type": "code",
   "execution_count": 4,
   "id": "ac1e5383",
   "metadata": {},
   "outputs": [
    {
     "data": {
      "text/plain": [
       "False"
      ]
     },
     "execution_count": 4,
     "metadata": {},
     "output_type": "execute_result"
    }
   ],
   "source": [
    "not (5>4) or (3==5)"
   ]
  },
  {
   "cell_type": "code",
   "execution_count": 5,
   "id": "11cae1ca",
   "metadata": {},
   "outputs": [
    {
     "data": {
      "text/plain": [
       "False"
      ]
     },
     "execution_count": 5,
     "metadata": {},
     "output_type": "execute_result"
    }
   ],
   "source": [
    "(True and True) and (True == False)"
   ]
  },
  {
   "cell_type": "code",
   "execution_count": 6,
   "id": "3ac90d25",
   "metadata": {},
   "outputs": [
    {
     "data": {
      "text/plain": [
       "True"
      ]
     },
     "execution_count": 6,
     "metadata": {},
     "output_type": "execute_result"
    }
   ],
   "source": [
    "(not False) or (not True)"
   ]
  },
  {
   "cell_type": "markdown",
   "id": "a1ead448",
   "metadata": {},
   "source": [
    "### 5. What are the six comparison operators?"
   ]
  },
  {
   "cell_type": "markdown",
   "id": "71c3e0c1",
   "metadata": {},
   "source": [
    "1. Equal to (==)\n",
    "\n",
    "2. Greater than (>)\n",
    "\n",
    "3. Less than (<)\n",
    "\n",
    "4. Greater than or equal to (>=)\n",
    "\n",
    "5. Less than or equal to (<=)\n",
    "\n",
    "6. Not equal to (!=)"
   ]
  },
  {
   "cell_type": "markdown",
   "id": "e456b9e9",
   "metadata": {},
   "source": [
    "### 6. How do you tell the difference between the equal to and assignment operators?Describe a condition and when you would use one."
   ]
  },
  {
   "cell_type": "markdown",
   "id": "090f6773",
   "metadata": {},
   "source": [
    "Equal to will have two equal symbols (==) and assignment operator will have only one equal symbol (=)\n",
    "\n",
    "Ex. Equal to mostly will be used for conditional logic statements, whereas assignment operator will be use to assign value to a particular varibale"
   ]
  },
  {
   "cell_type": "markdown",
   "id": "0a927f82",
   "metadata": {},
   "source": [
    "### 7. Identify the three blocks in this code:\n",
    "\n",
    "spam = 0\n",
    "\n",
    "if spam == 10:\n",
    "\n",
    "print(&#39;eggs&#39;)\n",
    "\n",
    "if spam &gt; 5:\n",
    "\n",
    "print(&#39;bacon&#39;)\n",
    "\n",
    "else:\n",
    "\n",
    "print(&#39;ham&#39;)\n",
    "\n",
    "print(&#39;spam&#39;)\n",
    "\n",
    "print(&#39;spam&#39;)"
   ]
  },
  {
   "cell_type": "markdown",
   "id": "2985495a",
   "metadata": {},
   "source": [
    "### Assignment block (Block-1)"
   ]
  },
  {
   "cell_type": "code",
   "execution_count": 7,
   "id": "56947e9a",
   "metadata": {},
   "outputs": [],
   "source": [
    "spam = 0"
   ]
  },
  {
   "cell_type": "markdown",
   "id": "6287e87c",
   "metadata": {},
   "source": [
    "### Conditional Block (Block-2)"
   ]
  },
  {
   "cell_type": "code",
   "execution_count": 8,
   "id": "0db65f81",
   "metadata": {},
   "outputs": [],
   "source": [
    "if spam == 10:\n",
    "    print(\"eggs\")"
   ]
  },
  {
   "cell_type": "markdown",
   "id": "0572a7f4",
   "metadata": {},
   "source": [
    "### Condtional Block (Block-3)"
   ]
  },
  {
   "cell_type": "code",
   "execution_count": 9,
   "id": "28e4c55a",
   "metadata": {},
   "outputs": [
    {
     "name": "stdout",
     "output_type": "stream",
     "text": [
      "ham\n",
      "spam\n",
      "spam\n"
     ]
    }
   ],
   "source": [
    "if spam >5:\n",
    "    print(\"bacon\")\n",
    "    \n",
    "else:\n",
    "    print(\"ham\")\n",
    "    print(\"spam\")\n",
    "    print(\"spam\")"
   ]
  },
  {
   "cell_type": "markdown",
   "id": "098b3be7",
   "metadata": {},
   "source": [
    "### 8. Write code that prints Hello if 1 is stored in spam, prints Howdy if 2 is stored in spam, and prints Greetings! if anything else is stored in spam."
   ]
  },
  {
   "cell_type": "code",
   "execution_count": 10,
   "id": "e15c495c",
   "metadata": {},
   "outputs": [
    {
     "name": "stdout",
     "output_type": "stream",
     "text": [
      "Greetings\n"
     ]
    }
   ],
   "source": [
    "if spam == 1:\n",
    "    print(\"Hello\")\n",
    "elif spam == 2:\n",
    "    print(\"Howdy\")\n",
    "else:\n",
    "    print(\"Greetings\")"
   ]
  },
  {
   "cell_type": "markdown",
   "id": "defa03cb",
   "metadata": {},
   "source": [
    "### 9.If your programme is stuck in an endless loop, what keys you’ll press?"
   ]
  },
  {
   "cell_type": "markdown",
   "id": "f377325f",
   "metadata": {},
   "source": [
    "Ctrl + C will cancel the execution"
   ]
  },
  {
   "cell_type": "markdown",
   "id": "70a8c638",
   "metadata": {},
   "source": [
    "### 10. How can you tell the difference between break and continue?"
   ]
  },
  {
   "cell_type": "markdown",
   "id": "b5a296d1",
   "metadata": {},
   "source": [
    "Break : It will terminate the loop\n",
    "\n",
    "Continue : It will continue with the next iteration"
   ]
  },
  {
   "cell_type": "markdown",
   "id": "bae79c6c",
   "metadata": {},
   "source": [
    "### 11. In a for loop, what is the difference between range(10), range(0, 10), and range(0, 10, 1)?"
   ]
  },
  {
   "cell_type": "code",
   "execution_count": 11,
   "id": "4064f787",
   "metadata": {},
   "outputs": [
    {
     "name": "stdout",
     "output_type": "stream",
     "text": [
      "0\n",
      "1\n",
      "2\n",
      "3\n",
      "4\n",
      "5\n",
      "6\n",
      "7\n",
      "8\n",
      "9\n"
     ]
    }
   ],
   "source": [
    "for i in range(10):\n",
    "    print(i)"
   ]
  },
  {
   "cell_type": "markdown",
   "id": "3633a43a",
   "metadata": {},
   "source": [
    "Without mentioning the starting point, the range as been mentioned. So, by default it will take as 0"
   ]
  },
  {
   "cell_type": "code",
   "execution_count": 12,
   "id": "f2672549",
   "metadata": {},
   "outputs": [
    {
     "name": "stdout",
     "output_type": "stream",
     "text": [
      "0\n",
      "1\n",
      "2\n",
      "3\n",
      "4\n",
      "5\n",
      "6\n",
      "7\n",
      "8\n",
      "9\n"
     ]
    }
   ],
   "source": [
    "for i in range(0,10):\n",
    "    print(i)"
   ]
  },
  {
   "cell_type": "markdown",
   "id": "64f716e4",
   "metadata": {},
   "source": [
    "The starting point has been mentioned. So, from 0 the range will start"
   ]
  },
  {
   "cell_type": "code",
   "execution_count": 13,
   "id": "51b7991a",
   "metadata": {},
   "outputs": [
    {
     "name": "stdout",
     "output_type": "stream",
     "text": [
      "0\n",
      "1\n",
      "2\n",
      "3\n",
      "4\n",
      "5\n",
      "6\n",
      "7\n",
      "8\n",
      "9\n"
     ]
    }
   ],
   "source": [
    "for i in range(0,10,1):\n",
    "    print(i)"
   ]
  },
  {
   "cell_type": "markdown",
   "id": "e0bc85c7",
   "metadata": {},
   "source": [
    "With starting point in this intervals has also been mentioned. So, the range will start from 0 and interval will be 1 for all the iteration."
   ]
  },
  {
   "cell_type": "markdown",
   "id": "076ba52a",
   "metadata": {},
   "source": [
    "### 12. Write a short program that prints the numbers 1 to 10 using a for loop. Then write an equivalent program that prints the numbers 1 to 10 using a while loop."
   ]
  },
  {
   "cell_type": "code",
   "execution_count": 14,
   "id": "6753862c",
   "metadata": {},
   "outputs": [
    {
     "name": "stdout",
     "output_type": "stream",
     "text": [
      "1\n",
      "2\n",
      "3\n",
      "4\n",
      "5\n",
      "6\n",
      "7\n",
      "8\n",
      "9\n",
      "10\n"
     ]
    }
   ],
   "source": [
    "for i in range(1, 11):\n",
    "    print(i)"
   ]
  },
  {
   "cell_type": "code",
   "execution_count": 16,
   "id": "64e93807",
   "metadata": {},
   "outputs": [
    {
     "name": "stdout",
     "output_type": "stream",
     "text": [
      "1\n",
      "2\n",
      "3\n",
      "4\n",
      "5\n",
      "6\n",
      "7\n",
      "8\n",
      "9\n",
      "10\n"
     ]
    }
   ],
   "source": [
    "number = 1\n",
    "\n",
    "while number <=10:\n",
    "    print(number)\n",
    "    number +=1"
   ]
  },
  {
   "cell_type": "markdown",
   "id": "9ec56789",
   "metadata": {},
   "source": [
    "### 13. If you had a function named bacon() inside a module named spam, how would you call it after importing spam?"
   ]
  },
  {
   "cell_type": "markdown",
   "id": "547ad4c3",
   "metadata": {},
   "source": [
    "If imported like this:\n",
    "\n",
    "import spam\n",
    "\n",
    "then\n",
    "\n",
    "spam.bacon()\n",
    "\n",
    "If imported like this:\n",
    "\n",
    "From spam import bacon\n",
    "\n",
    "then\n",
    "\n",
    "bacon\n",
    "\n",
    "will do the job"
   ]
  }
 ],
 "metadata": {
  "kernelspec": {
   "display_name": "Python 3 (ipykernel)",
   "language": "python",
   "name": "python3"
  },
  "language_info": {
   "codemirror_mode": {
    "name": "ipython",
    "version": 3
   },
   "file_extension": ".py",
   "mimetype": "text/x-python",
   "name": "python",
   "nbconvert_exporter": "python",
   "pygments_lexer": "ipython3",
   "version": "3.9.7"
  }
 },
 "nbformat": 4,
 "nbformat_minor": 5
}
