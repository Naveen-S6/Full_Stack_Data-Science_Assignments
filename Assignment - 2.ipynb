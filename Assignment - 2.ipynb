{
 "cells": [
  {
   "cell_type": "markdown",
   "id": "e4c876c9",
   "metadata": {},
   "source": [
    "### 1.What are the two values of the Boolean data type? How do you write them?\n"
   ]
  },
  {
   "cell_type": "markdown",
   "id": "662ab536",
   "metadata": {},
   "source": [
    "Two build-in valus of Boolean data type is True and False."
   ]
  },
  {
   "cell_type": "markdown",
   "id": "f8bd42e5",
   "metadata": {},
   "source": [
    "The \"T\" in True and \"F\" in False need to be captial "
   ]
  },
  {
   "cell_type": "markdown",
   "id": "7f6afcc5",
   "metadata": {},
   "source": [
    "### 2. What are the three different types of Boolean operators? "
   ]
  },
  {
   "cell_type": "markdown",
   "id": "c4df505f",
   "metadata": {},
   "source": [
    "1. AND\n",
    "2. OR\n",
    "3. NOT"
   ]
  },
  {
   "cell_type": "markdown",
   "id": "013d956b",
   "metadata": {},
   "source": [
    "### 3. Make a list of each Boolean operator&#39;s truth tables (i.e. every possible combination of Boolean values for the operator and what it evaluate )."
   ]
  },
  {
   "cell_type": "markdown",
   "id": "bd962279",
   "metadata": {},
   "source": [
    "1. AND\n",
    "\n",
    "a.True + True = True\n",
    "\n",
    "b.False + True = False\n",
    "\n",
    "c.False + False = False\n",
    "\n",
    "d.True + False = False"
   ]
  },
  {
   "cell_type": "markdown",
   "id": "dbc7d6c4",
   "metadata": {},
   "source": [
    "2. OR\n",
    "\n",
    "a. True + True = True\n",
    "\n",
    "b. True + False = True\n",
    "\n",
    "c. False + True = True\n",
    "\n",
    "d. False + False = False"
   ]
  },
  {
   "cell_type": "markdown",
   "id": "b4a9065b",
   "metadata": {},
   "source": [
    "3. NOT\n",
    "\n",
    "a. True = False\n",
    "\n",
    "b. False = True"
   ]
  },
  {
   "cell_type": "markdown",
   "id": "1452daf8",
   "metadata": {},
   "source": [
    "### 4. What are the values of the following expressions?\n",
    "(5 &gt; 4) and (3 == 5)\n",
    "\n",
    "not (5 &gt; 4)\n",
    "\n",
    "(5 &gt; 4) or (3 == 5)\n",
    "\n",
    "not ((5 &gt; 4) or (3 == 5))\n",
    "\n",
    "(True and True) and (True == False)\n",
    "\n",
    "(not False) or (not True)"
   ]
  },
  {
   "cell_type": "code",
   "execution_count": 1,
   "id": "658ad395",
   "metadata": {},
   "outputs": [
    {
     "data": {
      "text/plain": [
       "False"
      ]
     },
     "execution_count": 1,
     "metadata": {},
     "output_type": "execute_result"
    }
   ],
   "source": [
    "(5>4) and (3==5)"
   ]
  },
  {
   "cell_type": "code",
   "execution_count": 2,
   "id": "78560c4b",
   "metadata": {},
   "outputs": [
    {
     "data": {
      "text/plain": [
       "False"
      ]
     },
     "execution_count": 2,
     "metadata": {},
     "output_type": "execute_result"
    }
   ],
   "source": [
    "not (5>4)"
   ]
  },
  {
   "cell_type": "code",
   "execution_count": 3,
   "id": "2274e9f3",
   "metadata": {},
   "outputs": [
    {
     "data": {
      "text/plain": [
       "True"
      ]
     },
     "execution_count": 3,
     "metadata": {},
     "output_type": "execute_result"
    }
   ],
   "source": [
    "(5>4) or (3==5)"
   ]
  },
  {
   "cell_type": "code",
   "execution_count": 4,
   "id": "edf5ef04",
   "metadata": {},
   "outputs": [
    {
     "data": {
      "text/plain": [
       "False"
      ]
     },
     "execution_count": 4,
     "metadata": {},
     "output_type": "execute_result"
    }
   ],
   "source": [
    "not (5>4) or (3==5)"
   ]
  },
  {
   "cell_type": "code",
   "execution_count": 5,
   "id": "a3a0f031",
   "metadata": {},
   "outputs": [
    {
     "data": {
      "text/plain": [
       "False"
      ]
     },
     "execution_count": 5,
     "metadata": {},
     "output_type": "execute_result"
    }
   ],
   "source": [
    "(True and True) and (True == False)"
   ]
  },
  {
   "cell_type": "code",
   "execution_count": 6,
   "id": "ac4513ca",
   "metadata": {},
   "outputs": [
    {
     "data": {
      "text/plain": [
       "True"
      ]
     },
     "execution_count": 6,
     "metadata": {},
     "output_type": "execute_result"
    }
   ],
   "source": [
    "(not False) or (not True)"
   ]
  },
  {
   "cell_type": "markdown",
   "id": "cb527a50",
   "metadata": {},
   "source": [
    "### 5. What are the six comparison operators?"
   ]
  },
  {
   "cell_type": "markdown",
   "id": "4a0dc221",
   "metadata": {},
   "source": [
    "1. Equal to (==)\n",
    "\n",
    "2. Greater than (>)\n",
    "\n",
    "3. Less than (<)\n",
    "\n",
    "4. Greater than or equal to (>=)\n",
    "\n",
    "5. Less than or equal to (<=)\n",
    "\n",
    "6. Not equal to (!=)"
   ]
  },
  {
   "cell_type": "markdown",
   "id": "2a6f0707",
   "metadata": {},
   "source": [
    "### 6. How do you tell the difference between the equal to and assignment operators?Describe a condition and when you would use one."
   ]
  },
  {
   "cell_type": "markdown",
   "id": "ffb5fb20",
   "metadata": {},
   "source": [
    "Equal to will have two equal symbols (==) and assignment operator will have only one equal symbol (=)\n",
    "\n",
    "Ex. Equal to mostly will be used for conditional logic statements, whereas assignment operator will be use to assign value to a particular varibale"
   ]
  },
  {
   "cell_type": "markdown",
   "id": "91b2e40d",
   "metadata": {},
   "source": [
    "### 7. Identify the three blocks in this code:\n",
    "\n",
    "spam = 0\n",
    "\n",
    "if spam == 10:\n",
    "\n",
    "print(&#39;eggs&#39;)\n",
    "\n",
    "if spam &gt; 5:\n",
    "\n",
    "print(&#39;bacon&#39;)\n",
    "\n",
    "else:\n",
    "\n",
    "print(&#39;ham&#39;)\n",
    "\n",
    "print(&#39;spam&#39;)\n",
    "\n",
    "print(&#39;spam&#39;)"
   ]
  },
  {
   "cell_type": "markdown",
   "id": "e0c058ee",
   "metadata": {},
   "source": [
    "### Assignment block (Block-1)"
   ]
  },
  {
   "cell_type": "code",
   "execution_count": 7,
   "id": "2b2aae53",
   "metadata": {},
   "outputs": [],
   "source": [
    "spam = 0"
   ]
  },
  {
   "cell_type": "markdown",
   "id": "44a9f1e8",
   "metadata": {},
   "source": [
    "### Conditional Block (Block-2)"
   ]
  },
  {
   "cell_type": "code",
   "execution_count": 8,
   "id": "03f93882",
   "metadata": {},
   "outputs": [],
   "source": [
    "if spam == 10:\n",
    "    print(\"eggs\")"
   ]
  },
  {
   "cell_type": "markdown",
   "id": "af7642fa",
   "metadata": {},
   "source": [
    "### Condtional Block (Block-3)"
   ]
  },
  {
   "cell_type": "code",
   "execution_count": 9,
   "id": "b3711683",
   "metadata": {},
   "outputs": [
    {
     "name": "stdout",
     "output_type": "stream",
     "text": [
      "ham\n",
      "spam\n",
      "spam\n"
     ]
    }
   ],
   "source": [
    "if spam >5:\n",
    "    print(\"bacon\")\n",
    "    \n",
    "else:\n",
    "    print(\"ham\")\n",
    "    print(\"spam\")\n",
    "    print(\"spam\")"
   ]
  },
  {
   "cell_type": "markdown",
   "id": "a4b2ddd6",
   "metadata": {},
   "source": [
    "### 8. Write code that prints Hello if 1 is stored in spam, prints Howdy if 2 is stored in spam, and prints Greetings! if anything else is stored in spam."
   ]
  },
  {
   "cell_type": "code",
   "execution_count": 10,
   "id": "ff7eed64",
   "metadata": {},
   "outputs": [
    {
     "name": "stdout",
     "output_type": "stream",
     "text": [
      "Greetings\n"
     ]
    }
   ],
   "source": [
    "if spam == 1:\n",
    "    print(\"Hello\")\n",
    "elif spam == 2:\n",
    "    print(\"Howdy\")\n",
    "else:\n",
    "    print(\"Greetings\")"
   ]
  },
  {
   "cell_type": "markdown",
   "id": "b3f1d542",
   "metadata": {},
   "source": [
    "### 9.If your programme is stuck in an endless loop, what keys you’ll press?"
   ]
  },
  {
   "cell_type": "markdown",
   "id": "51d1474a",
   "metadata": {},
   "source": [
    "Ctrl + C will cancel the execution"
   ]
  },
  {
   "cell_type": "markdown",
   "id": "e7075cd6",
   "metadata": {},
   "source": [
    "### 10. How can you tell the difference between break and continue?"
   ]
  },
  {
   "cell_type": "markdown",
   "id": "0ef821c5",
   "metadata": {},
   "source": [
    "Break : It will terminate the loop\n",
    "\n",
    "Continue : It will continue with the next iteration"
   ]
  },
  {
   "cell_type": "markdown",
   "id": "91db82f2",
   "metadata": {},
   "source": [
    "### 11. In a for loop, what is the difference between range(10), range(0, 10), and range(0, 10, 1)?"
   ]
  },
  {
   "cell_type": "code",
   "execution_count": 11,
   "id": "eb7a415a",
   "metadata": {},
   "outputs": [
    {
     "name": "stdout",
     "output_type": "stream",
     "text": [
      "0\n",
      "1\n",
      "2\n",
      "3\n",
      "4\n",
      "5\n",
      "6\n",
      "7\n",
      "8\n",
      "9\n"
     ]
    }
   ],
   "source": [
    "for i in range(10):\n",
    "    print(i)"
   ]
  },
  {
   "cell_type": "markdown",
   "id": "aec92267",
   "metadata": {},
   "source": [
    "Without mentioning the starting point, the range as been mentioned. So, by default it will take as 0"
   ]
  },
  {
   "cell_type": "code",
   "execution_count": 12,
   "id": "584cba75",
   "metadata": {},
   "outputs": [
    {
     "name": "stdout",
     "output_type": "stream",
     "text": [
      "0\n",
      "1\n",
      "2\n",
      "3\n",
      "4\n",
      "5\n",
      "6\n",
      "7\n",
      "8\n",
      "9\n"
     ]
    }
   ],
   "source": [
    "for i in range(0,10):\n",
    "    print(i)"
   ]
  },
  {
   "cell_type": "markdown",
   "id": "031e3de2",
   "metadata": {},
   "source": [
    "The starting point has been mentioned. So, from 0 the range will start"
   ]
  },
  {
   "cell_type": "code",
   "execution_count": 13,
   "id": "6a50f9c6",
   "metadata": {},
   "outputs": [
    {
     "name": "stdout",
     "output_type": "stream",
     "text": [
      "0\n",
      "1\n",
      "2\n",
      "3\n",
      "4\n",
      "5\n",
      "6\n",
      "7\n",
      "8\n",
      "9\n"
     ]
    }
   ],
   "source": [
    "for i in range(0,10,1):\n",
    "    print(i)"
   ]
  },
  {
   "cell_type": "markdown",
   "id": "bb0b7567",
   "metadata": {},
   "source": [
    "With starting point in this intervals has also been mentioned. So, the range will start from 0 and interval will be 1 for all the iteration."
   ]
  },
  {
   "cell_type": "markdown",
   "id": "b0039a07",
   "metadata": {},
   "source": [
    "### 12. Write a short program that prints the numbers 1 to 10 using a for loop. Then write an equivalent program that prints the numbers 1 to 10 using a while loop."
   ]
  },
  {
   "cell_type": "code",
   "execution_count": 14,
   "id": "ab036548",
   "metadata": {},
   "outputs": [
    {
     "name": "stdout",
     "output_type": "stream",
     "text": [
      "1\n",
      "2\n",
      "3\n",
      "4\n",
      "5\n",
      "6\n",
      "7\n",
      "8\n",
      "9\n",
      "10\n"
     ]
    }
   ],
   "source": [
    "for i in range(1, 11):\n",
    "    print(i)"
   ]
  },
  {
   "cell_type": "code",
   "execution_count": 16,
   "id": "c62651fc",
   "metadata": {},
   "outputs": [
    {
     "name": "stdout",
     "output_type": "stream",
     "text": [
      "1\n",
      "2\n",
      "3\n",
      "4\n",
      "5\n",
      "6\n",
      "7\n",
      "8\n",
      "9\n",
      "10\n"
     ]
    }
   ],
   "source": [
    "number = 1\n",
    "\n",
    "while number <=10:\n",
    "    print(number)\n",
    "    number +=1"
   ]
  },
  {
   "cell_type": "markdown",
   "id": "fb31f071",
   "metadata": {},
   "source": [
    "### 13. If you had a function named bacon() inside a module named spam, how would you call it after importing spam?"
   ]
  },
  {
   "cell_type": "markdown",
   "id": "a4afd9b6",
   "metadata": {},
   "source": [
    "If imported like this:\n",
    "\n",
    "import spam\n",
    "\n",
    "then\n",
    "\n",
    "spam.bacon()\n",
    "\n",
    "If imported like this:\n",
    "\n",
    "From spam import bacon\n",
    "\n",
    "then\n",
    "\n",
    "bacon\n",
    "\n",
    "will do the job"
   ]
  }
 ],
 "metadata": {
  "kernelspec": {
   "display_name": "Python 3 (ipykernel)",
   "language": "python",
   "name": "python3"
  },
  "language_info": {
   "codemirror_mode": {
    "name": "ipython",
    "version": 3
   },
   "file_extension": ".py",
   "mimetype": "text/x-python",
   "name": "python",
   "nbconvert_exporter": "python",
   "pygments_lexer": "ipython3",
   "version": "3.9.7"
  }
 },
 "nbformat": 4,
 "nbformat_minor": 5
}
