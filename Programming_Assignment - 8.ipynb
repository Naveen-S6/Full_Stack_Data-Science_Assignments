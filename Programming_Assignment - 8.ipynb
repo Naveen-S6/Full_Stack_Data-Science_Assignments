{
 "cells": [
  {
   "cell_type": "markdown",
   "id": "a4a8691d",
   "metadata": {},
   "source": [
    "### 1. Write a Python Program to Add Two Matrices?"
   ]
  },
  {
   "cell_type": "code",
   "execution_count": 1,
   "id": "60f35aad",
   "metadata": {},
   "outputs": [],
   "source": [
    "mat1 = [[1,2,3],[3,2,1],[3,4,5]]"
   ]
  },
  {
   "cell_type": "code",
   "execution_count": 2,
   "id": "f3b9c209",
   "metadata": {},
   "outputs": [],
   "source": [
    "mat2= [[3,4,5],[6,7,8],[8,7,6]]"
   ]
  },
  {
   "cell_type": "code",
   "execution_count": 10,
   "id": "29f82f80",
   "metadata": {},
   "outputs": [],
   "source": [
    "def AddMat(mat1,mat2):\n",
    "    result = [[0,0,0],[0,0,0],[0,0,0]]\n",
    "    for i in range(len(mat1)):\n",
    "        for j in range(len(mat2)):\n",
    "            result [i][j] = mat1[i][j] + mat2[i][j]\n",
    "    return result"
   ]
  },
  {
   "cell_type": "code",
   "execution_count": 11,
   "id": "c7965e2e",
   "metadata": {},
   "outputs": [
    {
     "data": {
      "text/plain": [
       "[[4, 6, 8], [9, 9, 9], [11, 11, 11]]"
      ]
     },
     "execution_count": 11,
     "metadata": {},
     "output_type": "execute_result"
    }
   ],
   "source": [
    "AddMat(mat1,mat2)"
   ]
  },
  {
   "cell_type": "markdown",
   "id": "11ee0d54",
   "metadata": {},
   "source": [
    "### 2. Write a Python Program to Multiply Two Matrices?"
   ]
  },
  {
   "cell_type": "code",
   "execution_count": 12,
   "id": "dd1997b4",
   "metadata": {},
   "outputs": [],
   "source": [
    "def MulMat(mat1,mat2):\n",
    "    result = [[0,0,0],[0,0,0],[0,0,0]]\n",
    "    for i in range(len(mat1)):\n",
    "        for j in range(len(mat2)):\n",
    "            result [i][j] = mat1[i][j] * mat2[i][j]\n",
    "    return result"
   ]
  },
  {
   "cell_type": "code",
   "execution_count": 13,
   "id": "9b523289",
   "metadata": {},
   "outputs": [
    {
     "data": {
      "text/plain": [
       "[[3, 8, 15], [18, 14, 8], [24, 28, 30]]"
      ]
     },
     "execution_count": 13,
     "metadata": {},
     "output_type": "execute_result"
    }
   ],
   "source": [
    "MulMat(mat1,mat2)"
   ]
  },
  {
   "cell_type": "markdown",
   "id": "db3af3f5",
   "metadata": {},
   "source": [
    "### 3. Write a Python Program to Transpose a Matrix?"
   ]
  },
  {
   "cell_type": "code",
   "execution_count": 14,
   "id": "ced9d8d7",
   "metadata": {},
   "outputs": [],
   "source": [
    "def TransMat(mat1):\n",
    "    result = [[0,0,0],[0,0,0],[0,0,0]]\n",
    "    for i in range(len(mat1)):\n",
    "        for j in range(len(mat1[0])):\n",
    "            result [j][i] = mat1[i][j]\n",
    "    return result"
   ]
  },
  {
   "cell_type": "code",
   "execution_count": 15,
   "id": "1d1c7982",
   "metadata": {},
   "outputs": [
    {
     "data": {
      "text/plain": [
       "[[1, 3, 3], [2, 2, 4], [3, 1, 5]]"
      ]
     },
     "execution_count": 15,
     "metadata": {},
     "output_type": "execute_result"
    }
   ],
   "source": [
    "TransMat(mat1)"
   ]
  },
  {
   "cell_type": "code",
   "execution_count": 16,
   "id": "fc481b8c",
   "metadata": {},
   "outputs": [
    {
     "data": {
      "text/plain": [
       "[[1, 2, 3], [3, 2, 1], [3, 4, 5]]"
      ]
     },
     "execution_count": 16,
     "metadata": {},
     "output_type": "execute_result"
    }
   ],
   "source": [
    "mat1"
   ]
  },
  {
   "cell_type": "markdown",
   "id": "af33cbac",
   "metadata": {},
   "source": [
    "### 4. Write a Python Program to Sort Words in Alphabetic Order?"
   ]
  },
  {
   "cell_type": "code",
   "execution_count": 19,
   "id": "0a0e290d",
   "metadata": {},
   "outputs": [],
   "source": [
    "words = [\"BigBang\",\"Affection\",\"Beauty\",\"Care\",\"Love\",\"Career\"]"
   ]
  },
  {
   "cell_type": "code",
   "execution_count": 24,
   "id": "d973b1a6",
   "metadata": {},
   "outputs": [],
   "source": [
    "words.sort()"
   ]
  },
  {
   "cell_type": "code",
   "execution_count": 25,
   "id": "65dffa25",
   "metadata": {},
   "outputs": [
    {
     "data": {
      "text/plain": [
       "['Affection', 'Beauty', 'BigBang', 'Care', 'Career', 'Love']"
      ]
     },
     "execution_count": 25,
     "metadata": {},
     "output_type": "execute_result"
    }
   ],
   "source": [
    "words"
   ]
  },
  {
   "cell_type": "markdown",
   "id": "de7ef39a",
   "metadata": {},
   "source": [
    "### 5. Write a Python Program to Remove Punctuation From a String?\n"
   ]
  },
  {
   "cell_type": "code",
   "execution_count": 26,
   "id": "ad07b1cf",
   "metadata": {},
   "outputs": [],
   "source": [
    "def RemovePunctuation(sentence):\n",
    "    punctuations = '''!()-[]{};:'\"\\,<>./?@#$%^&*_~'''\n",
    "    output =\"\"\n",
    "    for i in sentence:\n",
    "        if i not in punctuations:\n",
    "            output += i\n",
    "            \n",
    "    return output"
   ]
  },
  {
   "cell_type": "code",
   "execution_count": 28,
   "id": "0f9f02d7",
   "metadata": {},
   "outputs": [
    {
     "data": {
      "text/plain": [
       "'Im Naveen from Vellore which is in Tamil Nadu'"
      ]
     },
     "execution_count": 28,
     "metadata": {},
     "output_type": "execute_result"
    }
   ],
   "source": [
    "RemovePunctuation(\"I'm Naveen, from Vellore, which is in 'Tamil Nadu'\")"
   ]
  },
  {
   "cell_type": "code",
   "execution_count": null,
   "id": "43d85ca6",
   "metadata": {},
   "outputs": [],
   "source": []
  }
 ],
 "metadata": {
  "kernelspec": {
   "display_name": "Python 3 (ipykernel)",
   "language": "python",
   "name": "python3"
  },
  "language_info": {
   "codemirror_mode": {
    "name": "ipython",
    "version": 3
   },
   "file_extension": ".py",
   "mimetype": "text/x-python",
   "name": "python",
   "nbconvert_exporter": "python",
   "pygments_lexer": "ipython3",
   "version": "3.9.7"
  }
 },
 "nbformat": 4,
 "nbformat_minor": 5
}
