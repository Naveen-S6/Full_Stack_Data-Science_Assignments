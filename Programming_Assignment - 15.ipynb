{
 "cells": [
  {
   "cell_type": "markdown",
   "id": "4a6e3ec5",
   "metadata": {},
   "source": [
    "### Please write a program using generator to print the numbers which can be divisible by 5 and 7 between 0 and n in comma separated form while n is input by console.\n",
    "\n",
    "Example:\n",
    "\n",
    "If the following n is given as input to the program:\n",
    "\n",
    "100\n",
    "\n",
    "Then, the output of the program should be:\n",
    "\n",
    "0,35,70"
   ]
  },
  {
   "cell_type": "code",
   "execution_count": 10,
   "id": "1c089c64",
   "metadata": {},
   "outputs": [],
   "source": [
    "def Divsible75(r):\n",
    "    ran = int(r)\n",
    "    for i in range(0,ran+1):\n",
    "        if i % 7 == 0 and i% 5 == 0:\n",
    "            yield i"
   ]
  },
  {
   "cell_type": "code",
   "execution_count": 13,
   "id": "be4d3cfe",
   "metadata": {},
   "outputs": [
    {
     "name": "stdout",
     "output_type": "stream",
     "text": [
      "Enter the highest limit:100\n"
     ]
    },
    {
     "data": {
      "text/plain": [
       "'0,35,70'"
      ]
     },
     "execution_count": 13,
     "metadata": {},
     "output_type": "execute_result"
    }
   ],
   "source": [
    "n = input(\"Enter the highest limit:\")\n",
    "values = []\n",
    "for i in Divsible75(n):\n",
    "    values.append(str(i))\n",
    "    \n",
    "\",\".join(values)"
   ]
  },
  {
   "cell_type": "markdown",
   "id": "d1bca58b",
   "metadata": {},
   "source": [
    "### Please write a program using generator to print the even numbers between 0 and n in comma separated form while n is input by console.\n",
    "\n",
    "Example:\n",
    "\n",
    "If the following n is given as input to the program:\n",
    "\n",
    "10\n",
    "\n",
    "Then, the output of the program should be:\n",
    "\n",
    "0,2,4,6,8,10"
   ]
  },
  {
   "cell_type": "code",
   "execution_count": 14,
   "id": "46b2389f",
   "metadata": {},
   "outputs": [],
   "source": [
    "def EvenNum(r):\n",
    "    ra = int(r)\n",
    "    for i in range(0,ra+1,2):\n",
    "        yield i"
   ]
  },
  {
   "cell_type": "code",
   "execution_count": 16,
   "id": "0074f54b",
   "metadata": {},
   "outputs": [
    {
     "name": "stdout",
     "output_type": "stream",
     "text": [
      "Enter the limit to generate even numbers10\n"
     ]
    },
    {
     "data": {
      "text/plain": [
       "'0,2,4,6,8,10'"
      ]
     },
     "execution_count": 16,
     "metadata": {},
     "output_type": "execute_result"
    }
   ],
   "source": [
    "n = input(\"Enter the limit to generate even numbers\")\n",
    "values = []\n",
    "for i in EvenNum(n):\n",
    "    values.append(str(i))\n",
    "    \n",
    "\",\".join(values)"
   ]
  },
  {
   "cell_type": "markdown",
   "id": "bdf190df",
   "metadata": {},
   "source": [
    "### The Fibonacci Sequence is computed based on the following formula:\n",
    "\n",
    "f(n)=0 if n=0\n",
    "\n",
    "f(n)=1 if n=1\n",
    "\n",
    "f(n)=f(n-1)+f(n-2) if n&gt;1\n",
    "\n",
    "Please write a program using list comprehension to print the Fibonacci Sequence in comma separated form with a given n input by console.\n",
    "\n",
    "Example:\n",
    "\n",
    "If the following n is given as input to the program:\n",
    "\n",
    "7\n",
    "\n",
    "Then, the output of the program should be:\n",
    "\n",
    "0,1,1,2,3,5,8,13"
   ]
  },
  {
   "cell_type": "code",
   "execution_count": 18,
   "id": "9cb03fa9",
   "metadata": {},
   "outputs": [],
   "source": [
    "def f(n):\n",
    "    if n ==1:\n",
    "        return 1\n",
    "    elif n == 0:\n",
    "        return 0\n",
    "    else:\n",
    "        return f(n-1)+f(n-2)"
   ]
  },
  {
   "cell_type": "code",
   "execution_count": 23,
   "id": "d8e26ec1",
   "metadata": {},
   "outputs": [
    {
     "name": "stdout",
     "output_type": "stream",
     "text": [
      "Enter the highest limit:7\n"
     ]
    },
    {
     "data": {
      "text/plain": [
       "'0,1,1,2,3,5,8,13'"
      ]
     },
     "execution_count": 23,
     "metadata": {},
     "output_type": "execute_result"
    }
   ],
   "source": [
    "n2=int(input(\"Enter the highest limit:\"))\n",
    "val = [str(f(x)) for x in range(n2+1)]\n",
    "\",\".join(val)"
   ]
  },
  {
   "cell_type": "markdown",
   "id": "7b83c501",
   "metadata": {},
   "source": [
    "### Assuming that we have some email addresses in the &quot;username@companyname.com&quot; format,\n",
    "\n",
    "please write program to print the user name of a given email address. Both user names and company names are composed of letters only.\n",
    "\n",
    "Example:\n",
    "\n",
    "If the following email address is given as input to the program:\n",
    "\n",
    "john@google.com\n",
    "\n",
    "Then, the output of the program should be:\n",
    "\n",
    "john"
   ]
  },
  {
   "cell_type": "code",
   "execution_count": 41,
   "id": "b9f8343e",
   "metadata": {},
   "outputs": [],
   "source": [
    "import re\n",
    "def check(address):\n",
    "    r = re.match(r\"\\w*\\@\",address)\n",
    "    if r:\n",
    "        return r[0][:-1]"
   ]
  },
  {
   "cell_type": "code",
   "execution_count": 42,
   "id": "587947b6",
   "metadata": {},
   "outputs": [
    {
     "data": {
      "text/plain": [
       "'naveen'"
      ]
     },
     "execution_count": 42,
     "metadata": {},
     "output_type": "execute_result"
    }
   ],
   "source": [
    "check(\"naveen@gmail.com\")"
   ]
  },
  {
   "cell_type": "code",
   "execution_count": 43,
   "id": "b5a393c6",
   "metadata": {},
   "outputs": [
    {
     "data": {
      "text/plain": [
       "'John'"
      ]
     },
     "execution_count": 43,
     "metadata": {},
     "output_type": "execute_result"
    }
   ],
   "source": [
    "check(\"John@google.com\")"
   ]
  },
  {
   "cell_type": "markdown",
   "id": "f704efc2",
   "metadata": {},
   "source": [
    "### Define a class named Shape and its subclass Square. The Square class has an init function which takes a length as argument. Both classes have a area function which can print the area of the shape where Shape&#39;s area is 0 by default."
   ]
  },
  {
   "cell_type": "code",
   "execution_count": 48,
   "id": "eed048e8",
   "metadata": {},
   "outputs": [],
   "source": [
    "class Shape:\n",
    "    def __init__(self,shape_name):\n",
    "        self.shape_name = shape_name\n",
    "        \n",
    "    def area(self,a = 0):\n",
    "        return a\n",
    "    "
   ]
  },
  {
   "cell_type": "code",
   "execution_count": 63,
   "id": "95690f9e",
   "metadata": {},
   "outputs": [],
   "source": [
    "class Square(Shape):\n",
    "    def __init__(self,shape_name,length):\n",
    "        Shape.__init__(self,shape_name)\n",
    "        self.length = length\n",
    "    \n",
    "    def area(self):\n",
    "        a = self.length ** 2\n",
    "        return a"
   ]
  },
  {
   "cell_type": "code",
   "execution_count": 64,
   "id": "04d1b99f",
   "metadata": {},
   "outputs": [],
   "source": [
    "shape1 = Shape(\"DummyShape\")"
   ]
  },
  {
   "cell_type": "code",
   "execution_count": 65,
   "id": "0ca8e189",
   "metadata": {},
   "outputs": [
    {
     "data": {
      "text/plain": [
       "0"
      ]
     },
     "execution_count": 65,
     "metadata": {},
     "output_type": "execute_result"
    }
   ],
   "source": [
    "shape1.area()"
   ]
  },
  {
   "cell_type": "code",
   "execution_count": 66,
   "id": "743a4e8d",
   "metadata": {},
   "outputs": [],
   "source": [
    "square1 = Square(\"Square\",32)"
   ]
  },
  {
   "cell_type": "code",
   "execution_count": 67,
   "id": "380e9fb8",
   "metadata": {},
   "outputs": [
    {
     "data": {
      "text/plain": [
       "1024"
      ]
     },
     "execution_count": 67,
     "metadata": {},
     "output_type": "execute_result"
    }
   ],
   "source": [
    "square1.area()"
   ]
  },
  {
   "cell_type": "code",
   "execution_count": null,
   "id": "0604dd0f",
   "metadata": {},
   "outputs": [],
   "source": []
  }
 ],
 "metadata": {
  "kernelspec": {
   "display_name": "Python 3 (ipykernel)",
   "language": "python",
   "name": "python3"
  },
  "language_info": {
   "codemirror_mode": {
    "name": "ipython",
    "version": 3
   },
   "file_extension": ".py",
   "mimetype": "text/x-python",
   "name": "python",
   "nbconvert_exporter": "python",
   "pygments_lexer": "ipython3",
   "version": "3.9.7"
  }
 },
 "nbformat": 4,
 "nbformat_minor": 5
}
