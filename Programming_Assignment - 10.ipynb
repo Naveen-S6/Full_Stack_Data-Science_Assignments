{
 "cells": [
  {
   "cell_type": "markdown",
   "id": "7286348b",
   "metadata": {},
   "source": [
    "### 1. Write a Python program to find sum of elements in list?"
   ]
  },
  {
   "cell_type": "code",
   "execution_count": 1,
   "id": "a50b25dc",
   "metadata": {},
   "outputs": [],
   "source": [
    "numbers = [12,3,45,52,45,12]"
   ]
  },
  {
   "cell_type": "code",
   "execution_count": 2,
   "id": "4586cd2f",
   "metadata": {},
   "outputs": [
    {
     "data": {
      "text/plain": [
       "169"
      ]
     },
     "execution_count": 2,
     "metadata": {},
     "output_type": "execute_result"
    }
   ],
   "source": [
    "sum(numbers)"
   ]
  },
  {
   "cell_type": "markdown",
   "id": "69b69115",
   "metadata": {},
   "source": [
    "### 2. Write a Python program to Multiply all numbers in the list?"
   ]
  },
  {
   "cell_type": "code",
   "execution_count": 4,
   "id": "33dd4b40",
   "metadata": {},
   "outputs": [
    {
     "data": {
      "text/plain": [
       "45489600"
      ]
     },
     "execution_count": 4,
     "metadata": {},
     "output_type": "execute_result"
    }
   ],
   "source": [
    "import math\n",
    "math.prod(numbers)"
   ]
  },
  {
   "cell_type": "markdown",
   "id": "952ac866",
   "metadata": {},
   "source": [
    "### 3. Write a Python program to find smallest number in a list?"
   ]
  },
  {
   "cell_type": "code",
   "execution_count": 5,
   "id": "018c624e",
   "metadata": {},
   "outputs": [
    {
     "data": {
      "text/plain": [
       "3"
      ]
     },
     "execution_count": 5,
     "metadata": {},
     "output_type": "execute_result"
    }
   ],
   "source": [
    "min(numbers)"
   ]
  },
  {
   "cell_type": "markdown",
   "id": "df8fbd23",
   "metadata": {},
   "source": [
    "### 4. Write a Python program to find largest number in a list?"
   ]
  },
  {
   "cell_type": "code",
   "execution_count": 6,
   "id": "84a5380d",
   "metadata": {},
   "outputs": [
    {
     "data": {
      "text/plain": [
       "52"
      ]
     },
     "execution_count": 6,
     "metadata": {},
     "output_type": "execute_result"
    }
   ],
   "source": [
    "max(numbers)"
   ]
  },
  {
   "cell_type": "markdown",
   "id": "5089097f",
   "metadata": {},
   "source": [
    "### 5. Write a Python program to find second largest number in a list?"
   ]
  },
  {
   "cell_type": "code",
   "execution_count": 7,
   "id": "abde2440",
   "metadata": {},
   "outputs": [
    {
     "data": {
      "text/plain": [
       "45"
      ]
     },
     "execution_count": 7,
     "metadata": {},
     "output_type": "execute_result"
    }
   ],
   "source": [
    "numbers.sort()\n",
    "numbers[-2]"
   ]
  },
  {
   "cell_type": "code",
   "execution_count": 8,
   "id": "1d2707bd",
   "metadata": {},
   "outputs": [
    {
     "data": {
      "text/plain": [
       "[3, 12, 12, 45, 45, 52]"
      ]
     },
     "execution_count": 8,
     "metadata": {},
     "output_type": "execute_result"
    }
   ],
   "source": [
    "numbers"
   ]
  },
  {
   "cell_type": "markdown",
   "id": "e2c73bbf",
   "metadata": {},
   "source": [
    "### 6. Write a Python program to find N largest elements from a list?"
   ]
  },
  {
   "cell_type": "code",
   "execution_count": 9,
   "id": "4ba41209",
   "metadata": {},
   "outputs": [],
   "source": [
    "def NLarge(n,llist):\n",
    "    llist.sort()\n",
    "    return llist[-n]"
   ]
  },
  {
   "cell_type": "code",
   "execution_count": 11,
   "id": "52d04b25",
   "metadata": {},
   "outputs": [
    {
     "data": {
      "text/plain": [
       "12"
      ]
     },
     "execution_count": 11,
     "metadata": {},
     "output_type": "execute_result"
    }
   ],
   "source": [
    "NLarge(4,numbers)"
   ]
  },
  {
   "cell_type": "markdown",
   "id": "f732d5f2",
   "metadata": {},
   "source": [
    "### 7. Write a Python program to print even numbers in a list?"
   ]
  },
  {
   "cell_type": "markdown",
   "id": "3c224858",
   "metadata": {},
   "source": [
    "### 8. Write a Python program to print odd numbers in a List?"
   ]
  },
  {
   "cell_type": "code",
   "execution_count": 27,
   "id": "55ae9f36",
   "metadata": {},
   "outputs": [],
   "source": [
    "number_list=[12,34,11,556,45,22,64,56,77,45,43,76,43,79,96,96,79,45,34,78,98,64,34,34,64]"
   ]
  },
  {
   "cell_type": "code",
   "execution_count": 17,
   "id": "340cebf1",
   "metadata": {},
   "outputs": [],
   "source": [
    "def EvenOdd(nn):\n",
    "    even =[]\n",
    "    odd =[]\n",
    "    for i in nn:\n",
    "        if i % 2 ==0:\n",
    "            even.append(i)\n",
    "        else:\n",
    "            odd.append(i)\n",
    "    return even, odd"
   ]
  },
  {
   "cell_type": "code",
   "execution_count": 18,
   "id": "46320a33",
   "metadata": {},
   "outputs": [
    {
     "data": {
      "text/plain": [
       "([12, 34, 556, 22, 64, 56, 76, 96, 96, 34, 78, 98, 34],\n",
       " [11, 45, 77, 43, 43, 79, 45])"
      ]
     },
     "execution_count": 18,
     "metadata": {},
     "output_type": "execute_result"
    }
   ],
   "source": [
    "EvenOdd(number_list)"
   ]
  },
  {
   "cell_type": "markdown",
   "id": "fba00836",
   "metadata": {},
   "source": [
    "### 9. Write a Python program to Remove empty List from List?"
   ]
  },
  {
   "cell_type": "code",
   "execution_count": 21,
   "id": "f4743408",
   "metadata": {},
   "outputs": [],
   "source": [
    "empty_list = [12,[],34,\"red\",\"ee\",[],43,[],\"qw\",[]]"
   ]
  },
  {
   "cell_type": "code",
   "execution_count": 22,
   "id": "3d2b9cb7",
   "metadata": {},
   "outputs": [],
   "source": [
    "def RemoveEmptyList(ee):\n",
    "    new_list =[]\n",
    "    for i in range(len(ee)):\n",
    "        if ee[i] != []:\n",
    "            new_list.append(ee[i])\n",
    "    return new_list"
   ]
  },
  {
   "cell_type": "code",
   "execution_count": 23,
   "id": "4e7e13a5",
   "metadata": {},
   "outputs": [
    {
     "data": {
      "text/plain": [
       "[12, 34, 'red', 'ee', 43, 'qw']"
      ]
     },
     "execution_count": 23,
     "metadata": {},
     "output_type": "execute_result"
    }
   ],
   "source": [
    "RemoveEmptyList(empty_list)"
   ]
  },
  {
   "cell_type": "markdown",
   "id": "fc852a1e",
   "metadata": {},
   "source": [
    "### 10. Write a Python program to Cloning or Copying a list?"
   ]
  },
  {
   "cell_type": "code",
   "execution_count": 24,
   "id": "310d0a22",
   "metadata": {},
   "outputs": [],
   "source": [
    "new_copy = number_list.copy()"
   ]
  },
  {
   "cell_type": "code",
   "execution_count": 25,
   "id": "5049b4e2",
   "metadata": {},
   "outputs": [
    {
     "data": {
      "text/plain": [
       "[12,\n",
       " 34,\n",
       " 11,\n",
       " 556,\n",
       " 45,\n",
       " 22,\n",
       " 64,\n",
       " 56,\n",
       " 77,\n",
       " 43,\n",
       " 76,\n",
       " 43,\n",
       " 79,\n",
       " 96,\n",
       " 96,\n",
       " 45,\n",
       " 34,\n",
       " 78,\n",
       " 98,\n",
       " 34]"
      ]
     },
     "execution_count": 25,
     "metadata": {},
     "output_type": "execute_result"
    }
   ],
   "source": [
    "new_copy"
   ]
  },
  {
   "cell_type": "markdown",
   "id": "49b5350a",
   "metadata": {},
   "source": [
    "### 11. Write a Python program to Count occurrences of an element in a list?"
   ]
  },
  {
   "cell_type": "code",
   "execution_count": 28,
   "id": "b5abea23",
   "metadata": {},
   "outputs": [],
   "source": [
    "def CountOccurance(list_a):\n",
    "    occurance ={}\n",
    "    for i in list_a:\n",
    "        if i not in occurance:\n",
    "            occurance[i] = 1 \n",
    "        else:\n",
    "            occurance[i] += 1\n",
    "    return occurance"
   ]
  },
  {
   "cell_type": "code",
   "execution_count": 30,
   "id": "0bbe56b7",
   "metadata": {},
   "outputs": [
    {
     "data": {
      "text/plain": [
       "{12: 1,\n",
       " 34: 4,\n",
       " 11: 1,\n",
       " 556: 1,\n",
       " 45: 3,\n",
       " 22: 1,\n",
       " 64: 3,\n",
       " 56: 1,\n",
       " 77: 1,\n",
       " 43: 2,\n",
       " 76: 1,\n",
       " 79: 2,\n",
       " 96: 2,\n",
       " 78: 1,\n",
       " 98: 1}"
      ]
     },
     "execution_count": 30,
     "metadata": {},
     "output_type": "execute_result"
    }
   ],
   "source": [
    "CountOccurance(number_list)"
   ]
  },
  {
   "cell_type": "code",
   "execution_count": 31,
   "id": "21ee0767",
   "metadata": {},
   "outputs": [
    {
     "data": {
      "text/plain": [
       "4"
      ]
     },
     "execution_count": 31,
     "metadata": {},
     "output_type": "execute_result"
    }
   ],
   "source": [
    "number_list.count(34)"
   ]
  },
  {
   "cell_type": "code",
   "execution_count": null,
   "id": "deb451ac",
   "metadata": {},
   "outputs": [],
   "source": []
  }
 ],
 "metadata": {
  "kernelspec": {
   "display_name": "Python 3 (ipykernel)",
   "language": "python",
   "name": "python3"
  },
  "language_info": {
   "codemirror_mode": {
    "name": "ipython",
    "version": 3
   },
   "file_extension": ".py",
   "mimetype": "text/x-python",
   "name": "python",
   "nbconvert_exporter": "python",
   "pygments_lexer": "ipython3",
   "version": "3.9.7"
  }
 },
 "nbformat": 4,
 "nbformat_minor": 5
}
