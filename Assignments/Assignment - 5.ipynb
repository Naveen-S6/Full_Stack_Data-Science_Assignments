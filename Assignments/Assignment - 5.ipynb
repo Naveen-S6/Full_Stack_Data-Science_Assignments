{
 "cells": [
  {
   "cell_type": "markdown",
   "id": "6e529552",
   "metadata": {},
   "source": [
    "### 1. What does an empty dictionary&#39;s code look like?"
   ]
  },
  {
   "cell_type": "code",
   "execution_count": 1,
   "id": "bdf626b9",
   "metadata": {},
   "outputs": [],
   "source": [
    "empty_dic ={}"
   ]
  },
  {
   "cell_type": "code",
   "execution_count": 2,
   "id": "f6c7a6f4",
   "metadata": {},
   "outputs": [
    {
     "data": {
      "text/plain": [
       "{}"
      ]
     },
     "execution_count": 2,
     "metadata": {},
     "output_type": "execute_result"
    }
   ],
   "source": [
    "empty_dic"
   ]
  },
  {
   "cell_type": "markdown",
   "id": "5c5b3b44",
   "metadata": {},
   "source": [
    "### 2. What is the value of a dictionary value with the key &#39;foo&#39; and the value 42?"
   ]
  },
  {
   "cell_type": "markdown",
   "id": "dbfa6537",
   "metadata": {},
   "source": [
    "It would be 42"
   ]
  },
  {
   "cell_type": "code",
   "execution_count": 3,
   "id": "d2932b94",
   "metadata": {},
   "outputs": [],
   "source": [
    "new = {\"foo\":42}"
   ]
  },
  {
   "cell_type": "code",
   "execution_count": 4,
   "id": "59611252",
   "metadata": {},
   "outputs": [
    {
     "data": {
      "text/plain": [
       "42"
      ]
     },
     "execution_count": 4,
     "metadata": {},
     "output_type": "execute_result"
    }
   ],
   "source": [
    "new[\"foo\"]"
   ]
  },
  {
   "cell_type": "markdown",
   "id": "93d9efcd",
   "metadata": {},
   "source": [
    "### 3. What is the most significant distinction between a dictionary and a list?"
   ]
  },
  {
   "cell_type": "markdown",
   "id": "b2c76ce6",
   "metadata": {},
   "source": [
    "Dictionary will stroe the data with key to identify the specific element. List will store all the data, and only be accessed with index value"
   ]
  },
  {
   "cell_type": "markdown",
   "id": "759b5349",
   "metadata": {},
   "source": [
    "### 4. What happens if you try to access spam[&#39;foo&#39;] if spam is {&#39;bar&#39;: 100}?"
   ]
  },
  {
   "cell_type": "markdown",
   "id": "77df4048",
   "metadata": {},
   "source": [
    "It will throw a keywerror"
   ]
  },
  {
   "cell_type": "code",
   "execution_count": 5,
   "id": "46c64081",
   "metadata": {},
   "outputs": [],
   "source": [
    "spam ={'bar':100}"
   ]
  },
  {
   "cell_type": "code",
   "execution_count": 6,
   "id": "b84824f5",
   "metadata": {},
   "outputs": [
    {
     "ename": "KeyError",
     "evalue": "'foo'",
     "output_type": "error",
     "traceback": [
      "\u001b[1;31m---------------------------------------------------------------------------\u001b[0m",
      "\u001b[1;31mKeyError\u001b[0m                                  Traceback (most recent call last)",
      "\u001b[1;32m~\\AppData\\Local\\Temp/ipykernel_16860/3999281786.py\u001b[0m in \u001b[0;36m<module>\u001b[1;34m\u001b[0m\n\u001b[1;32m----> 1\u001b[1;33m \u001b[0mspam\u001b[0m\u001b[1;33m[\u001b[0m\u001b[1;34m'foo'\u001b[0m\u001b[1;33m]\u001b[0m\u001b[1;33m\u001b[0m\u001b[1;33m\u001b[0m\u001b[0m\n\u001b[0m",
      "\u001b[1;31mKeyError\u001b[0m: 'foo'"
     ]
    }
   ],
   "source": [
    "spam['foo']"
   ]
  },
  {
   "cell_type": "markdown",
   "id": "4e503ee0",
   "metadata": {},
   "source": [
    "### 5. If a dictionary is stored in spam, what is the difference between the expressions &#39;cat&#39; in spam and &#39;cat&#39; in spam.keys()?"
   ]
  },
  {
   "cell_type": "markdown",
   "id": "9060f791",
   "metadata": {},
   "source": [
    "Both are same, they will try to match the keys present in the dictionary"
   ]
  },
  {
   "cell_type": "code",
   "execution_count": 7,
   "id": "87323137",
   "metadata": {},
   "outputs": [],
   "source": [
    "d = {\"cat\":20}"
   ]
  },
  {
   "cell_type": "code",
   "execution_count": 9,
   "id": "2355d4ca",
   "metadata": {},
   "outputs": [
    {
     "data": {
      "text/plain": [
       "True"
      ]
     },
     "execution_count": 9,
     "metadata": {},
     "output_type": "execute_result"
    }
   ],
   "source": [
    "\"cat\" in d"
   ]
  },
  {
   "cell_type": "code",
   "execution_count": 10,
   "id": "84e54393",
   "metadata": {},
   "outputs": [
    {
     "data": {
      "text/plain": [
       "True"
      ]
     },
     "execution_count": 10,
     "metadata": {},
     "output_type": "execute_result"
    }
   ],
   "source": [
    "\"cat\" in d.keys()"
   ]
  },
  {
   "cell_type": "markdown",
   "id": "350e77cc",
   "metadata": {},
   "source": [
    "### 6. If a dictionary is stored in spam, what is the difference between the expressions &#39;cat&#39; in spam and &#39;cat&#39; in spam.values()?"
   ]
  },
  {
   "cell_type": "markdown",
   "id": "00dda6ca",
   "metadata": {},
   "source": [
    "cat in spam, will try to match with the keys of the dictionary. whereas the cat in pam.values() will try to match with the values present in the dictionary"
   ]
  },
  {
   "cell_type": "code",
   "execution_count": 11,
   "id": "18206c95",
   "metadata": {},
   "outputs": [
    {
     "data": {
      "text/plain": [
       "True"
      ]
     },
     "execution_count": 11,
     "metadata": {},
     "output_type": "execute_result"
    }
   ],
   "source": [
    "\"cat\" in d"
   ]
  },
  {
   "cell_type": "code",
   "execution_count": 12,
   "id": "4dd1c19a",
   "metadata": {},
   "outputs": [
    {
     "data": {
      "text/plain": [
       "False"
      ]
     },
     "execution_count": 12,
     "metadata": {},
     "output_type": "execute_result"
    }
   ],
   "source": [
    "\"cat\" in d.values()"
   ]
  },
  {
   "cell_type": "markdown",
   "id": "30e4db8b",
   "metadata": {},
   "source": [
    "### 7. What is a shortcut for the following code?\n",
    "if &#39;color&#39; not in spam:\n",
    "\n",
    "spam[&#39;color&#39;] = &#39;black&#39;"
   ]
  },
  {
   "cell_type": "code",
   "execution_count": 13,
   "id": "1988e4d6",
   "metadata": {},
   "outputs": [],
   "source": [
    "spam ={\"river\":\"palar\"}"
   ]
  },
  {
   "cell_type": "code",
   "execution_count": 19,
   "id": "0a08ec0e",
   "metadata": {},
   "outputs": [
    {
     "data": {
      "text/plain": [
       "'Black'"
      ]
     },
     "execution_count": 19,
     "metadata": {},
     "output_type": "execute_result"
    }
   ],
   "source": [
    "spam.setdefault(\"color\",\"Black\")"
   ]
  },
  {
   "cell_type": "markdown",
   "id": "125b8508",
   "metadata": {},
   "source": [
    "### 8. How do you &quot;pretty print&quot; dictionary values using which module and function?"
   ]
  },
  {
   "cell_type": "markdown",
   "id": "e8297c8b",
   "metadata": {},
   "source": [
    "The module is pprint.\n",
    "\n",
    "The functions are pprint.pprint() and pprint.pformat()."
   ]
  },
  {
   "cell_type": "code",
   "execution_count": 20,
   "id": "894f0cb4",
   "metadata": {},
   "outputs": [],
   "source": [
    "sample ={\"one\":1,\"two\":2,\"three\":3,\"four\":4,\"Five\":5}"
   ]
  },
  {
   "cell_type": "code",
   "execution_count": 21,
   "id": "2c86a9d4",
   "metadata": {},
   "outputs": [],
   "source": [
    "import pprint"
   ]
  },
  {
   "cell_type": "code",
   "execution_count": 22,
   "id": "fe827dcd",
   "metadata": {},
   "outputs": [
    {
     "name": "stdout",
     "output_type": "stream",
     "text": [
      "{'Five': 5, 'four': 4, 'one': 1, 'three': 3, 'two': 2}\n"
     ]
    }
   ],
   "source": [
    "pprint.pprint(sample)"
   ]
  },
  {
   "cell_type": "code",
   "execution_count": 23,
   "id": "b42adf41",
   "metadata": {},
   "outputs": [
    {
     "data": {
      "text/plain": [
       "{'one': 1, 'two': 2, 'three': 3, 'four': 4, 'Five': 5}"
      ]
     },
     "execution_count": 23,
     "metadata": {},
     "output_type": "execute_result"
    }
   ],
   "source": [
    "sample"
   ]
  },
  {
   "cell_type": "code",
   "execution_count": 24,
   "id": "5af177bf",
   "metadata": {},
   "outputs": [
    {
     "data": {
      "text/plain": [
       "\"{'Five': 5, 'four': 4, 'one': 1, 'three': 3, 'two': 2}\""
      ]
     },
     "execution_count": 24,
     "metadata": {},
     "output_type": "execute_result"
    }
   ],
   "source": [
    "pprint.pformat(sample)"
   ]
  },
  {
   "cell_type": "code",
   "execution_count": null,
   "id": "6754ed9e",
   "metadata": {},
   "outputs": [],
   "source": []
  }
 ],
 "metadata": {
  "kernelspec": {
   "display_name": "Python 3 (ipykernel)",
   "language": "python",
   "name": "python3"
  },
  "language_info": {
   "codemirror_mode": {
    "name": "ipython",
    "version": 3
   },
   "file_extension": ".py",
   "mimetype": "text/x-python",
   "name": "python",
   "nbconvert_exporter": "python",
   "pygments_lexer": "ipython3",
   "version": "3.9.7"
  }
 },
 "nbformat": 4,
 "nbformat_minor": 5
}
