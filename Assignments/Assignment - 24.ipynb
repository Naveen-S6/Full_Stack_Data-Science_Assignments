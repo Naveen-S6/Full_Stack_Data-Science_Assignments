{
 "cells": [
  {
   "cell_type": "markdown",
   "id": "bbe637fb",
   "metadata": {},
   "source": [
    "### 1. What is the relationship between def statements and lambda expressions ?"
   ]
  },
  {
   "cell_type": "markdown",
   "id": "799e55d8",
   "metadata": {},
   "source": [
    "- def function is used becasue of the simplicity, it can consits of multi line codes, loops nested loops.\n",
    "- It doesnt return any value, if not expilicity mentioned return statment\n",
    "\n",
    "\n",
    "- Lambda function is used as one line function\n",
    "- it returns a object by itself\n"
   ]
  },
  {
   "cell_type": "markdown",
   "id": "3fbf0367",
   "metadata": {},
   "source": [
    "### 2. What is the benefit of lambda?"
   ]
  },
  {
   "cell_type": "markdown",
   "id": "c7ef0ee7",
   "metadata": {},
   "source": [
    "- Allows to create single line funstions\n",
    "- save space and time\n",
    "\n",
    "- Used in Map() and filter() funtion as argument "
   ]
  },
  {
   "cell_type": "markdown",
   "id": "ac81f343",
   "metadata": {},
   "source": [
    "### 3. Compare and contrast map, filter, and reduce."
   ]
  },
  {
   "cell_type": "markdown",
   "id": "e97d1982",
   "metadata": {},
   "source": [
    "MAP()\n",
    "- It is a higher order function\n",
    "- It takes function and iterables as pararmeters, and return the value after applying the function to each iteraters in the iterables"
   ]
  },
  {
   "cell_type": "markdown",
   "id": "d8827235",
   "metadata": {},
   "source": [
    "Filter()\n",
    "-  It is used to generate an output list of values that return true when the function is called"
   ]
  },
  {
   "cell_type": "markdown",
   "id": "fcbdfe9e",
   "metadata": {},
   "source": [
    "Reduce()\n",
    "-  applies a provided function to ‘iterables’ and returns a single value, as the name implies."
   ]
  },
  {
   "cell_type": "markdown",
   "id": "112a9cd8",
   "metadata": {},
   "source": [
    "### 4. What are function annotations, and how are they used?"
   ]
  },
  {
   "cell_type": "markdown",
   "id": "4e1c9f08",
   "metadata": {},
   "source": [
    "Function annotation is the standard way to access the metadata with the arguments and the return value of the function."
   ]
  },
  {
   "cell_type": "markdown",
   "id": "8e7f0733",
   "metadata": {},
   "source": [
    "### 5. What are recursive functions, and how are they used?"
   ]
  },
  {
   "cell_type": "markdown",
   "id": "3630b6ec",
   "metadata": {},
   "source": [
    "- Recursive functions are used in places where the same process has to be repeted and has the base condition\n",
    "- example fibnoci series\n",
    "- It will consume more memory, as it call the same funtion inside the funtion "
   ]
  },
  {
   "cell_type": "markdown",
   "id": "808dc562",
   "metadata": {},
   "source": [
    "### 6. What are some general design guidelines for coding functions?"
   ]
  },
  {
   "cell_type": "markdown",
   "id": "fa534d4d",
   "metadata": {},
   "source": [
    "Safe: It can be used without causing harm.\n",
    "\n",
    "Secure: It can't be hacked.\n",
    "\n",
    "Reliable: It functions as it should, every time.\n",
    "\n",
    "Testable: It can be tested at the code level.\n",
    "\n",
    "Maintainable: It can be maintained, even as your codebase grows.\n",
    "\n",
    "Portable: It works the same in every environm"
   ]
  },
  {
   "cell_type": "code",
   "execution_count": null,
   "id": "9b95397f",
   "metadata": {},
   "outputs": [],
   "source": []
  }
 ],
 "metadata": {
  "kernelspec": {
   "display_name": "Python 3 (ipykernel)",
   "language": "python",
   "name": "python3"
  },
  "language_info": {
   "codemirror_mode": {
    "name": "ipython",
    "version": 3
   },
   "file_extension": ".py",
   "mimetype": "text/x-python",
   "name": "python",
   "nbconvert_exporter": "python",
   "pygments_lexer": "ipython3",
   "version": "3.8.10"
  }
 },
 "nbformat": 4,
 "nbformat_minor": 5
}
