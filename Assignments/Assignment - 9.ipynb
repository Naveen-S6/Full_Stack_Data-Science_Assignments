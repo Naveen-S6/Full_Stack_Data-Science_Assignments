{
 "cells": [
  {
   "cell_type": "markdown",
   "id": "5ae86565",
   "metadata": {},
   "source": [
    "### 1. To what does a relative path refer?"
   ]
  },
  {
   "cell_type": "markdown",
   "id": "35e48e96",
   "metadata": {},
   "source": [
    "Relative Path is the hierarchical path that locates a file or folder on a file system starting from the current directory. "
   ]
  },
  {
   "cell_type": "markdown",
   "id": "6d4bafbb",
   "metadata": {},
   "source": [
    "### 2. What does an absolute path start with your operating system?"
   ]
  },
  {
   "cell_type": "markdown",
   "id": "a2a0080c",
   "metadata": {},
   "source": [
    "An absolute path is a path that contains the entire path to the file or directory that you need to access. This path will begin at the home directory of your computer and will end with the file or directory that you wish to access."
   ]
  },
  {
   "cell_type": "markdown",
   "id": "05ed1469",
   "metadata": {},
   "source": [
    "### 3. What do the functions os.getcwd() and os.chdir() do?"
   ]
  },
  {
   "cell_type": "markdown",
   "id": "8f6fbb7f",
   "metadata": {},
   "source": [
    "os.getcwd() - It will return the current directory"
   ]
  },
  {
   "cell_type": "code",
   "execution_count": 1,
   "id": "599732fc",
   "metadata": {},
   "outputs": [
    {
     "data": {
      "text/plain": [
       "'D:\\\\Naveen\\\\Programming\\\\Full_Stack_Data-Science_Assignments'"
      ]
     },
     "execution_count": 1,
     "metadata": {},
     "output_type": "execute_result"
    }
   ],
   "source": [
    "import os\n",
    "os.getcwd()"
   ]
  },
  {
   "cell_type": "markdown",
   "id": "7a5e86c7",
   "metadata": {},
   "source": [
    "os.chdir() - It will change the current directory"
   ]
  },
  {
   "cell_type": "code",
   "execution_count": 6,
   "id": "03df1b43",
   "metadata": {},
   "outputs": [],
   "source": [
    "os.chdir(\"D:\\\\Naveen\\\\Programming\\\\Full_Stack_Data-Science_Assignments\")"
   ]
  },
  {
   "cell_type": "markdown",
   "id": "51e39bc8",
   "metadata": {},
   "source": [
    "### 4. What are the . and .. folders?"
   ]
  },
  {
   "cell_type": "markdown",
   "id": "282bfba1",
   "metadata": {},
   "source": [
    "single dot represents the current directory itself\n",
    "\n",
    "Double dots are used for moving up in the hierarchy"
   ]
  },
  {
   "cell_type": "markdown",
   "id": "22069971",
   "metadata": {},
   "source": [
    "### 5. In C:\\bacon\\eggs\\spam.txt, which part is the dir name, and which part is the base name?"
   ]
  },
  {
   "cell_type": "markdown",
   "id": "9158035d",
   "metadata": {},
   "source": [
    "Dir name - C:\\bcaon\\eggs\n",
    "    \n",
    "base/file name - spam.txt"
   ]
  },
  {
   "cell_type": "markdown",
   "id": "03b399e4",
   "metadata": {},
   "source": [
    "### 6. What are the three “mode” arguments that can be passed to the open() function?"
   ]
  },
  {
   "cell_type": "markdown",
   "id": "f79b62cb",
   "metadata": {},
   "source": [
    "    'r'       open for reading (default)\n",
    "    \n",
    "    'w'       open for writing, truncating the file first\n",
    "    \n",
    "    'x'       create a new file and open it for writing\n",
    "    \n",
    "    'a'       open for writing, appending to the end of the file if it exists\n",
    "    \n",
    "    'b'       binary mode\n",
    "    \n",
    "    't'       text mode (default)\n",
    "    \n",
    "    '+'       open a disk file for updating (reading and writing)\n",
    "    \n",
    "    'U'       universal newline mode (deprecated)"
   ]
  },
  {
   "cell_type": "markdown",
   "id": "d2fe8d10",
   "metadata": {},
   "source": [
    "### 7. What happens if an existing file is opened in write mode?"
   ]
  },
  {
   "cell_type": "markdown",
   "id": "d003cca8",
   "metadata": {},
   "source": [
    "It will be erased fully first, before writing anything in the file"
   ]
  },
  {
   "cell_type": "markdown",
   "id": "4d62d953",
   "metadata": {},
   "source": [
    "### 8. How do you tell the difference between read() and readlines()?"
   ]
  },
  {
   "cell_type": "markdown",
   "id": "2e49299b",
   "metadata": {},
   "source": [
    "read() - Returns entire file as one string\n",
    "\n",
    "readlines() - Returns list consists of string for each line"
   ]
  },
  {
   "cell_type": "markdown",
   "id": "2db21c08",
   "metadata": {},
   "source": [
    "### 9. What data structure does a shelf value resemble?"
   ]
  },
  {
   "cell_type": "markdown",
   "id": "0210dd97",
   "metadata": {},
   "source": [
    "Dictonary "
   ]
  },
  {
   "cell_type": "code",
   "execution_count": null,
   "id": "79b38f10",
   "metadata": {},
   "outputs": [],
   "source": []
  }
 ],
 "metadata": {
  "kernelspec": {
   "display_name": "Python 3 (ipykernel)",
   "language": "python",
   "name": "python3"
  },
  "language_info": {
   "codemirror_mode": {
    "name": "ipython",
    "version": 3
   },
   "file_extension": ".py",
   "mimetype": "text/x-python",
   "name": "python",
   "nbconvert_exporter": "python",
   "pygments_lexer": "ipython3",
   "version": "3.9.7"
  }
 },
 "nbformat": 4,
 "nbformat_minor": 5
}
