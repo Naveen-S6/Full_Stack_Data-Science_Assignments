{
 "cells": [
  {
   "cell_type": "markdown",
   "id": "e75a95a0",
   "metadata": {},
   "source": [
    "### 1. Why are functions advantageous to have in your programs?"
   ]
  },
  {
   "cell_type": "markdown",
   "id": "ac9eb2b8",
   "metadata": {},
   "source": [
    "* Funcations helps in the code reusablity, where the same steps need to performed several times.\n",
    "\n",
    "* Shorter code and easy to edit"
   ]
  },
  {
   "cell_type": "markdown",
   "id": "0f9232ce",
   "metadata": {},
   "source": [
    "### 2. When does the code in a function run: when it&#39;s specified or when it&#39;s called?"
   ]
  },
  {
   "cell_type": "markdown",
   "id": "6dc2a603",
   "metadata": {},
   "source": [
    "When the funcation is called with right arguments, the funcation code will run."
   ]
  },
  {
   "cell_type": "markdown",
   "id": "41abd96d",
   "metadata": {},
   "source": [
    "### 3. What statement creates a function?"
   ]
  },
  {
   "cell_type": "markdown",
   "id": "ca669bd7",
   "metadata": {},
   "source": [
    "Using **def** keyword a funcation can be created"
   ]
  },
  {
   "cell_type": "markdown",
   "id": "691fb00a",
   "metadata": {},
   "source": [
    "### 4. What is the difference between a function and a function call?"
   ]
  },
  {
   "cell_type": "markdown",
   "id": "45e2b3a4",
   "metadata": {},
   "source": [
    "* Funcation is defining the code for the purpose of reusablity  \n",
    "\n",
    "* Funcation call is calling the funcation with arguments to run the funcation code"
   ]
  },
  {
   "cell_type": "markdown",
   "id": "ebb43185",
   "metadata": {},
   "source": [
    "### 5. How many global scopes are there in a Python program? How many local scopes?"
   ]
  },
  {
   "cell_type": "markdown",
   "id": "5229d7bf",
   "metadata": {},
   "source": [
    "* Only one global scope is there, that is the module itself\n",
    "* Local scopes are creted when the funcation is called, so based on the funcation created it will change"
   ]
  },
  {
   "cell_type": "markdown",
   "id": "41613099",
   "metadata": {},
   "source": [
    "### 6. What happens to variables in a local scope when the function call returns?"
   ]
  },
  {
   "cell_type": "markdown",
   "id": "72779bbd",
   "metadata": {},
   "source": [
    "The local variables retains tha values, till the next call of the funcation. After the next call of the funcation, the values will change based on the next call of the funcation"
   ]
  },
  {
   "cell_type": "markdown",
   "id": "6a6859a9",
   "metadata": {},
   "source": [
    "### 7. What is the concept of a return value? Is it possible to have a return value in an expression?"
   ]
  },
  {
   "cell_type": "markdown",
   "id": "d1157435",
   "metadata": {},
   "source": [
    "Value returned in the end of the call of funcation using the keyword **return** is called return value. Yes, the return value can be in expression but in the string format."
   ]
  },
  {
   "cell_type": "markdown",
   "id": "2610ea65",
   "metadata": {},
   "source": [
    "### 8. If a function does not have a return statement, what is the return value of a call to that function?"
   ]
  },
  {
   "cell_type": "markdown",
   "id": "82ab4ca3",
   "metadata": {},
   "source": [
    "It returns None"
   ]
  },
  {
   "cell_type": "markdown",
   "id": "e86fcf5e",
   "metadata": {},
   "source": [
    "### 9. How do you make a function variable refer to the global variable?"
   ]
  },
  {
   "cell_type": "markdown",
   "id": "fc2bc5e9",
   "metadata": {},
   "source": [
    "By using the **global** keyword, we can use the gloabl variable inside the funcation"
   ]
  },
  {
   "cell_type": "markdown",
   "id": "ed457431",
   "metadata": {},
   "source": [
    "### 10. What is the data type of None?"
   ]
  },
  {
   "cell_type": "code",
   "execution_count": 1,
   "id": "20cbeebc",
   "metadata": {},
   "outputs": [
    {
     "data": {
      "text/plain": [
       "NoneType"
      ]
     },
     "execution_count": 1,
     "metadata": {},
     "output_type": "execute_result"
    }
   ],
   "source": [
    "type(None)"
   ]
  },
  {
   "cell_type": "markdown",
   "id": "7b832ddd",
   "metadata": {},
   "source": [
    "### 11. What does the sentence import areallyourpetsnamederic do?"
   ]
  },
  {
   "cell_type": "markdown",
   "id": "60d13ad7",
   "metadata": {},
   "source": [
    "It tries to import the areallyourpestsnamederic module, if it doesn't present it will throw an error"
   ]
  },
  {
   "cell_type": "code",
   "execution_count": 2,
   "id": "94f608ea",
   "metadata": {},
   "outputs": [
    {
     "ename": "ModuleNotFoundError",
     "evalue": "No module named 'areallyourpetsnamederic'",
     "output_type": "error",
     "traceback": [
      "\u001b[1;31m---------------------------------------------------------------------------\u001b[0m",
      "\u001b[1;31mModuleNotFoundError\u001b[0m                       Traceback (most recent call last)",
      "\u001b[1;32m~\\AppData\\Local\\Temp/ipykernel_13044/51184242.py\u001b[0m in \u001b[0;36m<module>\u001b[1;34m\u001b[0m\n\u001b[1;32m----> 1\u001b[1;33m \u001b[1;32mimport\u001b[0m \u001b[0mareallyourpetsnamederic\u001b[0m\u001b[1;33m\u001b[0m\u001b[1;33m\u001b[0m\u001b[0m\n\u001b[0m",
      "\u001b[1;31mModuleNotFoundError\u001b[0m: No module named 'areallyourpetsnamederic'"
     ]
    }
   ],
   "source": [
    "import areallyourpetsnamederic"
   ]
  },
  {
   "cell_type": "markdown",
   "id": "69e96fd0",
   "metadata": {},
   "source": [
    "### 12. If you had a bacon() feature in a spam module, what would you call it after importing spam?"
   ]
  },
  {
   "cell_type": "markdown",
   "id": "44a24bd5",
   "metadata": {},
   "source": [
    "If the spam module is already imported by using **spam.bacon()**, we can call the funcation"
   ]
  },
  {
   "cell_type": "markdown",
   "id": "3da83481",
   "metadata": {},
   "source": [
    "### 13. What can you do to save a programme from crashing if it encounters an error?"
   ]
  },
  {
   "cell_type": "markdown",
   "id": "9d45ea4d",
   "metadata": {},
   "source": [
    "Error handling can save the program from crashing"
   ]
  },
  {
   "cell_type": "markdown",
   "id": "1147556a",
   "metadata": {},
   "source": [
    "### 14. What is the purpose of the try clause? What is the purpose of the except clause?"
   ]
  },
  {
   "cell_type": "markdown",
   "id": "991d1f14",
   "metadata": {},
   "source": [
    "try block is used to check, if there is any error present in the code. If there is no error present, then the code present inside the try will be executed\n",
    "\n",
    "except block is used to handle the error, if there is any error accorded in the try block code"
   ]
  },
  {
   "cell_type": "code",
   "execution_count": null,
   "id": "b5e5353a",
   "metadata": {},
   "outputs": [],
   "source": []
  }
 ],
 "metadata": {
  "kernelspec": {
   "display_name": "Python 3 (ipykernel)",
   "language": "python",
   "name": "python3"
  },
  "language_info": {
   "codemirror_mode": {
    "name": "ipython",
    "version": 3
   },
   "file_extension": ".py",
   "mimetype": "text/x-python",
   "name": "python",
   "nbconvert_exporter": "python",
   "pygments_lexer": "ipython3",
   "version": "3.9.7"
  }
 },
 "nbformat": 4,
 "nbformat_minor": 5
}
