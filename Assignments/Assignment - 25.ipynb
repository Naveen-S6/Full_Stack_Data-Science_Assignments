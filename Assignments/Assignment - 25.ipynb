{
 "cells": [
  {
   "cell_type": "markdown",
   "id": "0a594e1e",
   "metadata": {},
   "source": [
    "### 1) . What is the difference between enclosing a list comprehension in square brackets and parentheses?"
   ]
  },
  {
   "cell_type": "markdown",
   "id": "9d3bb14b",
   "metadata": {},
   "source": [
    "- Square brackets will create a list, where as paranthese will create generotor \n",
    "\n",
    "- Advantage of creating a generator is, it consumes less memory compare to list\n",
    "\n",
    "- But the disadvantage of creating a generator is, it doesn't have index "
   ]
  },
  {
   "cell_type": "markdown",
   "id": "a93f44ce",
   "metadata": {},
   "source": [
    "### 2) What is the relationship between generators and iterators?"
   ]
  },
  {
   "cell_type": "markdown",
   "id": "5e847c32",
   "metadata": {},
   "source": [
    "Generators are itreables which is used in to loops to iterate through the values\n",
    "\n",
    "iterators are used to in loops to iterate"
   ]
  },
  {
   "cell_type": "markdown",
   "id": "22b26629",
   "metadata": {},
   "source": [
    "### 3) What are the signs that a function is a generator function?"
   ]
  },
  {
   "cell_type": "markdown",
   "id": "823051a1",
   "metadata": {},
   "source": [
    "When a function has yield keyword instead of return statment, It is a generator function"
   ]
  },
  {
   "cell_type": "markdown",
   "id": "ae9f1e28",
   "metadata": {},
   "source": [
    "### 4) What is the purpose of a yield statement?"
   ]
  },
  {
   "cell_type": "markdown",
   "id": "dae86898",
   "metadata": {},
   "source": [
    "Yield statment is used to convert the function into generator\n",
    "\n",
    "Using yield will improve the memory efficiency and subsequently, the performance when looping over a large iterable. "
   ]
  },
  {
   "cell_type": "markdown",
   "id": "6a6221ea",
   "metadata": {},
   "source": [
    "### 5) What is the relationship between map calls and list comprehensions? Make a comparison and contrast between the two."
   ]
  },
  {
   "cell_type": "markdown",
   "id": "553ff628",
   "metadata": {},
   "source": [
    "- List comprehension is more concise and easier to read as compared to map\n",
    "- List comprehension allows filtering. In map, we have no such facility.\n",
    "- Map is faster in case of calling an already defined function"
   ]
  },
  {
   "cell_type": "code",
   "execution_count": null,
   "id": "6cf9dc9d",
   "metadata": {},
   "outputs": [],
   "source": []
  }
 ],
 "metadata": {
  "kernelspec": {
   "display_name": "Python 3 (ipykernel)",
   "language": "python",
   "name": "python3"
  },
  "language_info": {
   "codemirror_mode": {
    "name": "ipython",
    "version": 3
   },
   "file_extension": ".py",
   "mimetype": "text/x-python",
   "name": "python",
   "nbconvert_exporter": "python",
   "pygments_lexer": "ipython3",
   "version": "3.8.10"
  }
 },
 "nbformat": 4,
 "nbformat_minor": 5
}
