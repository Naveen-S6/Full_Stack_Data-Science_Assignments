{
 "cells": [
  {
   "cell_type": "markdown",
   "id": "1047eae2",
   "metadata": {},
   "source": [
    "### 1. What exactly is []?"
   ]
  },
  {
   "cell_type": "markdown",
   "id": "4c28c4b8",
   "metadata": {},
   "source": [
    "It is used to stroe data in list datatype. To covert other datatypes into list, using list() funcation \n",
    "can help to convert"
   ]
  },
  {
   "cell_type": "markdown",
   "id": "f9f58ad5",
   "metadata": {},
   "source": [
    "### 2. In a list of values stored in a variable called spam, how would you assign the value &#39;hello&#39; as the third value? (Assume [2, 4, 6, 8, 10] are in spam.)"
   ]
  },
  {
   "cell_type": "code",
   "execution_count": 1,
   "id": "b1091de2",
   "metadata": {},
   "outputs": [],
   "source": [
    "spam = [2,4,6,8,10]"
   ]
  },
  {
   "cell_type": "code",
   "execution_count": 2,
   "id": "8947cd49",
   "metadata": {},
   "outputs": [],
   "source": [
    "spam[2]= \"Hello\""
   ]
  },
  {
   "cell_type": "code",
   "execution_count": 3,
   "id": "e783c69e",
   "metadata": {},
   "outputs": [
    {
     "data": {
      "text/plain": [
       "[2, 4, 'Hello', 8, 10]"
      ]
     },
     "execution_count": 3,
     "metadata": {},
     "output_type": "execute_result"
    }
   ],
   "source": [
    "spam"
   ]
  },
  {
   "cell_type": "markdown",
   "id": "13cec554",
   "metadata": {},
   "source": [
    "### Let&#39;s pretend the spam includes the list [&#39;a&#39;, &#39;b&#39;, &#39;c&#39;, &#39;d&#39;] for the next three queries.\n",
    "3. What is the value of spam[int(int(&#39;3&#39; * 2) / 11)]?\n",
    "4. What is the value of spam[-1]?\n",
    "5. What is the value of spam[:2]?"
   ]
  },
  {
   "cell_type": "code",
   "execution_count": 6,
   "id": "5545e909",
   "metadata": {},
   "outputs": [
    {
     "data": {
      "text/plain": [
       "'d'"
      ]
     },
     "execution_count": 6,
     "metadata": {},
     "output_type": "execute_result"
    }
   ],
   "source": [
    "spam = [\"a\",'b','c','d']\n",
    "spam[int(int('3'*2)/11)]"
   ]
  },
  {
   "cell_type": "code",
   "execution_count": 7,
   "id": "c0ee24a5",
   "metadata": {},
   "outputs": [
    {
     "data": {
      "text/plain": [
       "'d'"
      ]
     },
     "execution_count": 7,
     "metadata": {},
     "output_type": "execute_result"
    }
   ],
   "source": [
    "spam[-1]"
   ]
  },
  {
   "cell_type": "code",
   "execution_count": 8,
   "id": "b02c1878",
   "metadata": {},
   "outputs": [
    {
     "data": {
      "text/plain": [
       "['a', 'b']"
      ]
     },
     "execution_count": 8,
     "metadata": {},
     "output_type": "execute_result"
    }
   ],
   "source": [
    "spam[:2]"
   ]
  },
  {
   "cell_type": "markdown",
   "id": "e133850a",
   "metadata": {},
   "source": [
    "### Let&#39;s pretend bacon has the list [3.14, &#39;cat,&#39; 11, &#39;cat,&#39; True] for the next three questions.\n",
    "6. What is the value of bacon.index(&#39;cat&#39;)?\n",
    "7. How does bacon.append(99) change the look of the list value in bacon?\n",
    "8. How does bacon.remove(&#39;cat&#39;) change the look of the list in bacon?"
   ]
  },
  {
   "cell_type": "code",
   "execution_count": 9,
   "id": "9fd69a45",
   "metadata": {},
   "outputs": [],
   "source": [
    "bacon = [3.14,'cat',11,'cat',True]"
   ]
  },
  {
   "cell_type": "code",
   "execution_count": 10,
   "id": "0aa10392",
   "metadata": {},
   "outputs": [
    {
     "data": {
      "text/plain": [
       "1"
      ]
     },
     "execution_count": 10,
     "metadata": {},
     "output_type": "execute_result"
    }
   ],
   "source": [
    "bacon.index('cat')"
   ]
  },
  {
   "cell_type": "code",
   "execution_count": 11,
   "id": "6347a44b",
   "metadata": {},
   "outputs": [],
   "source": [
    "bacon.append(99)"
   ]
  },
  {
   "cell_type": "code",
   "execution_count": 12,
   "id": "9f2d12c9",
   "metadata": {},
   "outputs": [
    {
     "data": {
      "text/plain": [
       "[3.14, 'cat', 11, 'cat', True, 99]"
      ]
     },
     "execution_count": 12,
     "metadata": {},
     "output_type": "execute_result"
    }
   ],
   "source": [
    "bacon"
   ]
  },
  {
   "cell_type": "code",
   "execution_count": 13,
   "id": "49145acc",
   "metadata": {},
   "outputs": [],
   "source": [
    "bacon.remove('cat')"
   ]
  },
  {
   "cell_type": "code",
   "execution_count": 14,
   "id": "3f73dd1f",
   "metadata": {},
   "outputs": [
    {
     "data": {
      "text/plain": [
       "[3.14, 11, 'cat', True, 99]"
      ]
     },
     "execution_count": 14,
     "metadata": {},
     "output_type": "execute_result"
    }
   ],
   "source": [
    "bacon"
   ]
  },
  {
   "cell_type": "markdown",
   "id": "5ccabba5",
   "metadata": {},
   "source": [
    "### 9. What are the list concatenation and list replication operators?"
   ]
  },
  {
   "cell_type": "markdown",
   "id": "4f442a19",
   "metadata": {},
   "source": [
    "Concatenation (+) will be used between same datatype to concatenate.\n",
    "\n",
    "Replication (*) will be used to replicate the data for the specified times."
   ]
  },
  {
   "cell_type": "markdown",
   "id": "ca52f93d",
   "metadata": {},
   "source": [
    "### 10. What is difference between the list methods append() and insert()?"
   ]
  },
  {
   "cell_type": "markdown",
   "id": "657254a1",
   "metadata": {},
   "source": [
    "Insert() can be used to add the element in the particular index by specifiying, where as append() will only allow us to add the element in the last of the list"
   ]
  },
  {
   "cell_type": "markdown",
   "id": "98ec2c8f",
   "metadata": {},
   "source": [
    "### 11. What are the two methods for removing items from a list?"
   ]
  },
  {
   "cell_type": "markdown",
   "id": "3f60d902",
   "metadata": {},
   "source": [
    "Del can be used to delete a partiuclar or a range of elements form a list.\n",
    "\n",
    "Syntax:\n",
    "\n",
    "del list[index]\n",
    "\n",
    "del list[start:end]\n",
    "\n",
    "Remove can be used to remove a element in the list by specifiing the element. It will remove the first match.\n",
    "\n",
    "Syntax:\n",
    "\n",
    "list.remove('element')"
   ]
  },
  {
   "cell_type": "markdown",
   "id": "5533e3e1",
   "metadata": {},
   "source": [
    "### 12. Describe how list values and string values are identical."
   ]
  },
  {
   "cell_type": "markdown",
   "id": "6a266a76",
   "metadata": {},
   "source": [
    "Both are ordered collecction of charcters, by using the index value a specific data can be operated. The only difference is list can contain different type of datatype, string can't. In list values will be called as elements."
   ]
  },
  {
   "cell_type": "markdown",
   "id": "54fddb62",
   "metadata": {},
   "source": [
    "### 13. What&#39;s the difference between tuples and lists?"
   ]
  },
  {
   "cell_type": "markdown",
   "id": "da0bf69b",
   "metadata": {},
   "source": [
    "Tuples:\n",
    "\n",
    "Immutable\n",
    "\n",
    "uses ( ) \n",
    "\n",
    "List:\n",
    "\n",
    "Mutable\n",
    "\n",
    "uses [ ]"
   ]
  },
  {
   "cell_type": "markdown",
   "id": "1b8e91eb",
   "metadata": {},
   "source": [
    "### 14. How do you type a tuple value that only contains the integer 42?"
   ]
  },
  {
   "cell_type": "code",
   "execution_count": 20,
   "id": "870bd645",
   "metadata": {},
   "outputs": [],
   "source": [
    "tu = (49)"
   ]
  },
  {
   "cell_type": "code",
   "execution_count": 21,
   "id": "d437e2ac",
   "metadata": {},
   "outputs": [
    {
     "data": {
      "text/plain": [
       "int"
      ]
     },
     "execution_count": 21,
     "metadata": {},
     "output_type": "execute_result"
    }
   ],
   "source": [
    "type(tu)"
   ]
  },
  {
   "cell_type": "code",
   "execution_count": 22,
   "id": "3e46dc95",
   "metadata": {},
   "outputs": [],
   "source": [
    "tup = (49,)"
   ]
  },
  {
   "cell_type": "code",
   "execution_count": 23,
   "id": "5fbb91dc",
   "metadata": {},
   "outputs": [
    {
     "data": {
      "text/plain": [
       "tuple"
      ]
     },
     "execution_count": 23,
     "metadata": {},
     "output_type": "execute_result"
    }
   ],
   "source": [
    "type(tup)"
   ]
  },
  {
   "cell_type": "markdown",
   "id": "27785601",
   "metadata": {},
   "source": [
    "### 15. How do you get a list value&#39;s tuple form? How do you get a tuple value&#39;s list form?"
   ]
  },
  {
   "cell_type": "markdown",
   "id": "5d68d91f",
   "metadata": {},
   "source": [
    "To convert Tuple to list, list()\n",
    "\n",
    "To convert List to tuple, tuple()"
   ]
  },
  {
   "cell_type": "code",
   "execution_count": 24,
   "id": "f550701d",
   "metadata": {},
   "outputs": [],
   "source": [
    "l = [3,4,34,'jdls']\n",
    "t = (3,34,43)"
   ]
  },
  {
   "cell_type": "code",
   "execution_count": 25,
   "id": "f2d86214",
   "metadata": {},
   "outputs": [
    {
     "data": {
      "text/plain": [
       "[3, 34, 43]"
      ]
     },
     "execution_count": 25,
     "metadata": {},
     "output_type": "execute_result"
    }
   ],
   "source": [
    "list(t)"
   ]
  },
  {
   "cell_type": "code",
   "execution_count": 26,
   "id": "300f532a",
   "metadata": {},
   "outputs": [
    {
     "data": {
      "text/plain": [
       "(3, 4, 34, 'jdls')"
      ]
     },
     "execution_count": 26,
     "metadata": {},
     "output_type": "execute_result"
    }
   ],
   "source": [
    "tuple(l)"
   ]
  },
  {
   "cell_type": "markdown",
   "id": "d7d3685d",
   "metadata": {},
   "source": [
    "### 16. Variables that &quot;contain&quot; list values are not necessarily lists themselves. Instead, what do they contain?"
   ]
  },
  {
   "cell_type": "markdown",
   "id": "02a255fb",
   "metadata": {},
   "source": [
    "They contain referece to the list values"
   ]
  },
  {
   "cell_type": "markdown",
   "id": "1dd4fb42",
   "metadata": {},
   "source": [
    "### 17. How do you distinguish between copy.copy() and copy.deepcopy()?"
   ]
  },
  {
   "cell_type": "markdown",
   "id": "66ac3c2a",
   "metadata": {},
   "source": [
    "copy() is shallow copy, which means the values won't be copied instead the reference of the object is copied to the main address. So, the changes made in the orgianl values will reflect in the copied values\n",
    "\n",
    "deepcopy() is actual copy, which copies the orignal values into all new copied value. The changes made in the orgianl data won't refelect in the copied data."
   ]
  }
 ],
 "metadata": {
  "kernelspec": {
   "display_name": "Python 3 (ipykernel)",
   "language": "python",
   "name": "python3"
  },
  "language_info": {
   "codemirror_mode": {
    "name": "ipython",
    "version": 3
   },
   "file_extension": ".py",
   "mimetype": "text/x-python",
   "name": "python",
   "nbconvert_exporter": "python",
   "pygments_lexer": "ipython3",
   "version": "3.9.7"
  }
 },
 "nbformat": 4,
 "nbformat_minor": 5
}
