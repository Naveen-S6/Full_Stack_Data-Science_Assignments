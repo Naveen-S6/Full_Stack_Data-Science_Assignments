{
 "cells": [
  {
   "cell_type": "markdown",
   "id": "42be2781",
   "metadata": {},
   "source": [
    "### 1. How do you distinguish between shutil.copy() and shutil.copytree()?"
   ]
  },
  {
   "cell_type": "markdown",
   "id": "36893a9f",
   "metadata": {},
   "source": [
    "shutil.copy() - Will take source path and destination path, and copy the source file into the destination path.\n",
    "\n",
    "shutil.copytree() - will take the source and destination path, and copy all the contents present in the source path"
   ]
  },
  {
   "cell_type": "code",
   "execution_count": 2,
   "id": "eff67dbc",
   "metadata": {},
   "outputs": [],
   "source": [
    "import os\n",
    "import shutil"
   ]
  },
  {
   "cell_type": "code",
   "execution_count": 4,
   "id": "f72a349c",
   "metadata": {},
   "outputs": [
    {
     "data": {
      "text/plain": [
       "'D:\\\\Naveen\\\\Programming\\\\Full_Stack_Data-Science_Assignments'"
      ]
     },
     "execution_count": 4,
     "metadata": {},
     "output_type": "execute_result"
    }
   ],
   "source": [
    "os.getcwd()"
   ]
  },
  {
   "cell_type": "code",
   "execution_count": 6,
   "id": "11f88aaf",
   "metadata": {},
   "outputs": [],
   "source": [
    "os.chdir(r\"D:\\Naveen\")"
   ]
  },
  {
   "cell_type": "code",
   "execution_count": 11,
   "id": "e05d9f85",
   "metadata": {},
   "outputs": [
    {
     "data": {
      "text/plain": [
       "'D:\\\\Naveen\\\\Assignments\\\\file.pdf'"
      ]
     },
     "execution_count": 11,
     "metadata": {},
     "output_type": "execute_result"
    }
   ],
   "source": [
    "shutil.copy(r\"D:\\Naveen\\Excel\\file.pdf\",r\"D:\\Naveen\\Assignments\")"
   ]
  },
  {
   "cell_type": "code",
   "execution_count": 13,
   "id": "6009303c",
   "metadata": {},
   "outputs": [
    {
     "data": {
      "text/plain": [
       "'D:\\\\Naveen\\\\Assignments_1'"
      ]
     },
     "execution_count": 13,
     "metadata": {},
     "output_type": "execute_result"
    }
   ],
   "source": [
    "shutil.copytree(r\"D:\\Naveen\\PowerBi\",r\"D:\\Naveen\\Assignments_1\")"
   ]
  },
  {
   "cell_type": "markdown",
   "id": "2bf8f958",
   "metadata": {},
   "source": [
    "### 2. What function is used to rename files??"
   ]
  },
  {
   "cell_type": "code",
   "execution_count": 14,
   "id": "54072153",
   "metadata": {},
   "outputs": [],
   "source": [
    "os.rename(r\"D:\\Naveen\\PowerBi\",r\"D:\\Naveen\\New_PowerBi\")"
   ]
  },
  {
   "cell_type": "markdown",
   "id": "c102a011",
   "metadata": {},
   "source": [
    "### 3. What is the difference between the delete functions in the send2trash and shutil modules?"
   ]
  },
  {
   "cell_type": "markdown",
   "id": "1cc3d50e",
   "metadata": {},
   "source": [
    "Delete - This funcation in the shutil module will delete the files permanentaly\n",
    "\n",
    "send2trash - This function will send the files to recycle bin instaed of deleting them"
   ]
  },
  {
   "cell_type": "markdown",
   "id": "0f9dcb04",
   "metadata": {},
   "source": [
    "### 4.ZipFile objects have a close() method just like File objects’ close() method. What ZipFile method is equivalent to File objects’ open() method?"
   ]
  },
  {
   "cell_type": "markdown",
   "id": "afd1e617",
   "metadata": {},
   "source": [
    "zipfile.Zipfile(\"\")"
   ]
  },
  {
   "cell_type": "code",
   "execution_count": 15,
   "id": "af0da137",
   "metadata": {},
   "outputs": [],
   "source": [
    "import zipfile"
   ]
  },
  {
   "cell_type": "code",
   "execution_count": 18,
   "id": "686d66f2",
   "metadata": {},
   "outputs": [],
   "source": [
    "file = zipfile.ZipFile(r\"D:\\Naveen\\New_PowerBi\\DataAnalysisProjects-master.zip\")"
   ]
  },
  {
   "cell_type": "code",
   "execution_count": 20,
   "id": "da5ba559",
   "metadata": {},
   "outputs": [],
   "source": [
    "names = file.namelist()"
   ]
  },
  {
   "cell_type": "code",
   "execution_count": 28,
   "id": "94f42cc7",
   "metadata": {},
   "outputs": [
    {
     "data": {
      "text/plain": [
       "'DataAnalysisProjects-master/2_SalesInsightsTableau/README.md'"
      ]
     },
     "execution_count": 28,
     "metadata": {},
     "output_type": "execute_result"
    }
   ],
   "source": [
    "names[8]"
   ]
  },
  {
   "cell_type": "code",
   "execution_count": 29,
   "id": "0dfc1fae",
   "metadata": {},
   "outputs": [
    {
     "data": {
      "text/plain": [
       "'D:\\\\Naveen\\\\DataAnalysisProjects-master\\\\2_SalesInsightsTableau\\\\README.md'"
      ]
     },
     "execution_count": 29,
     "metadata": {},
     "output_type": "execute_result"
    }
   ],
   "source": [
    "file.extract(names[8])"
   ]
  },
  {
   "cell_type": "markdown",
   "id": "79afe301",
   "metadata": {},
   "source": [
    "### 5. Create a programme that searches a folder tree for files with a certain file extension (such as .pdf or .jpg). Copy these files from whatever location they are in to a new folder."
   ]
  },
  {
   "cell_type": "code",
   "execution_count": 43,
   "id": "924a39c5",
   "metadata": {},
   "outputs": [],
   "source": [
    "def move_pdf(path,destination):\n",
    "    folder = os.path.abspath(path)\n",
    "    desti_folder = os.path.abspath(destination)\n",
    "    \n",
    "    for foldername, subfolder,filenames in os.walk(folder):\n",
    "        for filename in filenames:\n",
    "            if filename.endswith(\".pdf\"):\n",
    "                fileabp = foldername + os.path.sep + filename\n",
    "                print(\"Copying\", filename,  \"file from\",foldername,\"to\", desti_folder)\n",
    "                shutil.copy(fileabp,desti_folder)"
   ]
  },
  {
   "cell_type": "code",
   "execution_count": 47,
   "id": "ecfdd0ca",
   "metadata": {},
   "outputs": [
    {
     "name": "stdout",
     "output_type": "stream",
     "text": [
      "Copying CIPR_Document (1).pdf file from D:\\Naveen\\Infosys to D:\\Naveen\\Assignments\n",
      "Copying CIPR_Document.pdf file from D:\\Naveen\\Infosys to D:\\Naveen\\Assignments\n",
      "Copying NAVEEN  S.pdf file from D:\\Naveen\\Infosys to D:\\Naveen\\Assignments\n",
      "Copying NAVEEN SEM1.pdf file from D:\\Naveen\\Infosys to D:\\Naveen\\Assignments\n",
      "Copying NAVEEN SEM2.pdf file from D:\\Naveen\\Infosys to D:\\Naveen\\Assignments\n",
      "Copying NAVEEN SEM3.pdf file from D:\\Naveen\\Infosys to D:\\Naveen\\Assignments\n",
      "Copying NAVEEN SEM4.pdf file from D:\\Naveen\\Infosys to D:\\Naveen\\Assignments\n",
      "Copying NAVEEN SEM5.pdf file from D:\\Naveen\\Infosys to D:\\Naveen\\Assignments\n",
      "Copying NAVEEN SEM6.pdf file from D:\\Naveen\\Infosys to D:\\Naveen\\Assignments\n",
      "Copying NSR CARD.pdf file from D:\\Naveen\\Infosys to D:\\Naveen\\Assignments\n",
      "Copying nats.pdf file from D:\\Naveen\\Infosys\\Nomination forms to D:\\Naveen\\Assignments\n"
     ]
    }
   ],
   "source": [
    "move_pdf(r\"D:\\Naveen\\Infosys\",\"D:\\\\Naveen\\\\Assignments\")"
   ]
  },
  {
   "cell_type": "code",
   "execution_count": 48,
   "id": "531217e1",
   "metadata": {},
   "outputs": [
    {
     "data": {
      "text/plain": [
       "'\\\\'"
      ]
     },
     "execution_count": 48,
     "metadata": {},
     "output_type": "execute_result"
    }
   ],
   "source": [
    "os.path.sep"
   ]
  },
  {
   "cell_type": "code",
   "execution_count": null,
   "id": "a49c5caa",
   "metadata": {},
   "outputs": [],
   "source": []
  }
 ],
 "metadata": {
  "kernelspec": {
   "display_name": "Python 3 (ipykernel)",
   "language": "python",
   "name": "python3"
  },
  "language_info": {
   "codemirror_mode": {
    "name": "ipython",
    "version": 3
   },
   "file_extension": ".py",
   "mimetype": "text/x-python",
   "name": "python",
   "nbconvert_exporter": "python",
   "pygments_lexer": "ipython3",
   "version": "3.9.7"
  }
 },
 "nbformat": 4,
 "nbformat_minor": 5
}
