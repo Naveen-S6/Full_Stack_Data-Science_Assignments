{
 "cells": [
  {
   "cell_type": "markdown",
   "id": "d30bd9c5",
   "metadata": {},
   "source": [
    "1. In the below elements which of them are values or an expression? eg:- values can be\n",
    "integer or string and expressions will be mathematical operators.\n",
    "*,\n",
    "&#39;hello&#39;,\n",
    "-87.8,\n",
    "-,\n",
    "/,\n",
    "+,\n",
    "6\n"
   ]
  },
  {
   "cell_type": "markdown",
   "id": "54c9d141",
   "metadata": {},
   "source": [
    "### Expressions"
   ]
  },
  {
   "cell_type": "markdown",
   "id": "fac26fa8",
   "metadata": {},
   "source": [
    "*"
   ]
  },
  {
   "cell_type": "markdown",
   "id": "5f92cd47",
   "metadata": {},
   "source": [
    "-"
   ]
  },
  {
   "cell_type": "markdown",
   "id": "57a8fd15",
   "metadata": {},
   "source": [
    "/"
   ]
  },
  {
   "cell_type": "markdown",
   "id": "8001160f",
   "metadata": {},
   "source": [
    "+"
   ]
  },
  {
   "cell_type": "markdown",
   "id": "c5009cdb",
   "metadata": {},
   "source": [
    "### Values"
   ]
  },
  {
   "cell_type": "markdown",
   "id": "565d7cf4",
   "metadata": {},
   "source": [
    "\"hello\""
   ]
  },
  {
   "cell_type": "markdown",
   "id": "d653b492",
   "metadata": {},
   "source": [
    "-87.8"
   ]
  },
  {
   "cell_type": "markdown",
   "id": "8c48260a",
   "metadata": {},
   "source": [
    "6"
   ]
  },
  {
   "cell_type": "markdown",
   "id": "25336bcc",
   "metadata": {},
   "source": [
    "2. What is the difference between string and variable?"
   ]
  },
  {
   "cell_type": "markdown",
   "id": "756dc9da",
   "metadata": {},
   "source": [
    "string is a datatype and variable is used to store different type of data"
   ]
  },
  {
   "cell_type": "markdown",
   "id": "e183dd7c",
   "metadata": {},
   "source": [
    "3. Describe three different data types."
   ]
  },
  {
   "cell_type": "markdown",
   "id": "7ffc8ca6",
   "metadata": {},
   "source": [
    "list : one of the datatype, which is used to store list of different type of data. It is mutable \n",
    "Tuple : It more like list but immutable\n",
    "Dictonary : It is more felxible data type, With key, values can be stored\n",
    "Boolen : Which has two bulid-in values True and False"
   ]
  },
  {
   "cell_type": "markdown",
   "id": "0f559570",
   "metadata": {},
   "source": [
    "4. What is an expression made up of? What do all expressions do?"
   ]
  },
  {
   "cell_type": "markdown",
   "id": "0d6794e9",
   "metadata": {},
   "source": [
    "Expression consists of operators,variables, constants and values to produce a value in the end"
   ]
  },
  {
   "cell_type": "markdown",
   "id": "f76c3080",
   "metadata": {},
   "source": [
    "5. This assignment statements, like spam = 10. What is the difference between an\n",
    "expression and a statement?"
   ]
  },
  {
   "cell_type": "markdown",
   "id": "908cdfdf",
   "metadata": {},
   "source": [
    "statment is used to assign value to a particular varibale, whereas expression is consists of serveral operators, variables and funcations to produce a new value."
   ]
  },
  {
   "cell_type": "markdown",
   "id": "a516c9b7",
   "metadata": {},
   "source": [
    "6. After running the following code, what does the variable bacon contain?\n",
    "bacon = 22\n",
    "bacon + 1"
   ]
  },
  {
   "cell_type": "code",
   "execution_count": 2,
   "id": "30039d48",
   "metadata": {},
   "outputs": [],
   "source": [
    "bacon = 22"
   ]
  },
  {
   "cell_type": "code",
   "execution_count": 4,
   "id": "3364c9bd",
   "metadata": {},
   "outputs": [
    {
     "data": {
      "text/plain": [
       "23"
      ]
     },
     "execution_count": 4,
     "metadata": {},
     "output_type": "execute_result"
    }
   ],
   "source": [
    "bacon + 1"
   ]
  },
  {
   "cell_type": "markdown",
   "id": "a8bcfdd7",
   "metadata": {},
   "source": [
    "7. What should the values of the following two terms be?\n",
    "&#39;spam&#39; + &#39;spamspam&#39;\n",
    "&#39;spam&#39; * 3"
   ]
  },
  {
   "cell_type": "code",
   "execution_count": 5,
   "id": "b8ffcf87",
   "metadata": {},
   "outputs": [
    {
     "data": {
      "text/plain": [
       "'spamspamspam'"
      ]
     },
     "execution_count": 5,
     "metadata": {},
     "output_type": "execute_result"
    }
   ],
   "source": [
    "'spam'+'spamspam'"
   ]
  },
  {
   "cell_type": "code",
   "execution_count": 7,
   "id": "4d09d3b0",
   "metadata": {},
   "outputs": [
    {
     "data": {
      "text/plain": [
       "'spamspamspam'"
      ]
     },
     "execution_count": 7,
     "metadata": {},
     "output_type": "execute_result"
    }
   ],
   "source": [
    "'spam'*3"
   ]
  },
  {
   "cell_type": "markdown",
   "id": "2b2a5636",
   "metadata": {},
   "source": [
    "8. Why is eggs a valid variable name while 100 is invalid?"
   ]
  },
  {
   "cell_type": "markdown",
   "id": "808bb8e5",
   "metadata": {},
   "source": [
    "Because of the complier issue, using the number in the first place of the variable is not vaild. so, egg is valid varibale. Instead of 100 using _100 will be a valid variable"
   ]
  },
  {
   "cell_type": "markdown",
   "id": "5008dbad",
   "metadata": {},
   "source": [
    "9. What three functions can be used to get the integer, floating-point number, or string\n",
    "version of a value?"
   ]
  },
  {
   "cell_type": "code",
   "execution_count": 8,
   "id": "a29147ec",
   "metadata": {},
   "outputs": [],
   "source": [
    "value = 99"
   ]
  },
  {
   "cell_type": "code",
   "execution_count": 9,
   "id": "eca93bf2",
   "metadata": {},
   "outputs": [
    {
     "data": {
      "text/plain": [
       "'99'"
      ]
     },
     "execution_count": 9,
     "metadata": {},
     "output_type": "execute_result"
    }
   ],
   "source": [
    "str(value)"
   ]
  },
  {
   "cell_type": "code",
   "execution_count": 10,
   "id": "befee47e",
   "metadata": {},
   "outputs": [
    {
     "data": {
      "text/plain": [
       "99"
      ]
     },
     "execution_count": 10,
     "metadata": {},
     "output_type": "execute_result"
    }
   ],
   "source": [
    "int(value)"
   ]
  },
  {
   "cell_type": "code",
   "execution_count": 11,
   "id": "cbc4a8a2",
   "metadata": {},
   "outputs": [
    {
     "data": {
      "text/plain": [
       "99.0"
      ]
     },
     "execution_count": 11,
     "metadata": {},
     "output_type": "execute_result"
    }
   ],
   "source": [
    "float(value)"
   ]
  },
  {
   "cell_type": "markdown",
   "id": "71e08690",
   "metadata": {},
   "source": [
    "10. Why does this expression cause an error? How can you fix it?\n",
    "&#39;I have eaten &#39; + 99 + &#39; burritos.&#39;"
   ]
  },
  {
   "cell_type": "markdown",
   "id": "8680bc96",
   "metadata": {},
   "source": [
    "Concatenating string and interger data type is not a possible, so converting the integer into string will solve the issue"
   ]
  },
  {
   "cell_type": "code",
   "execution_count": 13,
   "id": "f28ab860",
   "metadata": {},
   "outputs": [
    {
     "data": {
      "text/plain": [
       "'I have eaten 99 burritos'"
      ]
     },
     "execution_count": 13,
     "metadata": {},
     "output_type": "execute_result"
    }
   ],
   "source": [
    "'I have eaten' +\" \" +str(99)+\" \"+'burritos'"
   ]
  }
 ],
 "metadata": {
  "kernelspec": {
   "display_name": "Python 3 (ipykernel)",
   "language": "python",
   "name": "python3"
  },
  "language_info": {
   "codemirror_mode": {
    "name": "ipython",
    "version": 3
   },
   "file_extension": ".py",
   "mimetype": "text/x-python",
   "name": "python",
   "nbconvert_exporter": "python",
   "pygments_lexer": "ipython3",
   "version": "3.9.7"
  }
 },
 "nbformat": 4,
 "nbformat_minor": 5
}
