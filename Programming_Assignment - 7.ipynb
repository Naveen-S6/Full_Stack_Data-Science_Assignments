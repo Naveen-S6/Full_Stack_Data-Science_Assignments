{
 "cells": [
  {
   "cell_type": "markdown",
   "id": "0dda32c4",
   "metadata": {},
   "source": [
    "### 1. Write a Python Program to find sum of array?"
   ]
  },
  {
   "cell_type": "code",
   "execution_count": 1,
   "id": "c281f493",
   "metadata": {},
   "outputs": [],
   "source": [
    "def add(array):\n",
    "    ss = 0\n",
    "    for i in array:\n",
    "        ss += i\n",
    "    \n",
    "    return ss"
   ]
  },
  {
   "cell_type": "code",
   "execution_count": 2,
   "id": "c92d8859",
   "metadata": {},
   "outputs": [],
   "source": [
    "array = [12,39,21,45,23,64]"
   ]
  },
  {
   "cell_type": "code",
   "execution_count": 3,
   "id": "cdfde1c0",
   "metadata": {},
   "outputs": [
    {
     "data": {
      "text/plain": [
       "204"
      ]
     },
     "execution_count": 3,
     "metadata": {},
     "output_type": "execute_result"
    }
   ],
   "source": [
    "add(array)"
   ]
  },
  {
   "cell_type": "code",
   "execution_count": 4,
   "id": "d400f6e9",
   "metadata": {},
   "outputs": [
    {
     "data": {
      "text/plain": [
       "204"
      ]
     },
     "execution_count": 4,
     "metadata": {},
     "output_type": "execute_result"
    }
   ],
   "source": [
    "sum(array)"
   ]
  },
  {
   "cell_type": "markdown",
   "id": "799cac6d",
   "metadata": {},
   "source": [
    "### 2. Write a Python Program to find largest element in an array?"
   ]
  },
  {
   "cell_type": "code",
   "execution_count": 5,
   "id": "5e504c05",
   "metadata": {},
   "outputs": [
    {
     "data": {
      "text/plain": [
       "64"
      ]
     },
     "execution_count": 5,
     "metadata": {},
     "output_type": "execute_result"
    }
   ],
   "source": [
    "max(array)"
   ]
  },
  {
   "cell_type": "markdown",
   "id": "640e739d",
   "metadata": {},
   "source": [
    "### 3. Write a Python Program for array rotation?"
   ]
  },
  {
   "cell_type": "code",
   "execution_count": 8,
   "id": "ae10defc",
   "metadata": {},
   "outputs": [],
   "source": [
    "array = [1,2,3,4,5,6,7]"
   ]
  },
  {
   "cell_type": "code",
   "execution_count": 12,
   "id": "e6e89e96",
   "metadata": {},
   "outputs": [],
   "source": [
    "array.reverse()"
   ]
  },
  {
   "cell_type": "code",
   "execution_count": 13,
   "id": "5bc60d5d",
   "metadata": {},
   "outputs": [
    {
     "data": {
      "text/plain": [
       "[7, 6, 5, 4, 3, 2, 1]"
      ]
     },
     "execution_count": 13,
     "metadata": {},
     "output_type": "execute_result"
    }
   ],
   "source": [
    "array"
   ]
  },
  {
   "cell_type": "markdown",
   "id": "4c7bcf9c",
   "metadata": {},
   "source": [
    "### 4. Write a Python Program to Split the array and add the first part to the end?"
   ]
  },
  {
   "cell_type": "code",
   "execution_count": 14,
   "id": "250760bb",
   "metadata": {},
   "outputs": [],
   "source": [
    "def Split(a,d):\n",
    "    temp = []\n",
    "    n = len(a)\n",
    "    \n",
    "    for i in range(d, n):\n",
    "        temp.append(a[i])\n",
    "        \n",
    "    for j in range(0,d):\n",
    "        temp.append(a[j])\n",
    "    \n",
    "    return temp"
   ]
  },
  {
   "cell_type": "code",
   "execution_count": 15,
   "id": "6c6f5f6e",
   "metadata": {},
   "outputs": [],
   "source": [
    "arr = [1,2,3,4,5,6,7]"
   ]
  },
  {
   "cell_type": "code",
   "execution_count": 16,
   "id": "0626b8f7",
   "metadata": {},
   "outputs": [
    {
     "data": {
      "text/plain": [
       "[3, 4, 5, 6, 7, 1, 2]"
      ]
     },
     "execution_count": 16,
     "metadata": {},
     "output_type": "execute_result"
    }
   ],
   "source": [
    "Split(arr,2)"
   ]
  },
  {
   "cell_type": "markdown",
   "id": "6c9973e4",
   "metadata": {},
   "source": [
    "### 5. Write a Python Program to check if given array is Monotonic?"
   ]
  },
  {
   "cell_type": "markdown",
   "id": "1b0522d0",
   "metadata": {},
   "source": [
    "An array is monotonic if it is either monotone increasing or monotone decreasing"
   ]
  },
  {
   "cell_type": "code",
   "execution_count": 42,
   "id": "90e39b56",
   "metadata": {},
   "outputs": [],
   "source": [
    "def Monotonic(arr):\n",
    "    count1 = 0\n",
    "    count2 = 0\n",
    "    for i in range(0, len(arr)-1):\n",
    "        if arr[i]>=arr[i+1]:\n",
    "            count1 += 1\n",
    "        elif arr[i]<=arr[i+1]:\n",
    "            count2 += 1\n",
    "    if count1 == (len(arr)-1) or count2 == (len(arr)-1):\n",
    "        return \"It is Monotonic\"\n",
    "    else:\n",
    "        return \"It is not Monotonic\""
   ]
  },
  {
   "cell_type": "code",
   "execution_count": 36,
   "id": "0ed92936",
   "metadata": {},
   "outputs": [],
   "source": [
    "arr = [1,2,3,5,6]"
   ]
  },
  {
   "cell_type": "code",
   "execution_count": 37,
   "id": "1e24132d",
   "metadata": {},
   "outputs": [
    {
     "data": {
      "text/plain": [
       "'It is Monotonic'"
      ]
     },
     "execution_count": 37,
     "metadata": {},
     "output_type": "execute_result"
    }
   ],
   "source": [
    "Monotonic(arr)"
   ]
  },
  {
   "cell_type": "code",
   "execution_count": 38,
   "id": "aa8f5b6c",
   "metadata": {},
   "outputs": [],
   "source": [
    "arr2 = [23,20,10,3,1]"
   ]
  },
  {
   "cell_type": "code",
   "execution_count": 39,
   "id": "a70ef8f7",
   "metadata": {},
   "outputs": [
    {
     "data": {
      "text/plain": [
       "'It is Monotonic'"
      ]
     },
     "execution_count": 39,
     "metadata": {},
     "output_type": "execute_result"
    }
   ],
   "source": [
    "Monotonic(arr2)"
   ]
  },
  {
   "cell_type": "code",
   "execution_count": 40,
   "id": "8ed78b6b",
   "metadata": {},
   "outputs": [],
   "source": [
    "arr3 = [15,20,14,30,43]"
   ]
  },
  {
   "cell_type": "code",
   "execution_count": 43,
   "id": "82493db0",
   "metadata": {},
   "outputs": [
    {
     "data": {
      "text/plain": [
       "'It is not Monotonic'"
      ]
     },
     "execution_count": 43,
     "metadata": {},
     "output_type": "execute_result"
    }
   ],
   "source": [
    "Monotonic(arr3)"
   ]
  },
  {
   "cell_type": "code",
   "execution_count": null,
   "id": "697fae3b",
   "metadata": {},
   "outputs": [],
   "source": []
  }
 ],
 "metadata": {
  "kernelspec": {
   "display_name": "Python 3 (ipykernel)",
   "language": "python",
   "name": "python3"
  },
  "language_info": {
   "codemirror_mode": {
    "name": "ipython",
    "version": 3
   },
   "file_extension": ".py",
   "mimetype": "text/x-python",
   "name": "python",
   "nbconvert_exporter": "python",
   "pygments_lexer": "ipython3",
   "version": "3.9.7"
  }
 },
 "nbformat": 4,
 "nbformat_minor": 5
}
