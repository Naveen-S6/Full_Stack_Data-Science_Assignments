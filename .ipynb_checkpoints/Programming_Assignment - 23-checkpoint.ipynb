{
 "cells": [
  {
   "cell_type": "markdown",
   "id": "3e48ed62",
   "metadata": {},
   "source": [
    "### Question 1 : Create a function that takes a number as an argument and returns True or False depending on whether the number is symmetrical or not. A number is symmetrical when it is the same as its reverse.\n",
    "\n",
    "Examples\n",
    "\n",
    "is_symmetrical(7227) ➞ True\n",
    "\n",
    "is_symmetrical(12567) ➞ False\n",
    "\n",
    "is_symmetrical(44444444) ➞ True\n",
    "\n",
    "is_symmetrical(9939) ➞ False\n",
    "\n",
    "is_symmetrical(1112111) ➞ True"
   ]
  },
  {
   "cell_type": "code",
   "execution_count": 3,
   "id": "6ca103dd",
   "metadata": {},
   "outputs": [],
   "source": [
    "def is_symmentrical(num):\n",
    "    s_num = str(num)\n",
    "    if s_num == s_num[::-1]:\n",
    "        return True\n",
    "    else:\n",
    "        return False"
   ]
  },
  {
   "cell_type": "code",
   "execution_count": 4,
   "id": "99ff648f",
   "metadata": {},
   "outputs": [
    {
     "data": {
      "text/plain": [
       "True"
      ]
     },
     "execution_count": 4,
     "metadata": {},
     "output_type": "execute_result"
    }
   ],
   "source": [
    "is_symmentrical(7227)"
   ]
  },
  {
   "cell_type": "code",
   "execution_count": 5,
   "id": "4711f647",
   "metadata": {},
   "outputs": [
    {
     "data": {
      "text/plain": [
       "False"
      ]
     },
     "execution_count": 5,
     "metadata": {},
     "output_type": "execute_result"
    }
   ],
   "source": [
    "is_symmentrical(112567)"
   ]
  },
  {
   "cell_type": "code",
   "execution_count": 6,
   "id": "512afbb3",
   "metadata": {},
   "outputs": [
    {
     "data": {
      "text/plain": [
       "True"
      ]
     },
     "execution_count": 6,
     "metadata": {},
     "output_type": "execute_result"
    }
   ],
   "source": [
    "is_symmentrical(1112111)"
   ]
  },
  {
   "cell_type": "markdown",
   "id": "44fd37ed",
   "metadata": {},
   "source": [
    "### Question 2: Given a string of numbers separated by a comma and space, return the product of the numbers.\n",
    "\n",
    "Examples\n",
    "\n",
    "multiply_nums(&quot;2, 3&quot;) ➞ 6\n",
    "\n",
    "multiply_nums(&quot;1, 2, 3, 4&quot;) ➞ 24\n",
    "\n",
    "multiply_nums(&quot;54, 75, 453, 0&quot;) ➞ 0\n",
    "\n",
    "multiply_nums(&quot;10, -2&quot;) ➞ -20"
   ]
  },
  {
   "cell_type": "code",
   "execution_count": 7,
   "id": "a78031bf",
   "metadata": {},
   "outputs": [],
   "source": [
    "def muliply_nums(st):\n",
    "    nums = st.split(\",\")\n",
    "    mul = 1\n",
    "    for i in nums:\n",
    "        mul *= int(i)\n",
    "        \n",
    "    return mul"
   ]
  },
  {
   "cell_type": "code",
   "execution_count": 8,
   "id": "53943a4f",
   "metadata": {},
   "outputs": [
    {
     "data": {
      "text/plain": [
       "24"
      ]
     },
     "execution_count": 8,
     "metadata": {},
     "output_type": "execute_result"
    }
   ],
   "source": [
    "muliply_nums(\"1,2,3,4\")"
   ]
  },
  {
   "cell_type": "code",
   "execution_count": 9,
   "id": "6a023819",
   "metadata": {},
   "outputs": [
    {
     "data": {
      "text/plain": [
       "0"
      ]
     },
     "execution_count": 9,
     "metadata": {},
     "output_type": "execute_result"
    }
   ],
   "source": [
    "muliply_nums(\"54,75,453,0\")"
   ]
  },
  {
   "cell_type": "markdown",
   "id": "204439c2",
   "metadata": {},
   "source": [
    "### Question 3 : Create a function that squares every digit of a number.\n",
    "\n",
    "Examples\n",
    "\n",
    "square_digits(9119) ➞ 811181\n",
    "\n",
    "square_digits(2483) ➞ 416649\n",
    "\n",
    "square_digits(3212) ➞ 9414\n",
    "\n",
    "Notes\n",
    "\n",
    "The function receives an integer and must return an integer."
   ]
  },
  {
   "cell_type": "code",
   "execution_count": 10,
   "id": "1ed4c454",
   "metadata": {},
   "outputs": [],
   "source": [
    "def square_digits(num):\n",
    "    s_num = str(num)\n",
    "    out = \"\"\n",
    "    for i in s_num:\n",
    "        out +=str(int(i)**2)\n",
    "        \n",
    "    return int(out)"
   ]
  },
  {
   "cell_type": "code",
   "execution_count": 11,
   "id": "83a52703",
   "metadata": {},
   "outputs": [
    {
     "data": {
      "text/plain": [
       "811181"
      ]
     },
     "execution_count": 11,
     "metadata": {},
     "output_type": "execute_result"
    }
   ],
   "source": [
    "square_digits(9119)"
   ]
  },
  {
   "cell_type": "code",
   "execution_count": 12,
   "id": "cf283132",
   "metadata": {},
   "outputs": [
    {
     "data": {
      "text/plain": [
       "416649"
      ]
     },
     "execution_count": 12,
     "metadata": {},
     "output_type": "execute_result"
    }
   ],
   "source": [
    "square_digits(2483)"
   ]
  },
  {
   "cell_type": "markdown",
   "id": "c7fe2f8b",
   "metadata": {},
   "source": [
    "### Question 4 : Create a function that sorts a list and removes all duplicate items from it.\n",
    "\n",
    "Examples\n",
    "\n",
    "setify([1, 3, 3, 5, 5]) ➞ [1, 3, 5]\n",
    "\n",
    "setify([4, 4, 4, 4]) ➞ [4]\n",
    "\n",
    "setify([5, 7, 8, 9, 10, 15]) ➞ [5, 7, 8, 9, 10, 15]\n",
    "\n",
    "setify([3, 3, 3, 2, 1]) ➞ [1, 2, 3]"
   ]
  },
  {
   "cell_type": "code",
   "execution_count": 13,
   "id": "78a99d8f",
   "metadata": {},
   "outputs": [],
   "source": [
    "def setify(lst):\n",
    "    out = list(set(lst))\n",
    "    out.sort()\n",
    "    return out"
   ]
  },
  {
   "cell_type": "code",
   "execution_count": 14,
   "id": "525dd5ab",
   "metadata": {},
   "outputs": [
    {
     "data": {
      "text/plain": [
       "[1, 3, 5]"
      ]
     },
     "execution_count": 14,
     "metadata": {},
     "output_type": "execute_result"
    }
   ],
   "source": [
    "setify([1,3,3,3,5,5])"
   ]
  },
  {
   "cell_type": "code",
   "execution_count": 15,
   "id": "da2ebea7",
   "metadata": {},
   "outputs": [
    {
     "data": {
      "text/plain": [
       "[4]"
      ]
     },
     "execution_count": 15,
     "metadata": {},
     "output_type": "execute_result"
    }
   ],
   "source": [
    "setify([4,4,4,4,4])"
   ]
  },
  {
   "cell_type": "code",
   "execution_count": 16,
   "id": "1052ebab",
   "metadata": {},
   "outputs": [
    {
     "data": {
      "text/plain": [
       "[1, 2, 3]"
      ]
     },
     "execution_count": 16,
     "metadata": {},
     "output_type": "execute_result"
    }
   ],
   "source": [
    "setify([3,3,3,2,2,1])"
   ]
  },
  {
   "cell_type": "markdown",
   "id": "442ebb86",
   "metadata": {},
   "source": [
    "### Question 5 : Create a function that returns the mean of all digits.\n",
    "\n",
    "Examples\n",
    "\n",
    "mean(42) ➞ 3\n",
    "\n",
    "mean(12345) ➞ 3\n",
    "\n",
    "mean(666) ➞ 6\n",
    "\n",
    "Notes\n",
    "\n",
    " The mean of all digits is the sum of digits / how many digits there are (e.g. mean of digits in 512 is (5+1+2)/3(number of digits) = 8/3=2).\n",
    "\n",
    " The mean will always be an integer."
   ]
  },
  {
   "cell_type": "code",
   "execution_count": 19,
   "id": "7d377f93",
   "metadata": {},
   "outputs": [],
   "source": [
    "def mean(num):\n",
    "    total = 0\n",
    "    s_num = str(num)\n",
    "    for i in s_num:\n",
    "        total += int(i)\n",
    "        \n",
    "    return total//len(s_num)\n",
    "        "
   ]
  },
  {
   "cell_type": "code",
   "execution_count": 20,
   "id": "73c4a555",
   "metadata": {},
   "outputs": [
    {
     "data": {
      "text/plain": [
       "3"
      ]
     },
     "execution_count": 20,
     "metadata": {},
     "output_type": "execute_result"
    }
   ],
   "source": [
    "mean(42)"
   ]
  },
  {
   "cell_type": "code",
   "execution_count": 21,
   "id": "d2950321",
   "metadata": {},
   "outputs": [
    {
     "data": {
      "text/plain": [
       "3"
      ]
     },
     "execution_count": 21,
     "metadata": {},
     "output_type": "execute_result"
    }
   ],
   "source": [
    "mean(12345)"
   ]
  },
  {
   "cell_type": "code",
   "execution_count": 22,
   "id": "3b37b177",
   "metadata": {},
   "outputs": [
    {
     "data": {
      "text/plain": [
       "6"
      ]
     },
     "execution_count": 22,
     "metadata": {},
     "output_type": "execute_result"
    }
   ],
   "source": [
    "mean(666)"
   ]
  },
  {
   "cell_type": "code",
   "execution_count": null,
   "id": "85fee588",
   "metadata": {},
   "outputs": [],
   "source": []
  }
 ],
 "metadata": {
  "kernelspec": {
   "display_name": "Python 3 (ipykernel)",
   "language": "python",
   "name": "python3"
  },
  "language_info": {
   "codemirror_mode": {
    "name": "ipython",
    "version": 3
   },
   "file_extension": ".py",
   "mimetype": "text/x-python",
   "name": "python",
   "nbconvert_exporter": "python",
   "pygments_lexer": "ipython3",
   "version": "3.9.7"
  }
 },
 "nbformat": 4,
 "nbformat_minor": 5
}
