{
 "cells": [
  {
   "cell_type": "markdown",
   "id": "fd6f5ec4",
   "metadata": {},
   "source": [
    "### Question1. Write a function that stutters a word as if someone is struggling to read it. The first two letters are repeated twice with an ellipsis ... and space after each, and then the word is pronounced with a question mark ?.\n",
    "Examples\n",
    "\n",
    "stutter(&quot;incredible&quot;) ➞ &quot;in... in... incredible?&quot;\n",
    "\n",
    "stutter(&quot;enthusiastic&quot;) ➞ &quot;en... en... enthusiastic?&quot;\n",
    "\n",
    "stutter(&quot;outstanding&quot;) ➞ &quot;ou... ou... outstanding?&quot;\n",
    "\n",
    "Hint :- Assume all input is in lower case and at least two characters long."
   ]
  },
  {
   "cell_type": "code",
   "execution_count": 1,
   "id": "47c631ac",
   "metadata": {},
   "outputs": [],
   "source": [
    "def stutter(sentence):\n",
    "    out = sentence[:2]+\"..\"+sentence[:2]+\"..\"+sentence+\"?\"\n",
    "    return out"
   ]
  },
  {
   "cell_type": "code",
   "execution_count": 2,
   "id": "b8f3bf2c",
   "metadata": {},
   "outputs": [
    {
     "data": {
      "text/plain": [
       "'in..in..incredible?'"
      ]
     },
     "execution_count": 2,
     "metadata": {},
     "output_type": "execute_result"
    }
   ],
   "source": [
    "stutter(\"incredible\")"
   ]
  },
  {
   "cell_type": "code",
   "execution_count": 3,
   "id": "e0665263",
   "metadata": {},
   "outputs": [
    {
     "data": {
      "text/plain": [
       "'ou..ou..outstanding?'"
      ]
     },
     "execution_count": 3,
     "metadata": {},
     "output_type": "execute_result"
    }
   ],
   "source": [
    "stutter(\"outstanding\")"
   ]
  },
  {
   "cell_type": "markdown",
   "id": "281b6561",
   "metadata": {},
   "source": [
    "### Question 2.Create a function that takes an angle in radians and returns the corresponding angle in degrees rounded to one decimal place.\n",
    "\n",
    "Examples\n",
    "\n",
    "radians_to_degrees(1) ➞ 57.3\n",
    "\n",
    "radians_to_degrees(20) ➞ 1145.9\n",
    "\n",
    "radians_to_degrees(50) ➞ 2864.8"
   ]
  },
  {
   "cell_type": "code",
   "execution_count": 20,
   "id": "a5bc372b",
   "metadata": {},
   "outputs": [],
   "source": [
    "def rad_to_deg(rad):\n",
    "    deg = rad * (180/(22/7))\n",
    "    out = round(deg,1)\n",
    "    return out"
   ]
  },
  {
   "cell_type": "code",
   "execution_count": 21,
   "id": "5892d227",
   "metadata": {},
   "outputs": [
    {
     "data": {
      "text/plain": [
       "57.3"
      ]
     },
     "execution_count": 21,
     "metadata": {},
     "output_type": "execute_result"
    }
   ],
   "source": [
    "rad_to_deg(1)"
   ]
  },
  {
   "cell_type": "code",
   "execution_count": 22,
   "id": "c0f06d90",
   "metadata": {},
   "outputs": [
    {
     "data": {
      "text/plain": [
       "1145.5"
      ]
     },
     "execution_count": 22,
     "metadata": {},
     "output_type": "execute_result"
    }
   ],
   "source": [
    "rad_to_deg(20)"
   ]
  },
  {
   "cell_type": "code",
   "execution_count": 23,
   "id": "dfc7d6a1",
   "metadata": {},
   "outputs": [
    {
     "data": {
      "text/plain": [
       "2863.6"
      ]
     },
     "execution_count": 23,
     "metadata": {},
     "output_type": "execute_result"
    }
   ],
   "source": [
    "rad_to_deg(50)"
   ]
  },
  {
   "cell_type": "markdown",
   "id": "36f80f88",
   "metadata": {},
   "source": [
    "### Question 3. In this challenge, establish if a given integer num is a Curzon number. If 1 plus 2 elevated to num is exactly divisible by 1 plus 2 multiplied by num, then num is a Curzon number.\n",
    "\n",
    "Given a non-negative integer num, implement a function that returns True if num is a Curzon\n",
    "number, or False otherwise.\n",
    "\n",
    "Examples\n",
    "\n",
    "is_curzon(5) ➞ True\n",
    "\n",
    "2 ** 5 + 1 = 33\n",
    "\n",
    "2 * 5 + 1 = 11\n",
    "\n",
    "33 is a multiple of 11\n",
    "\n",
    "is_curzon(10) ➞ False\n",
    "\n",
    "2 ** 10 + 1 = 1025\n",
    "\n",
    "2 * 10 + 1 = 21\n",
    "\n",
    "1025 is not a multiple of 21\n",
    "\n",
    "is_curzon(14) ➞ True\n",
    "\n",
    "2 ** 14 + 1 = 16385\n",
    "\n",
    "2 * 14 + 1 = 29\n",
    "\n",
    "16385 is a multiple of 29"
   ]
  },
  {
   "cell_type": "code",
   "execution_count": 24,
   "id": "342256da",
   "metadata": {},
   "outputs": [],
   "source": [
    "def curzon_num(num):\n",
    "    nu = (2**num) + 1\n",
    "    de = (2*num) + 1\n",
    "    \n",
    "    if nu % de == 0:\n",
    "        return True\n",
    "    else:\n",
    "        return False"
   ]
  },
  {
   "cell_type": "code",
   "execution_count": 25,
   "id": "b404e3bb",
   "metadata": {},
   "outputs": [
    {
     "data": {
      "text/plain": [
       "True"
      ]
     },
     "execution_count": 25,
     "metadata": {},
     "output_type": "execute_result"
    }
   ],
   "source": [
    "curzon_num(5)"
   ]
  },
  {
   "cell_type": "code",
   "execution_count": 26,
   "id": "5b08c33c",
   "metadata": {},
   "outputs": [
    {
     "data": {
      "text/plain": [
       "False"
      ]
     },
     "execution_count": 26,
     "metadata": {},
     "output_type": "execute_result"
    }
   ],
   "source": [
    "curzon_num(10)"
   ]
  },
  {
   "cell_type": "code",
   "execution_count": 27,
   "id": "1de76c5c",
   "metadata": {},
   "outputs": [
    {
     "data": {
      "text/plain": [
       "True"
      ]
     },
     "execution_count": 27,
     "metadata": {},
     "output_type": "execute_result"
    }
   ],
   "source": [
    "curzon_num(14)"
   ]
  },
  {
   "cell_type": "markdown",
   "id": "ce49f09b",
   "metadata": {},
   "source": [
    "### Question 4.Given the side length x find the area of a hexagon."
   ]
  },
  {
   "cell_type": "code",
   "execution_count": 28,
   "id": "54a46336",
   "metadata": {},
   "outputs": [],
   "source": [
    "def area_hexagon(a):\n",
    "    out = (3*(3**0.5)/2)*(a**2)\n",
    "    return out"
   ]
  },
  {
   "cell_type": "code",
   "execution_count": 29,
   "id": "21616575",
   "metadata": {},
   "outputs": [
    {
     "data": {
      "text/plain": [
       "10.392304845413264"
      ]
     },
     "execution_count": 29,
     "metadata": {},
     "output_type": "execute_result"
    }
   ],
   "source": [
    "area_hexagon(2)"
   ]
  },
  {
   "cell_type": "code",
   "execution_count": 30,
   "id": "2c4c9403",
   "metadata": {},
   "outputs": [
    {
     "data": {
      "text/plain": [
       "23.382685902179844"
      ]
     },
     "execution_count": 30,
     "metadata": {},
     "output_type": "execute_result"
    }
   ],
   "source": [
    "area_hexagon(3)"
   ]
  },
  {
   "cell_type": "markdown",
   "id": "40ef69e9",
   "metadata": {},
   "source": [
    "### Question 5. Create a function that returns a base-2 (binary) representation of a base-10 (decimal) string number. To convert is simple: ((2) means base-2 and (10) means base-10)\n",
    "\n",
    "010101001(2) = 1 + 8 + 32 + 128.\n",
    "\n",
    "Going from right to left, the value of the most right bit is 1, now from that every bit to the left will be x2 the value, value of an 8 bit binary numbers are (256, 128, 64, 32, 16, 8, 4, 2, 1).\n",
    "\n",
    "Examples\n",
    "\n",
    "binary(1) ➞ &quot;1&quot;\n",
    "\n",
    "1*1 = 1\n",
    "\n",
    "binary(5) ➞ &quot;101&quot;\n",
    "\n",
    "1*1 + 1*4 = 5\n",
    "\n",
    "binary(10) ➞ &quot;1010&quot;\n",
    "\n",
    "1*2 + 1*8 = 10"
   ]
  },
  {
   "cell_type": "code",
   "execution_count": 9,
   "id": "7fcdc75a",
   "metadata": {},
   "outputs": [],
   "source": [
    "def binary(num):\n",
    "    n = bin(num)\n",
    "    return n[2:]"
   ]
  },
  {
   "cell_type": "code",
   "execution_count": 10,
   "id": "d7d7338f",
   "metadata": {},
   "outputs": [
    {
     "data": {
      "text/plain": [
       "'101'"
      ]
     },
     "execution_count": 10,
     "metadata": {},
     "output_type": "execute_result"
    }
   ],
   "source": [
    "binary(5)"
   ]
  },
  {
   "cell_type": "code",
   "execution_count": 11,
   "id": "c1406fa7",
   "metadata": {},
   "outputs": [
    {
     "data": {
      "text/plain": [
       "'1010'"
      ]
     },
     "execution_count": 11,
     "metadata": {},
     "output_type": "execute_result"
    }
   ],
   "source": [
    "binary(10)"
   ]
  },
  {
   "cell_type": "code",
   "execution_count": null,
   "id": "4102adac",
   "metadata": {},
   "outputs": [],
   "source": []
  },
  {
   "cell_type": "code",
   "execution_count": null,
   "id": "882bf6c9",
   "metadata": {},
   "outputs": [],
   "source": []
  }
 ],
 "metadata": {
  "kernelspec": {
   "display_name": "Python 3 (ipykernel)",
   "language": "python",
   "name": "python3"
  },
  "language_info": {
   "codemirror_mode": {
    "name": "ipython",
    "version": 3
   },
   "file_extension": ".py",
   "mimetype": "text/x-python",
   "name": "python",
   "nbconvert_exporter": "python",
   "pygments_lexer": "ipython3",
   "version": "3.9.7"
  }
 },
 "nbformat": 4,
 "nbformat_minor": 5
}
