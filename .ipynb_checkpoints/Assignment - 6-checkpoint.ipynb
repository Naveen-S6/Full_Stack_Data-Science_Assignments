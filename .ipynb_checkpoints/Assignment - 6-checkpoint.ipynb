{
 "cells": [
  {
   "cell_type": "markdown",
   "id": "d76bd88b",
   "metadata": {},
   "source": [
    "### 1. What are escape characters, and how do you use them?"
   ]
  },
  {
   "cell_type": "markdown",
   "id": "4269ed20",
   "metadata": {},
   "source": [
    "Escape characters are used to insert the illegal charachters inside the string"
   ]
  },
  {
   "cell_type": "code",
   "execution_count": 1,
   "id": "168be821",
   "metadata": {},
   "outputs": [
    {
     "ename": "SyntaxError",
     "evalue": "invalid syntax (Temp/ipykernel_6944/2397838783.py, line 1)",
     "output_type": "error",
     "traceback": [
      "\u001b[1;36m  File \u001b[1;32m\"C:\\Users\\91638\\AppData\\Local\\Temp/ipykernel_6944/2397838783.py\"\u001b[1;36m, line \u001b[1;32m1\u001b[0m\n\u001b[1;33m    n =\"Naveen is a \"Programmer\"\"\u001b[0m\n\u001b[1;37m                     ^\u001b[0m\n\u001b[1;31mSyntaxError\u001b[0m\u001b[1;31m:\u001b[0m invalid syntax\n"
     ]
    }
   ],
   "source": [
    "n =\"Naveen is a \"Programmer\"\""
   ]
  },
  {
   "cell_type": "code",
   "execution_count": 31,
   "id": "3c7ff72e",
   "metadata": {},
   "outputs": [],
   "source": [
    "n = \"Naveen is a \\\"Programmer\\\"\""
   ]
  },
  {
   "cell_type": "code",
   "execution_count": 32,
   "id": "2ce60f84",
   "metadata": {},
   "outputs": [
    {
     "data": {
      "text/plain": [
       "'Naveen is a \"Programmer\"'"
      ]
     },
     "execution_count": 32,
     "metadata": {},
     "output_type": "execute_result"
    }
   ],
   "source": [
    "n"
   ]
  },
  {
   "cell_type": "markdown",
   "id": "4de4fc60",
   "metadata": {},
   "source": [
    "### 2. What do the escape characters n and t stand for?"
   ]
  },
  {
   "cell_type": "markdown",
   "id": "68ccbb85",
   "metadata": {},
   "source": [
    "n stands for new line and t stands for tab space"
   ]
  },
  {
   "cell_type": "markdown",
   "id": "6dfd16f8",
   "metadata": {},
   "source": [
    "### 3. What is the way to include backslash characters in a string?"
   ]
  },
  {
   "cell_type": "markdown",
   "id": "45f900c2",
   "metadata": {},
   "source": [
    "By using two Backslashes"
   ]
  },
  {
   "cell_type": "markdown",
   "id": "522b4a5b",
   "metadata": {},
   "source": [
    "### 4. The string &quot;Howl&#39;s Moving Castle&quot; is a correct value. Why isn&#39;t the single quote character in the word Howl&#39;s not escaped a problem?"
   ]
  },
  {
   "cell_type": "markdown",
   "id": "f56cae49",
   "metadata": {},
   "source": [
    "Beacuse it is inside the double quotes, as the outer quotes and inner quotes is different. It won't through any error"
   ]
  },
  {
   "cell_type": "markdown",
   "id": "a945a589",
   "metadata": {},
   "source": [
    "### 6. What are the values of the given expressions?\n",
    "&#39;Hello, world!&#39;[1]\n",
    "&#39;Hello, world!&#39;[0:5]\n",
    "&#39;Hello, world!&#39;[:5]\n",
    "&#39;Hello, world!&#39;[3:]"
   ]
  },
  {
   "cell_type": "code",
   "execution_count": 40,
   "id": "9eb9b4c3",
   "metadata": {},
   "outputs": [
    {
     "data": {
      "text/plain": [
       "'e'"
      ]
     },
     "execution_count": 40,
     "metadata": {},
     "output_type": "execute_result"
    }
   ],
   "source": [
    "\"Hello,world\"[1]"
   ]
  },
  {
   "cell_type": "code",
   "execution_count": 41,
   "id": "e4a06744",
   "metadata": {},
   "outputs": [
    {
     "data": {
      "text/plain": [
       "'Hello'"
      ]
     },
     "execution_count": 41,
     "metadata": {},
     "output_type": "execute_result"
    }
   ],
   "source": [
    "\"Hello,world\"[0:5]"
   ]
  },
  {
   "cell_type": "code",
   "execution_count": 48,
   "id": "0033b9d2",
   "metadata": {},
   "outputs": [
    {
     "data": {
      "text/plain": [
       "'Hello'"
      ]
     },
     "execution_count": 48,
     "metadata": {},
     "output_type": "execute_result"
    }
   ],
   "source": [
    "\"Hello,world\"[:5]"
   ]
  },
  {
   "cell_type": "code",
   "execution_count": 43,
   "id": "b031516a",
   "metadata": {},
   "outputs": [
    {
     "data": {
      "text/plain": [
       "'lo,world'"
      ]
     },
     "execution_count": 43,
     "metadata": {},
     "output_type": "execute_result"
    }
   ],
   "source": [
    "\"Hello,world\"[3:]"
   ]
  },
  {
   "cell_type": "markdown",
   "id": "da9beb35",
   "metadata": {},
   "source": [
    "7. What are the values of the following expressions?\n",
    "&#39;Hello&#39;.upper()\n",
    "&#39;Hello&#39;.upper().isupper()\n",
    "&#39;Hello&#39;.upper().lower()"
   ]
  },
  {
   "cell_type": "code",
   "execution_count": 45,
   "id": "4bcf7404",
   "metadata": {},
   "outputs": [
    {
     "data": {
      "text/plain": [
       "'HELLO'"
      ]
     },
     "execution_count": 45,
     "metadata": {},
     "output_type": "execute_result"
    }
   ],
   "source": [
    "\"Hello\".upper()"
   ]
  },
  {
   "cell_type": "code",
   "execution_count": 46,
   "id": "e2999a70",
   "metadata": {},
   "outputs": [
    {
     "data": {
      "text/plain": [
       "True"
      ]
     },
     "execution_count": 46,
     "metadata": {},
     "output_type": "execute_result"
    }
   ],
   "source": [
    "\"Hello\".upper().isupper()"
   ]
  },
  {
   "cell_type": "code",
   "execution_count": 47,
   "id": "5fe821d7",
   "metadata": {},
   "outputs": [
    {
     "data": {
      "text/plain": [
       "False"
      ]
     },
     "execution_count": 47,
     "metadata": {},
     "output_type": "execute_result"
    }
   ],
   "source": [
    "\"Hello\".upper().islower()"
   ]
  },
  {
   "cell_type": "markdown",
   "id": "0895442e",
   "metadata": {},
   "source": [
    "### 8. What are the values of the following expressions?\n",
    "\n",
    "&#39;Remember, remember, the fifth of July.&#39;.split()\n",
    "\n",
    "&#39;-&#39;.join(&#39;There can only one.&#39;.split())"
   ]
  },
  {
   "cell_type": "code",
   "execution_count": 49,
   "id": "844d7c29",
   "metadata": {},
   "outputs": [
    {
     "data": {
      "text/plain": [
       "['Remember,', 'remember,', 'the', 'fifith', 'of', 'July']"
      ]
     },
     "execution_count": 49,
     "metadata": {},
     "output_type": "execute_result"
    }
   ],
   "source": [
    "\"Remember, remember, the fifith of July\".split()"
   ]
  },
  {
   "cell_type": "code",
   "execution_count": 50,
   "id": "47968a11",
   "metadata": {},
   "outputs": [
    {
     "data": {
      "text/plain": [
       "'There-can-only-one.'"
      ]
     },
     "execution_count": 50,
     "metadata": {},
     "output_type": "execute_result"
    }
   ],
   "source": [
    "\"-\".join(\"There can only one.\".split())"
   ]
  },
  {
   "cell_type": "markdown",
   "id": "53f5364d",
   "metadata": {},
   "source": [
    "### 9. What are the methods for right-justifying, left-justifying, and centering a string?"
   ]
  },
  {
   "cell_type": "code",
   "execution_count": 51,
   "id": "bddce176",
   "metadata": {},
   "outputs": [],
   "source": [
    "n = \"Naveen is a Programmer\""
   ]
  },
  {
   "cell_type": "code",
   "execution_count": 55,
   "id": "55cd0035",
   "metadata": {},
   "outputs": [
    {
     "data": {
      "text/plain": [
       "'Naveen is a Programmer------------------'"
      ]
     },
     "execution_count": 55,
     "metadata": {},
     "output_type": "execute_result"
    }
   ],
   "source": [
    "n.ljust(40, \"-\")"
   ]
  },
  {
   "cell_type": "code",
   "execution_count": 56,
   "id": "ebb353d9",
   "metadata": {},
   "outputs": [
    {
     "data": {
      "text/plain": [
       "'------------------Naveen is a Programmer'"
      ]
     },
     "execution_count": 56,
     "metadata": {},
     "output_type": "execute_result"
    }
   ],
   "source": [
    "n.rjust(40, \"-\")"
   ]
  },
  {
   "cell_type": "code",
   "execution_count": 57,
   "id": "45dbbb48",
   "metadata": {},
   "outputs": [
    {
     "data": {
      "text/plain": [
       "'---------Naveen is a Programmer---------'"
      ]
     },
     "execution_count": 57,
     "metadata": {},
     "output_type": "execute_result"
    }
   ],
   "source": [
    "n.center(40,\"-\")"
   ]
  },
  {
   "cell_type": "markdown",
   "id": "c224fbe5",
   "metadata": {},
   "source": [
    "### 10. What is the best way to remove whitespace characters from the start or end?"
   ]
  },
  {
   "cell_type": "code",
   "execution_count": 60,
   "id": "a11a2f2e",
   "metadata": {},
   "outputs": [],
   "source": [
    "n2 = \"                  Naveen is a Programmer                   \""
   ]
  },
  {
   "cell_type": "code",
   "execution_count": 61,
   "id": "41d2e2a9",
   "metadata": {},
   "outputs": [
    {
     "data": {
      "text/plain": [
       "'Naveen is a Programmer                   '"
      ]
     },
     "execution_count": 61,
     "metadata": {},
     "output_type": "execute_result"
    }
   ],
   "source": [
    "n2.lstrip()"
   ]
  },
  {
   "cell_type": "code",
   "execution_count": 62,
   "id": "91a9475e",
   "metadata": {},
   "outputs": [
    {
     "data": {
      "text/plain": [
       "'                  Naveen is a Programmer'"
      ]
     },
     "execution_count": 62,
     "metadata": {},
     "output_type": "execute_result"
    }
   ],
   "source": [
    "n2.rstrip()"
   ]
  },
  {
   "cell_type": "code",
   "execution_count": 63,
   "id": "f7921298",
   "metadata": {},
   "outputs": [
    {
     "data": {
      "text/plain": [
       "'Naveen is a Programmer'"
      ]
     },
     "execution_count": 63,
     "metadata": {},
     "output_type": "execute_result"
    }
   ],
   "source": [
    "n2.strip()"
   ]
  },
  {
   "cell_type": "code",
   "execution_count": null,
   "id": "9823448c",
   "metadata": {},
   "outputs": [],
   "source": []
  }
 ],
 "metadata": {
  "kernelspec": {
   "display_name": "Python 3 (ipykernel)",
   "language": "python",
   "name": "python3"
  },
  "language_info": {
   "codemirror_mode": {
    "name": "ipython",
    "version": 3
   },
   "file_extension": ".py",
   "mimetype": "text/x-python",
   "name": "python",
   "nbconvert_exporter": "python",
   "pygments_lexer": "ipython3",
   "version": "3.9.7"
  }
 },
 "nbformat": 4,
 "nbformat_minor": 5
}
