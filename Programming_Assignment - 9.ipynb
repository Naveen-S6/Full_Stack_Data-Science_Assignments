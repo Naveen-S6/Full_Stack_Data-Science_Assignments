{
 "cells": [
  {
   "cell_type": "markdown",
   "id": "e23f9997",
   "metadata": {},
   "source": [
    "### 1. Write a Python program to check if the given number is a Disarium Number?"
   ]
  },
  {
   "cell_type": "markdown",
   "id": "4c6aa7ac",
   "metadata": {},
   "source": [
    "A number is called Disarium if sum of its digits powered with their respective positions is equal to the number itself."
   ]
  },
  {
   "cell_type": "code",
   "execution_count": 11,
   "id": "293c2691",
   "metadata": {},
   "outputs": [],
   "source": [
    "def CheckDisarium(num):\n",
    "    str_num = str(num)\n",
    "    total = 0\n",
    "    for i, val in enumerate(str_num):\n",
    "        total += int(val) ** (i+1)\n",
    "    \n",
    "    if total == num:\n",
    "        print(\"It is a Disarium Number\")\n",
    "    else:\n",
    "        print(\"It is not a Disarium Number\")"
   ]
  },
  {
   "cell_type": "code",
   "execution_count": 12,
   "id": "67d74852",
   "metadata": {},
   "outputs": [
    {
     "name": "stdout",
     "output_type": "stream",
     "text": [
      "It is a Disarium Number\n"
     ]
    }
   ],
   "source": [
    "CheckDisarium(89)"
   ]
  },
  {
   "cell_type": "code",
   "execution_count": 13,
   "id": "888e042a",
   "metadata": {},
   "outputs": [
    {
     "name": "stdout",
     "output_type": "stream",
     "text": [
      "It is not a Disarium Number\n"
     ]
    }
   ],
   "source": [
    "CheckDisarium(81)"
   ]
  },
  {
   "cell_type": "code",
   "execution_count": 14,
   "id": "24459c8b",
   "metadata": {},
   "outputs": [
    {
     "name": "stdout",
     "output_type": "stream",
     "text": [
      "It is a Disarium Number\n"
     ]
    }
   ],
   "source": [
    "CheckDisarium(135)"
   ]
  },
  {
   "cell_type": "markdown",
   "id": "3c769d66",
   "metadata": {},
   "source": [
    "### 2. Write a Python program to print all disarium numbers between 1 to 100?"
   ]
  },
  {
   "cell_type": "code",
   "execution_count": 18,
   "id": "9c597105",
   "metadata": {},
   "outputs": [],
   "source": [
    "def CheckDisariumRange(start,end):\n",
    "    Disarium_numbers = []\n",
    "    for i in range(start,end):\n",
    "        str_num = str(i)\n",
    "        total = 0\n",
    "        for index, val in enumerate(str_num):\n",
    "            total += int(val) ** (index+1)\n",
    "\n",
    "        if total == i:\n",
    "            Disarium_numbers.append(i)\n",
    "            \n",
    "    return Disarium_numbers"
   ]
  },
  {
   "cell_type": "code",
   "execution_count": 20,
   "id": "14dd58c9",
   "metadata": {},
   "outputs": [
    {
     "data": {
      "text/plain": [
       "[1, 2, 3, 4, 5, 6, 7, 8, 9, 89]"
      ]
     },
     "execution_count": 20,
     "metadata": {},
     "output_type": "execute_result"
    }
   ],
   "source": [
    "CheckDisariumRange(1,100)"
   ]
  },
  {
   "cell_type": "markdown",
   "id": "f4bf61a4",
   "metadata": {},
   "source": [
    "### 3. Write a Python program to check if the given number is Happy Number?"
   ]
  },
  {
   "cell_type": "code",
   "execution_count": 1,
   "id": "620b01c9",
   "metadata": {},
   "outputs": [],
   "source": [
    "def SumSquare(num):\n",
    "    str_num = str(num)\n",
    "    total = 0\n",
    "    for i in str_num:\n",
    "        total += int(i) **2\n",
    "    return total"
   ]
  },
  {
   "cell_type": "code",
   "execution_count": 2,
   "id": "3c161da2",
   "metadata": {},
   "outputs": [
    {
     "data": {
      "text/plain": [
       "82"
      ]
     },
     "execution_count": 2,
     "metadata": {},
     "output_type": "execute_result"
    }
   ],
   "source": [
    "SumSquare(19)"
   ]
  },
  {
   "cell_type": "code",
   "execution_count": 13,
   "id": "e9362ab4",
   "metadata": {},
   "outputs": [],
   "source": [
    "def HappyNumber(num):\n",
    "    total = num\n",
    "    if num>0:\n",
    "        while total != 1 and total !=4 and len(str(num))>1:\n",
    "            total = SumSquare(total)\n",
    "    if total == 1:\n",
    "        print(\"It is a Happy Number\")\n",
    "    else:\n",
    "        print(\"It is not a Happy Number\")\n",
    "    return total"
   ]
  },
  {
   "cell_type": "code",
   "execution_count": 14,
   "id": "9c749348",
   "metadata": {},
   "outputs": [
    {
     "name": "stdout",
     "output_type": "stream",
     "text": [
      "It is not a Happy Number\n"
     ]
    },
    {
     "data": {
      "text/plain": [
       "4"
      ]
     },
     "execution_count": 14,
     "metadata": {},
     "output_type": "execute_result"
    }
   ],
   "source": [
    "HappyNumber(11)"
   ]
  },
  {
   "cell_type": "code",
   "execution_count": 9,
   "id": "e9acd5dd",
   "metadata": {},
   "outputs": [
    {
     "name": "stdout",
     "output_type": "stream",
     "text": [
      "It is a Happy Number\n"
     ]
    },
    {
     "data": {
      "text/plain": [
       "1"
      ]
     },
     "execution_count": 9,
     "metadata": {},
     "output_type": "execute_result"
    }
   ],
   "source": [
    "HappyNumber(19)"
   ]
  },
  {
   "cell_type": "markdown",
   "id": "bba93d38",
   "metadata": {},
   "source": [
    "### 4. Write a Python program to print all happy numbers between 1 and 100?"
   ]
  },
  {
   "cell_type": "code",
   "execution_count": 17,
   "id": "da529cf2",
   "metadata": {},
   "outputs": [],
   "source": [
    "def HappyNumberRange(start,end):\n",
    "    Happy_num_list =[]\n",
    "    for i in range(start,end):\n",
    "        total = i\n",
    "        if i>0:\n",
    "            while total != 1 and total !=4 and len(str(i))>1:\n",
    "                total = SumSquare(total)\n",
    "        if total == 1:\n",
    "            Happy_num_list.append(i)\n",
    "    return Happy_num_list "
   ]
  },
  {
   "cell_type": "code",
   "execution_count": 18,
   "id": "5d64a887",
   "metadata": {},
   "outputs": [
    {
     "data": {
      "text/plain": [
       "[1, 10, 13, 19, 23, 28, 31, 32, 44, 49, 68, 70, 79, 82, 86, 91, 94, 97]"
      ]
     },
     "execution_count": 18,
     "metadata": {},
     "output_type": "execute_result"
    }
   ],
   "source": [
    "HappyNumberRange(1,100)"
   ]
  },
  {
   "cell_type": "markdown",
   "id": "a1ece9e5",
   "metadata": {},
   "source": [
    "### 5. Write a Python program to determine whether the given number is a Harshad Number?"
   ]
  },
  {
   "cell_type": "markdown",
   "id": "1dfab53c",
   "metadata": {},
   "source": [
    "A number is said to be the Harshad number if it is divisible by the sum of its digit."
   ]
  },
  {
   "cell_type": "code",
   "execution_count": 19,
   "id": "00104a8c",
   "metadata": {},
   "outputs": [],
   "source": [
    "def HarshadNumber(num):\n",
    "    str_num = str(num)\n",
    "    digit_sum =0\n",
    "    for i in str_num:\n",
    "        digit_sum += int(i)\n",
    "        \n",
    "    if num % digit_sum == 0:\n",
    "        print(\"It is a Harshad Number\")\n",
    "    else:\n",
    "        print(\"It is not a Harshad Number\")"
   ]
  },
  {
   "cell_type": "code",
   "execution_count": 23,
   "id": "94783eb2",
   "metadata": {},
   "outputs": [
    {
     "name": "stdout",
     "output_type": "stream",
     "text": [
      "It is not a Harshad Number\n"
     ]
    }
   ],
   "source": [
    "HarshadNumber(123)"
   ]
  },
  {
   "cell_type": "code",
   "execution_count": 24,
   "id": "42de39b0",
   "metadata": {},
   "outputs": [
    {
     "name": "stdout",
     "output_type": "stream",
     "text": [
      "It is a Harshad Number\n"
     ]
    }
   ],
   "source": [
    "HarshadNumber(156)"
   ]
  },
  {
   "cell_type": "markdown",
   "id": "43125940",
   "metadata": {},
   "source": [
    "### 6. Write a Python program to print all pronic numbers between 1 and 100?"
   ]
  },
  {
   "cell_type": "markdown",
   "id": "39df65a3",
   "metadata": {},
   "source": [
    "A pronic number is a number which is the product of two consecutive integers, that is, a number of the form n(n + 1)."
   ]
  },
  {
   "cell_type": "code",
   "execution_count": 30,
   "id": "a1d9c291",
   "metadata": {},
   "outputs": [],
   "source": [
    "def PronicNumber(start,end):\n",
    "    pronic_list =[]\n",
    "    for i in range(start,end):\n",
    "        new_term = i*(i+1)\n",
    "        pronic_list.append(new_term)\n",
    "        \n",
    "    return pronic_list"
   ]
  },
  {
   "cell_type": "code",
   "execution_count": 31,
   "id": "18795297",
   "metadata": {},
   "outputs": [
    {
     "data": {
      "text/plain": [
       "[2, 6, 12, 20, 30, 42, 56, 72, 90]"
      ]
     },
     "execution_count": 31,
     "metadata": {},
     "output_type": "execute_result"
    }
   ],
   "source": [
    "PronicNumber(1,10)"
   ]
  },
  {
   "cell_type": "code",
   "execution_count": null,
   "id": "e382c486",
   "metadata": {},
   "outputs": [],
   "source": []
  }
 ],
 "metadata": {
  "kernelspec": {
   "display_name": "Python 3 (ipykernel)",
   "language": "python",
   "name": "python3"
  },
  "language_info": {
   "codemirror_mode": {
    "name": "ipython",
    "version": 3
   },
   "file_extension": ".py",
   "mimetype": "text/x-python",
   "name": "python",
   "nbconvert_exporter": "python",
   "pygments_lexer": "ipython3",
   "version": "3.9.7"
  }
 },
 "nbformat": 4,
 "nbformat_minor": 5
}
